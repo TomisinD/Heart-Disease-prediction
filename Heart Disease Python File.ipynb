{
 "cells": [
  {
   "cell_type": "markdown",
   "id": "5ef49a06",
   "metadata": {},
   "source": [
    "### Importing Python Libraries"
   ]
  },
  {
   "cell_type": "code",
   "execution_count": 1,
   "id": "10bfa2bc",
   "metadata": {},
   "outputs": [],
   "source": [
    "import pandas as pd\n",
    "import numpy as np\n",
    "from sklearn.preprocessing import normalize\n",
    "import scipy.stats as stats\n",
    "import datetime\n",
    "import matplotlib.pyplot as plt\n",
    "import seaborn as sns\n",
    "import datetime\n",
    "import seaborn as sns\n",
    "from sklearn.preprocessing import StandardScaler\n",
    "from sklearn.model_selection import train_test_split\n",
    "from sklearn.metrics import confusion_matrix, accuracy_score\n",
    "from sklearn.preprocessing import LabelEncoder, QuantileTransformer, OneHotEncoder\n",
    "from sklearn.metrics import accuracy_score, confusion_matrix, classification_report, f1_score, precision_score, recall_score, roc_auc_score, roc_curve\n",
    "import tensorflow as tf\n",
    "from sklearn.ensemble import RandomForestClassifier, RandomForestRegressor\n",
    "from sklearn.metrics import accuracy_score, confusion_matrix, classification_report, mean_squared_error, r2_score\n",
    "from tensorflow import keras\n",
    "from imblearn.over_sampling import SMOTE\n",
    "from keras.models import Sequential\n",
    "from keras.layers import Dropout,Dense, Flatten\n",
    "from keras.utils import to_categorical\n",
    "from keras.layers.convolutional import Conv1D,MaxPooling1D\n",
    "from keras.optimizers import SGD\n",
    "from tensorflow.keras.layers import LSTM\n",
    "import warnings\n",
    "warnings.filterwarnings('ignore')\n"
   ]
  },
  {
   "cell_type": "markdown",
   "id": "1dc9ea60",
   "metadata": {},
   "source": [
    "### Importing Dataset"
   ]
  },
  {
   "cell_type": "code",
   "execution_count": 2,
   "id": "c718c067",
   "metadata": {},
   "outputs": [],
   "source": [
    "df1=pd.read_csv('C:/Users/Ojumu PC/Desktop/Dataset/heart_disease_uci.csv',low_memory=False)\n"
   ]
  },
  {
   "cell_type": "code",
   "execution_count": 3,
   "id": "2b3020b3-5b24-47db-9d95-9df32c3a87d1",
   "metadata": {},
   "outputs": [
    {
     "data": {
      "text/html": [
       "<div>\n",
       "<style scoped>\n",
       "    .dataframe tbody tr th:only-of-type {\n",
       "        vertical-align: middle;\n",
       "    }\n",
       "\n",
       "    .dataframe tbody tr th {\n",
       "        vertical-align: top;\n",
       "    }\n",
       "\n",
       "    .dataframe thead th {\n",
       "        text-align: right;\n",
       "    }\n",
       "</style>\n",
       "<table border=\"1\" class=\"dataframe\">\n",
       "  <thead>\n",
       "    <tr style=\"text-align: right;\">\n",
       "      <th></th>\n",
       "      <th>id</th>\n",
       "      <th>age</th>\n",
       "      <th>sex</th>\n",
       "      <th>dataset</th>\n",
       "      <th>cp</th>\n",
       "      <th>trestbps</th>\n",
       "      <th>chol</th>\n",
       "      <th>fbs</th>\n",
       "      <th>restecg</th>\n",
       "      <th>thalch</th>\n",
       "      <th>exang</th>\n",
       "      <th>oldpeak</th>\n",
       "      <th>slope</th>\n",
       "      <th>ca</th>\n",
       "      <th>thal</th>\n",
       "      <th>num</th>\n",
       "    </tr>\n",
       "  </thead>\n",
       "  <tbody>\n",
       "    <tr>\n",
       "      <th>0</th>\n",
       "      <td>1</td>\n",
       "      <td>63</td>\n",
       "      <td>Male</td>\n",
       "      <td>Cleveland</td>\n",
       "      <td>typical angina</td>\n",
       "      <td>145.0</td>\n",
       "      <td>233.0</td>\n",
       "      <td>True</td>\n",
       "      <td>lv hypertrophy</td>\n",
       "      <td>150.0</td>\n",
       "      <td>False</td>\n",
       "      <td>2.3</td>\n",
       "      <td>downsloping</td>\n",
       "      <td>0.0</td>\n",
       "      <td>fixed defect</td>\n",
       "      <td>0</td>\n",
       "    </tr>\n",
       "    <tr>\n",
       "      <th>1</th>\n",
       "      <td>2</td>\n",
       "      <td>67</td>\n",
       "      <td>Male</td>\n",
       "      <td>Cleveland</td>\n",
       "      <td>asymptomatic</td>\n",
       "      <td>160.0</td>\n",
       "      <td>286.0</td>\n",
       "      <td>False</td>\n",
       "      <td>lv hypertrophy</td>\n",
       "      <td>108.0</td>\n",
       "      <td>True</td>\n",
       "      <td>1.5</td>\n",
       "      <td>flat</td>\n",
       "      <td>3.0</td>\n",
       "      <td>normal</td>\n",
       "      <td>2</td>\n",
       "    </tr>\n",
       "    <tr>\n",
       "      <th>2</th>\n",
       "      <td>3</td>\n",
       "      <td>67</td>\n",
       "      <td>Male</td>\n",
       "      <td>Cleveland</td>\n",
       "      <td>asymptomatic</td>\n",
       "      <td>120.0</td>\n",
       "      <td>229.0</td>\n",
       "      <td>False</td>\n",
       "      <td>lv hypertrophy</td>\n",
       "      <td>129.0</td>\n",
       "      <td>True</td>\n",
       "      <td>2.6</td>\n",
       "      <td>flat</td>\n",
       "      <td>2.0</td>\n",
       "      <td>reversable defect</td>\n",
       "      <td>1</td>\n",
       "    </tr>\n",
       "    <tr>\n",
       "      <th>3</th>\n",
       "      <td>4</td>\n",
       "      <td>37</td>\n",
       "      <td>Male</td>\n",
       "      <td>Cleveland</td>\n",
       "      <td>non-anginal</td>\n",
       "      <td>130.0</td>\n",
       "      <td>250.0</td>\n",
       "      <td>False</td>\n",
       "      <td>normal</td>\n",
       "      <td>187.0</td>\n",
       "      <td>False</td>\n",
       "      <td>3.5</td>\n",
       "      <td>downsloping</td>\n",
       "      <td>0.0</td>\n",
       "      <td>normal</td>\n",
       "      <td>0</td>\n",
       "    </tr>\n",
       "    <tr>\n",
       "      <th>4</th>\n",
       "      <td>5</td>\n",
       "      <td>41</td>\n",
       "      <td>Female</td>\n",
       "      <td>Cleveland</td>\n",
       "      <td>atypical angina</td>\n",
       "      <td>130.0</td>\n",
       "      <td>204.0</td>\n",
       "      <td>False</td>\n",
       "      <td>lv hypertrophy</td>\n",
       "      <td>172.0</td>\n",
       "      <td>False</td>\n",
       "      <td>1.4</td>\n",
       "      <td>upsloping</td>\n",
       "      <td>0.0</td>\n",
       "      <td>normal</td>\n",
       "      <td>0</td>\n",
       "    </tr>\n",
       "  </tbody>\n",
       "</table>\n",
       "</div>"
      ],
      "text/plain": [
       "   id  age     sex    dataset               cp  trestbps   chol    fbs  \\\n",
       "0   1   63    Male  Cleveland   typical angina     145.0  233.0   True   \n",
       "1   2   67    Male  Cleveland     asymptomatic     160.0  286.0  False   \n",
       "2   3   67    Male  Cleveland     asymptomatic     120.0  229.0  False   \n",
       "3   4   37    Male  Cleveland      non-anginal     130.0  250.0  False   \n",
       "4   5   41  Female  Cleveland  atypical angina     130.0  204.0  False   \n",
       "\n",
       "          restecg  thalch  exang  oldpeak        slope   ca  \\\n",
       "0  lv hypertrophy   150.0  False      2.3  downsloping  0.0   \n",
       "1  lv hypertrophy   108.0   True      1.5         flat  3.0   \n",
       "2  lv hypertrophy   129.0   True      2.6         flat  2.0   \n",
       "3          normal   187.0  False      3.5  downsloping  0.0   \n",
       "4  lv hypertrophy   172.0  False      1.4    upsloping  0.0   \n",
       "\n",
       "                thal  num  \n",
       "0       fixed defect    0  \n",
       "1             normal    2  \n",
       "2  reversable defect    1  \n",
       "3             normal    0  \n",
       "4             normal    0  "
      ]
     },
     "execution_count": 3,
     "metadata": {},
     "output_type": "execute_result"
    }
   ],
   "source": [
    "df1.head()"
   ]
  },
  {
   "cell_type": "code",
   "execution_count": 4,
   "id": "3db45c84-31be-4621-ad7f-875c6f64acc8",
   "metadata": {},
   "outputs": [
    {
     "name": "stdout",
     "output_type": "stream",
     "text": [
      "<class 'pandas.core.frame.DataFrame'>\n",
      "RangeIndex: 920 entries, 0 to 919\n",
      "Data columns (total 16 columns):\n",
      " #   Column    Non-Null Count  Dtype  \n",
      "---  ------    --------------  -----  \n",
      " 0   id        920 non-null    int64  \n",
      " 1   age       920 non-null    int64  \n",
      " 2   sex       920 non-null    object \n",
      " 3   dataset   920 non-null    object \n",
      " 4   cp        920 non-null    object \n",
      " 5   trestbps  861 non-null    float64\n",
      " 6   chol      890 non-null    float64\n",
      " 7   fbs       830 non-null    object \n",
      " 8   restecg   918 non-null    object \n",
      " 9   thalch    865 non-null    float64\n",
      " 10  exang     865 non-null    object \n",
      " 11  oldpeak   858 non-null    float64\n",
      " 12  slope     611 non-null    object \n",
      " 13  ca        309 non-null    float64\n",
      " 14  thal      434 non-null    object \n",
      " 15  num       920 non-null    int64  \n",
      "dtypes: float64(5), int64(3), object(8)\n",
      "memory usage: 115.1+ KB\n"
     ]
    }
   ],
   "source": [
    "df1.info()"
   ]
  },
  {
   "cell_type": "code",
   "execution_count": 5,
   "id": "74e49c1d-6626-4102-a0d2-eccd517b5192",
   "metadata": {},
   "outputs": [
    {
     "data": {
      "text/html": [
       "<div>\n",
       "<style scoped>\n",
       "    .dataframe tbody tr th:only-of-type {\n",
       "        vertical-align: middle;\n",
       "    }\n",
       "\n",
       "    .dataframe tbody tr th {\n",
       "        vertical-align: top;\n",
       "    }\n",
       "\n",
       "    .dataframe thead th {\n",
       "        text-align: right;\n",
       "    }\n",
       "</style>\n",
       "<table border=\"1\" class=\"dataframe\">\n",
       "  <thead>\n",
       "    <tr style=\"text-align: right;\">\n",
       "      <th></th>\n",
       "      <th>id</th>\n",
       "      <th>age</th>\n",
       "      <th>trestbps</th>\n",
       "      <th>chol</th>\n",
       "      <th>thalch</th>\n",
       "      <th>oldpeak</th>\n",
       "      <th>ca</th>\n",
       "      <th>num</th>\n",
       "    </tr>\n",
       "  </thead>\n",
       "  <tbody>\n",
       "    <tr>\n",
       "      <th>count</th>\n",
       "      <td>920.000000</td>\n",
       "      <td>920.000000</td>\n",
       "      <td>861.000000</td>\n",
       "      <td>890.000000</td>\n",
       "      <td>865.000000</td>\n",
       "      <td>858.000000</td>\n",
       "      <td>309.000000</td>\n",
       "      <td>920.000000</td>\n",
       "    </tr>\n",
       "    <tr>\n",
       "      <th>mean</th>\n",
       "      <td>460.500000</td>\n",
       "      <td>53.510870</td>\n",
       "      <td>132.132404</td>\n",
       "      <td>199.130337</td>\n",
       "      <td>137.545665</td>\n",
       "      <td>0.878788</td>\n",
       "      <td>0.676375</td>\n",
       "      <td>0.995652</td>\n",
       "    </tr>\n",
       "    <tr>\n",
       "      <th>std</th>\n",
       "      <td>265.725422</td>\n",
       "      <td>9.424685</td>\n",
       "      <td>19.066070</td>\n",
       "      <td>110.780810</td>\n",
       "      <td>25.926276</td>\n",
       "      <td>1.091226</td>\n",
       "      <td>0.935653</td>\n",
       "      <td>1.142693</td>\n",
       "    </tr>\n",
       "    <tr>\n",
       "      <th>min</th>\n",
       "      <td>1.000000</td>\n",
       "      <td>28.000000</td>\n",
       "      <td>0.000000</td>\n",
       "      <td>0.000000</td>\n",
       "      <td>60.000000</td>\n",
       "      <td>-2.600000</td>\n",
       "      <td>0.000000</td>\n",
       "      <td>0.000000</td>\n",
       "    </tr>\n",
       "    <tr>\n",
       "      <th>25%</th>\n",
       "      <td>230.750000</td>\n",
       "      <td>47.000000</td>\n",
       "      <td>120.000000</td>\n",
       "      <td>175.000000</td>\n",
       "      <td>120.000000</td>\n",
       "      <td>0.000000</td>\n",
       "      <td>0.000000</td>\n",
       "      <td>0.000000</td>\n",
       "    </tr>\n",
       "    <tr>\n",
       "      <th>50%</th>\n",
       "      <td>460.500000</td>\n",
       "      <td>54.000000</td>\n",
       "      <td>130.000000</td>\n",
       "      <td>223.000000</td>\n",
       "      <td>140.000000</td>\n",
       "      <td>0.500000</td>\n",
       "      <td>0.000000</td>\n",
       "      <td>1.000000</td>\n",
       "    </tr>\n",
       "    <tr>\n",
       "      <th>75%</th>\n",
       "      <td>690.250000</td>\n",
       "      <td>60.000000</td>\n",
       "      <td>140.000000</td>\n",
       "      <td>268.000000</td>\n",
       "      <td>157.000000</td>\n",
       "      <td>1.500000</td>\n",
       "      <td>1.000000</td>\n",
       "      <td>2.000000</td>\n",
       "    </tr>\n",
       "    <tr>\n",
       "      <th>max</th>\n",
       "      <td>920.000000</td>\n",
       "      <td>77.000000</td>\n",
       "      <td>200.000000</td>\n",
       "      <td>603.000000</td>\n",
       "      <td>202.000000</td>\n",
       "      <td>6.200000</td>\n",
       "      <td>3.000000</td>\n",
       "      <td>4.000000</td>\n",
       "    </tr>\n",
       "  </tbody>\n",
       "</table>\n",
       "</div>"
      ],
      "text/plain": [
       "               id         age    trestbps        chol      thalch     oldpeak  \\\n",
       "count  920.000000  920.000000  861.000000  890.000000  865.000000  858.000000   \n",
       "mean   460.500000   53.510870  132.132404  199.130337  137.545665    0.878788   \n",
       "std    265.725422    9.424685   19.066070  110.780810   25.926276    1.091226   \n",
       "min      1.000000   28.000000    0.000000    0.000000   60.000000   -2.600000   \n",
       "25%    230.750000   47.000000  120.000000  175.000000  120.000000    0.000000   \n",
       "50%    460.500000   54.000000  130.000000  223.000000  140.000000    0.500000   \n",
       "75%    690.250000   60.000000  140.000000  268.000000  157.000000    1.500000   \n",
       "max    920.000000   77.000000  200.000000  603.000000  202.000000    6.200000   \n",
       "\n",
       "               ca         num  \n",
       "count  309.000000  920.000000  \n",
       "mean     0.676375    0.995652  \n",
       "std      0.935653    1.142693  \n",
       "min      0.000000    0.000000  \n",
       "25%      0.000000    0.000000  \n",
       "50%      0.000000    1.000000  \n",
       "75%      1.000000    2.000000  \n",
       "max      3.000000    4.000000  "
      ]
     },
     "execution_count": 5,
     "metadata": {},
     "output_type": "execute_result"
    }
   ],
   "source": [
    "df1.describe()"
   ]
  },
  {
   "cell_type": "code",
   "execution_count": 6,
   "id": "60ac7542-4597-4947-861c-833cabac7cc7",
   "metadata": {},
   "outputs": [
    {
     "data": {
      "text/plain": [
       "(920, 16)"
      ]
     },
     "execution_count": 6,
     "metadata": {},
     "output_type": "execute_result"
    }
   ],
   "source": [
    "df1.shape"
   ]
  },
  {
   "cell_type": "code",
   "execution_count": 7,
   "id": "03304d43-25db-4ad8-8bc6-2716651912de",
   "metadata": {},
   "outputs": [
    {
     "data": {
      "text/plain": [
       "Index(['id', 'age', 'sex', 'dataset', 'cp', 'trestbps', 'chol', 'fbs',\n",
       "       'restecg', 'thalch', 'exang', 'oldpeak', 'slope', 'ca', 'thal', 'num'],\n",
       "      dtype='object')"
      ]
     },
     "execution_count": 7,
     "metadata": {},
     "output_type": "execute_result"
    }
   ],
   "source": [
    "df1.columns"
   ]
  },
  {
   "cell_type": "markdown",
   "id": "2411b07d",
   "metadata": {},
   "source": [
    "### Extracting the Important Features"
   ]
  },
  {
   "cell_type": "code",
   "execution_count": 8,
   "id": "c002f801",
   "metadata": {},
   "outputs": [],
   "source": [
    "df1 = df1.loc[:,['age','sex','cp','trestbps','chol','thalch','oldpeak','ca','thal','num']]\n",
    "\n",
    "    "
   ]
  },
  {
   "cell_type": "markdown",
   "id": "2e41a4e6-c721-48a6-b975-537437e7d4eb",
   "metadata": {},
   "source": [
    "### Assesasing Data Quality"
   ]
  },
  {
   "cell_type": "code",
   "execution_count": 9,
   "id": "0261f106-ce0e-4999-a131-d3d7f56dadef",
   "metadata": {},
   "outputs": [
    {
     "data": {
      "text/plain": [
       "Male      726\n",
       "Female    194\n",
       "Name: sex, dtype: int64"
      ]
     },
     "execution_count": 9,
     "metadata": {},
     "output_type": "execute_result"
    }
   ],
   "source": [
    "df1['sex'].value_counts()"
   ]
  },
  {
   "cell_type": "code",
   "execution_count": 10,
   "id": "d130fa00-fc42-48a6-8739-36034f824800",
   "metadata": {},
   "outputs": [
    {
     "data": {
      "text/plain": [
       "0    411\n",
       "1    265\n",
       "2    109\n",
       "3    107\n",
       "4     28\n",
       "Name: num, dtype: int64"
      ]
     },
     "execution_count": 10,
     "metadata": {},
     "output_type": "execute_result"
    }
   ],
   "source": [
    "df1['num'].value_counts()"
   ]
  },
  {
   "cell_type": "code",
   "execution_count": 11,
   "id": "a9f32342-27fd-467f-a973-96648d9d1ea5",
   "metadata": {},
   "outputs": [],
   "source": [
    "#df1['fbs'].value_counts()"
   ]
  },
  {
   "cell_type": "markdown",
   "id": "4b5557cd-ee84-4a28-a790-fcb8aea0a929",
   "metadata": {},
   "source": [
    "### Checking For Duplicate Values"
   ]
  },
  {
   "cell_type": "code",
   "execution_count": 12,
   "id": "1eadbd12-d636-4ced-a5e8-b41b3d2c31da",
   "metadata": {},
   "outputs": [
    {
     "data": {
      "text/plain": [
       "3"
      ]
     },
     "execution_count": 12,
     "metadata": {},
     "output_type": "execute_result"
    }
   ],
   "source": [
    "df1.duplicated().sum()"
   ]
  },
  {
   "cell_type": "code",
   "execution_count": 13,
   "id": "b864a7f0",
   "metadata": {},
   "outputs": [],
   "source": [
    "df1 = df1[~df1.duplicated()]"
   ]
  },
  {
   "cell_type": "code",
   "execution_count": 14,
   "id": "785d8662",
   "metadata": {},
   "outputs": [
    {
     "data": {
      "text/plain": [
       "0"
      ]
     },
     "execution_count": 14,
     "metadata": {},
     "output_type": "execute_result"
    }
   ],
   "source": [
    "df1.duplicated().sum()"
   ]
  },
  {
   "cell_type": "code",
   "execution_count": 15,
   "id": "c59d18e9-988c-47af-839b-bd1f0b894cba",
   "metadata": {},
   "outputs": [],
   "source": [
    "df1_copy = df1.copy()"
   ]
  },
  {
   "cell_type": "code",
   "execution_count": 16,
   "id": "c908171d-59a7-4a52-a937-4618020bc741",
   "metadata": {},
   "outputs": [
    {
     "data": {
      "text/html": [
       "<div>\n",
       "<style scoped>\n",
       "    .dataframe tbody tr th:only-of-type {\n",
       "        vertical-align: middle;\n",
       "    }\n",
       "\n",
       "    .dataframe tbody tr th {\n",
       "        vertical-align: top;\n",
       "    }\n",
       "\n",
       "    .dataframe thead th {\n",
       "        text-align: right;\n",
       "    }\n",
       "</style>\n",
       "<table border=\"1\" class=\"dataframe\">\n",
       "  <thead>\n",
       "    <tr style=\"text-align: right;\">\n",
       "      <th></th>\n",
       "      <th>age</th>\n",
       "      <th>sex</th>\n",
       "      <th>cp</th>\n",
       "      <th>trestbps</th>\n",
       "      <th>chol</th>\n",
       "      <th>thalch</th>\n",
       "      <th>oldpeak</th>\n",
       "      <th>ca</th>\n",
       "      <th>thal</th>\n",
       "      <th>num</th>\n",
       "    </tr>\n",
       "  </thead>\n",
       "  <tbody>\n",
       "    <tr>\n",
       "      <th>0</th>\n",
       "      <td>63</td>\n",
       "      <td>Male</td>\n",
       "      <td>typical angina</td>\n",
       "      <td>145.0</td>\n",
       "      <td>233.0</td>\n",
       "      <td>150.0</td>\n",
       "      <td>2.3</td>\n",
       "      <td>0.0</td>\n",
       "      <td>fixed defect</td>\n",
       "      <td>0</td>\n",
       "    </tr>\n",
       "    <tr>\n",
       "      <th>1</th>\n",
       "      <td>67</td>\n",
       "      <td>Male</td>\n",
       "      <td>asymptomatic</td>\n",
       "      <td>160.0</td>\n",
       "      <td>286.0</td>\n",
       "      <td>108.0</td>\n",
       "      <td>1.5</td>\n",
       "      <td>3.0</td>\n",
       "      <td>normal</td>\n",
       "      <td>2</td>\n",
       "    </tr>\n",
       "    <tr>\n",
       "      <th>2</th>\n",
       "      <td>67</td>\n",
       "      <td>Male</td>\n",
       "      <td>asymptomatic</td>\n",
       "      <td>120.0</td>\n",
       "      <td>229.0</td>\n",
       "      <td>129.0</td>\n",
       "      <td>2.6</td>\n",
       "      <td>2.0</td>\n",
       "      <td>reversable defect</td>\n",
       "      <td>1</td>\n",
       "    </tr>\n",
       "    <tr>\n",
       "      <th>3</th>\n",
       "      <td>37</td>\n",
       "      <td>Male</td>\n",
       "      <td>non-anginal</td>\n",
       "      <td>130.0</td>\n",
       "      <td>250.0</td>\n",
       "      <td>187.0</td>\n",
       "      <td>3.5</td>\n",
       "      <td>0.0</td>\n",
       "      <td>normal</td>\n",
       "      <td>0</td>\n",
       "    </tr>\n",
       "    <tr>\n",
       "      <th>4</th>\n",
       "      <td>41</td>\n",
       "      <td>Female</td>\n",
       "      <td>atypical angina</td>\n",
       "      <td>130.0</td>\n",
       "      <td>204.0</td>\n",
       "      <td>172.0</td>\n",
       "      <td>1.4</td>\n",
       "      <td>0.0</td>\n",
       "      <td>normal</td>\n",
       "      <td>0</td>\n",
       "    </tr>\n",
       "  </tbody>\n",
       "</table>\n",
       "</div>"
      ],
      "text/plain": [
       "   age     sex               cp  trestbps   chol  thalch  oldpeak   ca  \\\n",
       "0   63    Male   typical angina     145.0  233.0   150.0      2.3  0.0   \n",
       "1   67    Male     asymptomatic     160.0  286.0   108.0      1.5  3.0   \n",
       "2   67    Male     asymptomatic     120.0  229.0   129.0      2.6  2.0   \n",
       "3   37    Male      non-anginal     130.0  250.0   187.0      3.5  0.0   \n",
       "4   41  Female  atypical angina     130.0  204.0   172.0      1.4  0.0   \n",
       "\n",
       "                thal  num  \n",
       "0       fixed defect    0  \n",
       "1             normal    2  \n",
       "2  reversable defect    1  \n",
       "3             normal    0  \n",
       "4             normal    0  "
      ]
     },
     "execution_count": 16,
     "metadata": {},
     "output_type": "execute_result"
    }
   ],
   "source": [
    "df1_copy.head()"
   ]
  },
  {
   "cell_type": "code",
   "execution_count": 17,
   "id": "c7b8cb2f",
   "metadata": {},
   "outputs": [],
   "source": [
    "### Aggrating values\n",
    "def aggregate_values(value):\n",
    "    if value ==0:\n",
    "        return \"0\"\n",
    "    if value == 1:\n",
    "        return \"1\"\n",
    "    if value == 2:\n",
    "        return \"2\"\n",
    "    if value == 3:\n",
    "        return \"3\"\n",
    "    if value == 4:\n",
    "        return \"4\"\n",
    "    else:\n",
    "        return \"5 and more\"\n",
    "    \n",
    "### Applying the function\n"
   ]
  },
  {
   "cell_type": "code",
   "execution_count": 18,
   "id": "b72bc459-b1d4-418d-a938-9db2bc509e7d",
   "metadata": {},
   "outputs": [
    {
     "data": {
      "text/plain": [
       "normal               196\n",
       "reversable defect    192\n",
       "fixed defect          46\n",
       "Name: thal, dtype: int64"
      ]
     },
     "execution_count": 18,
     "metadata": {},
     "output_type": "execute_result"
    }
   ],
   "source": [
    "df1['thal'].value_counts()"
   ]
  },
  {
   "cell_type": "code",
   "execution_count": 19,
   "id": "d0b29360-4e6a-499d-99c6-4d9fe9b2a70b",
   "metadata": {},
   "outputs": [],
   "source": [
    "# #### data Imputing\n",
    "# ### Urban_or_rural_area\n",
    "\n",
    "df1_copy['sex'][df1_copy['sex']=='Male']=1\n",
    "df1_copy['sex'][df1_copy['sex']=='Female']=2\n",
    "df1_copy['cp'][df1_copy['cp']=='asymptomatic']=1\n",
    "df1_copy['cp'][df1_copy['cp']=='non-anginal']=2\n",
    "df1_copy['cp'][df1_copy['cp']=='atypical angina']=3\n",
    "df1_copy['cp'][df1_copy['cp']=='typical angina']=4\n",
    "df1_copy['thal'][df1_copy['thal']=='normal']=1\n",
    "df1_copy['thal'][df1_copy['thal']=='reversable defect']=2\n",
    "df1_copy['thal'][df1_copy['thal']=='fixed defect']=3\n"
   ]
  },
  {
   "cell_type": "code",
   "execution_count": 20,
   "id": "21de1c5c-7cff-40d2-bf65-47c7480c181f",
   "metadata": {},
   "outputs": [
    {
     "data": {
      "text/html": [
       "<div>\n",
       "<style scoped>\n",
       "    .dataframe tbody tr th:only-of-type {\n",
       "        vertical-align: middle;\n",
       "    }\n",
       "\n",
       "    .dataframe tbody tr th {\n",
       "        vertical-align: top;\n",
       "    }\n",
       "\n",
       "    .dataframe thead th {\n",
       "        text-align: right;\n",
       "    }\n",
       "</style>\n",
       "<table border=\"1\" class=\"dataframe\">\n",
       "  <thead>\n",
       "    <tr style=\"text-align: right;\">\n",
       "      <th></th>\n",
       "      <th>age</th>\n",
       "      <th>sex</th>\n",
       "      <th>cp</th>\n",
       "      <th>trestbps</th>\n",
       "      <th>chol</th>\n",
       "      <th>thalch</th>\n",
       "      <th>oldpeak</th>\n",
       "      <th>ca</th>\n",
       "      <th>thal</th>\n",
       "      <th>num</th>\n",
       "    </tr>\n",
       "  </thead>\n",
       "  <tbody>\n",
       "    <tr>\n",
       "      <th>0</th>\n",
       "      <td>63</td>\n",
       "      <td>Male</td>\n",
       "      <td>typical angina</td>\n",
       "      <td>145.0</td>\n",
       "      <td>233.0</td>\n",
       "      <td>150.0</td>\n",
       "      <td>2.3</td>\n",
       "      <td>0.0</td>\n",
       "      <td>fixed defect</td>\n",
       "      <td>0</td>\n",
       "    </tr>\n",
       "    <tr>\n",
       "      <th>1</th>\n",
       "      <td>67</td>\n",
       "      <td>Male</td>\n",
       "      <td>asymptomatic</td>\n",
       "      <td>160.0</td>\n",
       "      <td>286.0</td>\n",
       "      <td>108.0</td>\n",
       "      <td>1.5</td>\n",
       "      <td>3.0</td>\n",
       "      <td>normal</td>\n",
       "      <td>2</td>\n",
       "    </tr>\n",
       "    <tr>\n",
       "      <th>2</th>\n",
       "      <td>67</td>\n",
       "      <td>Male</td>\n",
       "      <td>asymptomatic</td>\n",
       "      <td>120.0</td>\n",
       "      <td>229.0</td>\n",
       "      <td>129.0</td>\n",
       "      <td>2.6</td>\n",
       "      <td>2.0</td>\n",
       "      <td>reversable defect</td>\n",
       "      <td>1</td>\n",
       "    </tr>\n",
       "    <tr>\n",
       "      <th>3</th>\n",
       "      <td>37</td>\n",
       "      <td>Male</td>\n",
       "      <td>non-anginal</td>\n",
       "      <td>130.0</td>\n",
       "      <td>250.0</td>\n",
       "      <td>187.0</td>\n",
       "      <td>3.5</td>\n",
       "      <td>0.0</td>\n",
       "      <td>normal</td>\n",
       "      <td>0</td>\n",
       "    </tr>\n",
       "    <tr>\n",
       "      <th>4</th>\n",
       "      <td>41</td>\n",
       "      <td>Female</td>\n",
       "      <td>atypical angina</td>\n",
       "      <td>130.0</td>\n",
       "      <td>204.0</td>\n",
       "      <td>172.0</td>\n",
       "      <td>1.4</td>\n",
       "      <td>0.0</td>\n",
       "      <td>normal</td>\n",
       "      <td>0</td>\n",
       "    </tr>\n",
       "  </tbody>\n",
       "</table>\n",
       "</div>"
      ],
      "text/plain": [
       "   age     sex               cp  trestbps   chol  thalch  oldpeak   ca  \\\n",
       "0   63    Male   typical angina     145.0  233.0   150.0      2.3  0.0   \n",
       "1   67    Male     asymptomatic     160.0  286.0   108.0      1.5  3.0   \n",
       "2   67    Male     asymptomatic     120.0  229.0   129.0      2.6  2.0   \n",
       "3   37    Male      non-anginal     130.0  250.0   187.0      3.5  0.0   \n",
       "4   41  Female  atypical angina     130.0  204.0   172.0      1.4  0.0   \n",
       "\n",
       "                thal  num  \n",
       "0       fixed defect    0  \n",
       "1             normal    2  \n",
       "2  reversable defect    1  \n",
       "3             normal    0  \n",
       "4             normal    0  "
      ]
     },
     "execution_count": 20,
     "metadata": {},
     "output_type": "execute_result"
    }
   ],
   "source": [
    "df1.head()"
   ]
  },
  {
   "cell_type": "markdown",
   "id": "578696e3",
   "metadata": {},
   "source": [
    "###  Data Imputing"
   ]
  },
  {
   "cell_type": "code",
   "execution_count": 21,
   "id": "4ca70058-7179-4e60-bb17-4265a010f4c2",
   "metadata": {},
   "outputs": [],
   "source": [
    "def fill_journey(value):\n",
    "    if value == 0:\n",
    "        return 'No presence of heart disease.'\n",
    "    elif value == 1.0:\n",
    "        return 'Mild or some presence of heart disease'\n",
    "    elif value == 2.0:\n",
    "        return 'Moderate presence of heart disease'\n",
    "    elif value == 3.0:\n",
    "        return 'Severe presence of heart disease.'\n",
    "    elif value == 4.0:\n",
    "        return 'Very severe presence of heart disease'\n",
    "    elif value == 6.0:\n",
    "        return 'Not known'\n",
    "    elif value == 15.0:\n",
    "        return 'Others'\n",
    "    else:\n",
    "        return np.nan"
   ]
  },
  {
   "cell_type": "code",
   "execution_count": 22,
   "id": "8d4a88a5-47f3-41f8-96af-abac5ccce5d3",
   "metadata": {},
   "outputs": [
    {
     "data": {
      "text/plain": [
       "0    410\n",
       "1    264\n",
       "2    108\n",
       "3    107\n",
       "4     28\n",
       "Name: num, dtype: int64"
      ]
     },
     "execution_count": 22,
     "metadata": {},
     "output_type": "execute_result"
    }
   ],
   "source": [
    "df1_copy['num'].value_counts()"
   ]
  },
  {
   "cell_type": "code",
   "execution_count": 23,
   "id": "d2d8fa71-1cfb-4e06-99d3-40b1d8be7dde",
   "metadata": {},
   "outputs": [],
   "source": [
    "lst = [20,30,40,50,60,70]\n",
    "def speed(value):\n",
    "    if value in lst:\n",
    "        return value\n",
    "    else:\n",
    "        return np.nan"
   ]
  },
  {
   "cell_type": "code",
   "execution_count": 24,
   "id": "868a3735-2523-41f4-8adb-dfe0dc75141f",
   "metadata": {},
   "outputs": [
    {
     "data": {
      "text/plain": [
       "Index(['age', 'sex', 'cp', 'trestbps', 'chol', 'thalch', 'oldpeak', 'ca',\n",
       "       'thal', 'num'],\n",
       "      dtype='object')"
      ]
     },
     "execution_count": 24,
     "metadata": {},
     "output_type": "execute_result"
    }
   ],
   "source": [
    "df1_copy.columns"
   ]
  },
  {
   "cell_type": "code",
   "execution_count": 25,
   "id": "597230f3-3914-4e6a-8159-993267120497",
   "metadata": {},
   "outputs": [],
   "source": [
    "df1_copy = df1_copy[['age','sex','cp','chol', 'trestbps','thalch','oldpeak','ca','thal','num']]\n",
    "df1_copy.dropna(inplace = True)"
   ]
  },
  {
   "cell_type": "code",
   "execution_count": 26,
   "id": "e6855f20-4346-4eac-bf60-46283f1f7901",
   "metadata": {},
   "outputs": [
    {
     "data": {
      "text/plain": [
       "age         0\n",
       "sex         0\n",
       "cp          0\n",
       "chol        0\n",
       "trestbps    0\n",
       "thalch      0\n",
       "oldpeak     0\n",
       "ca          0\n",
       "thal        0\n",
       "num         0\n",
       "dtype: int64"
      ]
     },
     "execution_count": 26,
     "metadata": {},
     "output_type": "execute_result"
    }
   ],
   "source": [
    "df1_copy.isnull().sum()"
   ]
  },
  {
   "cell_type": "code",
   "execution_count": 27,
   "id": "f2314c88-856f-43b8-b8bb-22c066a5d712",
   "metadata": {},
   "outputs": [
    {
     "data": {
      "text/html": [
       "<div>\n",
       "<style scoped>\n",
       "    .dataframe tbody tr th:only-of-type {\n",
       "        vertical-align: middle;\n",
       "    }\n",
       "\n",
       "    .dataframe tbody tr th {\n",
       "        vertical-align: top;\n",
       "    }\n",
       "\n",
       "    .dataframe thead th {\n",
       "        text-align: right;\n",
       "    }\n",
       "</style>\n",
       "<table border=\"1\" class=\"dataframe\">\n",
       "  <thead>\n",
       "    <tr style=\"text-align: right;\">\n",
       "      <th></th>\n",
       "      <th>age</th>\n",
       "      <th>sex</th>\n",
       "      <th>cp</th>\n",
       "      <th>chol</th>\n",
       "      <th>trestbps</th>\n",
       "      <th>thalch</th>\n",
       "      <th>oldpeak</th>\n",
       "      <th>ca</th>\n",
       "      <th>thal</th>\n",
       "      <th>num</th>\n",
       "    </tr>\n",
       "  </thead>\n",
       "  <tbody>\n",
       "    <tr>\n",
       "      <th>0</th>\n",
       "      <td>63</td>\n",
       "      <td>1</td>\n",
       "      <td>4</td>\n",
       "      <td>233.0</td>\n",
       "      <td>145.0</td>\n",
       "      <td>150.0</td>\n",
       "      <td>2.3</td>\n",
       "      <td>0.0</td>\n",
       "      <td>3</td>\n",
       "      <td>0</td>\n",
       "    </tr>\n",
       "    <tr>\n",
       "      <th>1</th>\n",
       "      <td>67</td>\n",
       "      <td>1</td>\n",
       "      <td>1</td>\n",
       "      <td>286.0</td>\n",
       "      <td>160.0</td>\n",
       "      <td>108.0</td>\n",
       "      <td>1.5</td>\n",
       "      <td>3.0</td>\n",
       "      <td>1</td>\n",
       "      <td>2</td>\n",
       "    </tr>\n",
       "    <tr>\n",
       "      <th>2</th>\n",
       "      <td>67</td>\n",
       "      <td>1</td>\n",
       "      <td>1</td>\n",
       "      <td>229.0</td>\n",
       "      <td>120.0</td>\n",
       "      <td>129.0</td>\n",
       "      <td>2.6</td>\n",
       "      <td>2.0</td>\n",
       "      <td>2</td>\n",
       "      <td>1</td>\n",
       "    </tr>\n",
       "    <tr>\n",
       "      <th>3</th>\n",
       "      <td>37</td>\n",
       "      <td>1</td>\n",
       "      <td>2</td>\n",
       "      <td>250.0</td>\n",
       "      <td>130.0</td>\n",
       "      <td>187.0</td>\n",
       "      <td>3.5</td>\n",
       "      <td>0.0</td>\n",
       "      <td>1</td>\n",
       "      <td>0</td>\n",
       "    </tr>\n",
       "    <tr>\n",
       "      <th>4</th>\n",
       "      <td>41</td>\n",
       "      <td>2</td>\n",
       "      <td>3</td>\n",
       "      <td>204.0</td>\n",
       "      <td>130.0</td>\n",
       "      <td>172.0</td>\n",
       "      <td>1.4</td>\n",
       "      <td>0.0</td>\n",
       "      <td>1</td>\n",
       "      <td>0</td>\n",
       "    </tr>\n",
       "  </tbody>\n",
       "</table>\n",
       "</div>"
      ],
      "text/plain": [
       "   age sex cp   chol  trestbps  thalch  oldpeak   ca thal  num\n",
       "0   63   1  4  233.0     145.0   150.0      2.3  0.0    3    0\n",
       "1   67   1  1  286.0     160.0   108.0      1.5  3.0    1    2\n",
       "2   67   1  1  229.0     120.0   129.0      2.6  2.0    2    1\n",
       "3   37   1  2  250.0     130.0   187.0      3.5  0.0    1    0\n",
       "4   41   2  3  204.0     130.0   172.0      1.4  0.0    1    0"
      ]
     },
     "execution_count": 27,
     "metadata": {},
     "output_type": "execute_result"
    }
   ],
   "source": [
    "df1_copy.head()"
   ]
  },
  {
   "cell_type": "markdown",
   "id": "edd9aa6d",
   "metadata": {},
   "source": [
    "## Exploratory Data Analysis"
   ]
  },
  {
   "cell_type": "code",
   "execution_count": 28,
   "id": "5c3aab36",
   "metadata": {},
   "outputs": [
    {
     "data": {
      "image/png": "[encoded data removed]",
      "text/plain": [
       "<Figure size 1008x360 with 1 Axes>"
      ]
     },
     "metadata": {
      "needs_background": "light"
     },
     "output_type": "display_data"
    }
   ],
   "source": [
    "#Barchart of Number of Accidents and Number of Casualties\n",
    "for column in [\"sex\"]:\n",
    "    var_value = df1_copy[column].value_counts()\n",
    "    \n",
    "    plt.figure(figsize=(14,5))\n",
    "    \n",
    "    plt.grid(False)\n",
    "    sns.barplot(x=var_value.index, y=var_value, order=var_value.index, \n",
    "                palette = sns.color_palette(\"rocket\"))    \n",
    "    \n",
    "    plt.title(\" \".join(column.split(\"_\")), weight=\"bold\")\n",
    "    plt.ylabel(\"Freqeuncy\")\n",
    "    plt.ticklabel_format(style='plain', axis='y')"
   ]
  },
  {
   "cell_type": "code",
   "execution_count": 29,
   "id": "3b0e84e2",
   "metadata": {
    "scrolled": true
   },
   "outputs": [
    {
     "data": {
      "image/png": "[encoded data removed]",
      "text/plain": [
       "<Figure size 1008x360 with 1 Axes>"
      ]
     },
     "metadata": {
      "needs_background": "light"
     },
     "output_type": "display_data"
    }
   ],
   "source": [
    "#Barchart of Number of Accidents and Number of Casualties\n",
    "for column in [\"num\"]:\n",
    "    var_value = df1_copy[column].value_counts()\n",
    "    \n",
    "    plt.figure(figsize=(14,5))\n",
    "    \n",
    "    plt.grid(False)\n",
    "    sns.barplot(x=var_value.index, y=var_value, order=var_value.index, \n",
    "                palette = sns.color_palette(\"rocket\"))    \n",
    "    \n",
    "    plt.title(\" \".join(column.split(\"_\")), weight=\"bold\")\n",
    "    plt.ylabel(\"Freqeuncy\")\n",
    "    plt.ticklabel_format(style='plain', axis='y')"
   ]
  },
  {
   "cell_type": "code",
   "execution_count": 30,
   "id": "04d5867d-eedb-4b01-ac48-b31cc9ca72e0",
   "metadata": {},
   "outputs": [
    {
     "data": {
      "image/png": "[encoded data removed]",
      "text/plain": [
       "<Figure size 1296x864 with 2 Axes>"
      ]
     },
     "metadata": {
      "needs_background": "light"
     },
     "output_type": "display_data"
    }
   ],
   "source": [
    "plt.figure(figsize=(18,12))\n",
    "plt.subplot(221)\n",
    "df1_copy['sex'].value_counts().plot.pie(autopct = '%1.0f%%', colors = sns.color_palette('rocket',5), startangle = 900, labels =['Male','Female'], wedgeprops = {'linewidth':2, 'edgecolor':'k'}, explode = [.1,.1], shadow = False)\n",
    "plt.title(' Gender')\n",
    "plt.subplot(222)\n",
    "ax = sns.distplot(df1_copy['age'], rug = True)\n",
    "plt.title('Age  distribution')\n",
    "plt.show()"
   ]
  },
  {
   "cell_type": "markdown",
   "id": "d1cba5f6",
   "metadata": {},
   "source": [
    "### Modeling"
   ]
  },
  {
   "cell_type": "code",
   "execution_count": 31,
   "id": "3fc1fcf5",
   "metadata": {},
   "outputs": [
    {
     "data": {
      "text/plain": [
       "Index(['age', 'sex', 'cp', 'chol', 'trestbps', 'thalch', 'oldpeak', 'ca',\n",
       "       'thal', 'num'],\n",
       "      dtype='object')"
      ]
     },
     "execution_count": 31,
     "metadata": {},
     "output_type": "execute_result"
    }
   ],
   "source": [
    "df1_copy.columns"
   ]
  },
  {
   "cell_type": "code",
   "execution_count": 32,
   "id": "32c50ffd",
   "metadata": {},
   "outputs": [
    {
     "data": {
      "text/html": [
       "<div>\n",
       "<style scoped>\n",
       "    .dataframe tbody tr th:only-of-type {\n",
       "        vertical-align: middle;\n",
       "    }\n",
       "\n",
       "    .dataframe tbody tr th {\n",
       "        vertical-align: top;\n",
       "    }\n",
       "\n",
       "    .dataframe thead th {\n",
       "        text-align: right;\n",
       "    }\n",
       "</style>\n",
       "<table border=\"1\" class=\"dataframe\">\n",
       "  <thead>\n",
       "    <tr style=\"text-align: right;\">\n",
       "      <th></th>\n",
       "      <th>Percent Missing</th>\n",
       "    </tr>\n",
       "  </thead>\n",
       "  <tbody>\n",
       "    <tr>\n",
       "      <th>age</th>\n",
       "      <td>0.0</td>\n",
       "    </tr>\n",
       "    <tr>\n",
       "      <th>sex</th>\n",
       "      <td>0.0</td>\n",
       "    </tr>\n",
       "    <tr>\n",
       "      <th>cp</th>\n",
       "      <td>0.0</td>\n",
       "    </tr>\n",
       "    <tr>\n",
       "      <th>chol</th>\n",
       "      <td>0.0</td>\n",
       "    </tr>\n",
       "    <tr>\n",
       "      <th>trestbps</th>\n",
       "      <td>0.0</td>\n",
       "    </tr>\n",
       "    <tr>\n",
       "      <th>thalch</th>\n",
       "      <td>0.0</td>\n",
       "    </tr>\n",
       "    <tr>\n",
       "      <th>oldpeak</th>\n",
       "      <td>0.0</td>\n",
       "    </tr>\n",
       "    <tr>\n",
       "      <th>ca</th>\n",
       "      <td>0.0</td>\n",
       "    </tr>\n",
       "    <tr>\n",
       "      <th>thal</th>\n",
       "      <td>0.0</td>\n",
       "    </tr>\n",
       "    <tr>\n",
       "      <th>num</th>\n",
       "      <td>0.0</td>\n",
       "    </tr>\n",
       "  </tbody>\n",
       "</table>\n",
       "</div>"
      ],
      "text/plain": [
       "          Percent Missing\n",
       "age                   0.0\n",
       "sex                   0.0\n",
       "cp                    0.0\n",
       "chol                  0.0\n",
       "trestbps              0.0\n",
       "thalch                0.0\n",
       "oldpeak               0.0\n",
       "ca                    0.0\n",
       "thal                  0.0\n",
       "num                   0.0"
      ]
     },
     "execution_count": 32,
     "metadata": {},
     "output_type": "execute_result"
    }
   ],
   "source": [
    "## checking for mising\n",
    "# count missing data\n",
    "person_missing_count = df1_copy.isnull().sum().sort_values(ascending=False)\n",
    "pd.DataFrame({'Percent Missing':person_missing_count/len(df1_copy)})"
   ]
  },
  {
   "cell_type": "code",
   "execution_count": 33,
   "id": "4cedae20-9d5c-4ffb-b864-985c332dd1c3",
   "metadata": {},
   "outputs": [
    {
     "data": {
      "text/plain": [
       "age         0\n",
       "sex         0\n",
       "cp          0\n",
       "chol        0\n",
       "trestbps    0\n",
       "thalch      0\n",
       "oldpeak     0\n",
       "ca          0\n",
       "thal        0\n",
       "num         0\n",
       "dtype: int64"
      ]
     },
     "execution_count": 33,
     "metadata": {},
     "output_type": "execute_result"
    }
   ],
   "source": [
    "df1_copy.isnull().sum()"
   ]
  },
  {
   "cell_type": "code",
   "execution_count": 34,
   "id": "e954c4cd-a9dc-47f7-9122-a50e0c9e14f9",
   "metadata": {},
   "outputs": [
    {
     "data": {
      "text/html": [
       "<div>\n",
       "<style scoped>\n",
       "    .dataframe tbody tr th:only-of-type {\n",
       "        vertical-align: middle;\n",
       "    }\n",
       "\n",
       "    .dataframe tbody tr th {\n",
       "        vertical-align: top;\n",
       "    }\n",
       "\n",
       "    .dataframe thead th {\n",
       "        text-align: right;\n",
       "    }\n",
       "</style>\n",
       "<table border=\"1\" class=\"dataframe\">\n",
       "  <thead>\n",
       "    <tr style=\"text-align: right;\">\n",
       "      <th></th>\n",
       "      <th>age</th>\n",
       "      <th>sex</th>\n",
       "      <th>cp</th>\n",
       "      <th>chol</th>\n",
       "      <th>trestbps</th>\n",
       "      <th>thalch</th>\n",
       "      <th>oldpeak</th>\n",
       "      <th>ca</th>\n",
       "      <th>thal</th>\n",
       "      <th>num</th>\n",
       "    </tr>\n",
       "  </thead>\n",
       "  <tbody>\n",
       "    <tr>\n",
       "      <th>0</th>\n",
       "      <td>63</td>\n",
       "      <td>1</td>\n",
       "      <td>4</td>\n",
       "      <td>233.0</td>\n",
       "      <td>145.0</td>\n",
       "      <td>150.0</td>\n",
       "      <td>2.3</td>\n",
       "      <td>0.0</td>\n",
       "      <td>3</td>\n",
       "      <td>0</td>\n",
       "    </tr>\n",
       "    <tr>\n",
       "      <th>1</th>\n",
       "      <td>67</td>\n",
       "      <td>1</td>\n",
       "      <td>1</td>\n",
       "      <td>286.0</td>\n",
       "      <td>160.0</td>\n",
       "      <td>108.0</td>\n",
       "      <td>1.5</td>\n",
       "      <td>3.0</td>\n",
       "      <td>1</td>\n",
       "      <td>2</td>\n",
       "    </tr>\n",
       "    <tr>\n",
       "      <th>2</th>\n",
       "      <td>67</td>\n",
       "      <td>1</td>\n",
       "      <td>1</td>\n",
       "      <td>229.0</td>\n",
       "      <td>120.0</td>\n",
       "      <td>129.0</td>\n",
       "      <td>2.6</td>\n",
       "      <td>2.0</td>\n",
       "      <td>2</td>\n",
       "      <td>1</td>\n",
       "    </tr>\n",
       "    <tr>\n",
       "      <th>3</th>\n",
       "      <td>37</td>\n",
       "      <td>1</td>\n",
       "      <td>2</td>\n",
       "      <td>250.0</td>\n",
       "      <td>130.0</td>\n",
       "      <td>187.0</td>\n",
       "      <td>3.5</td>\n",
       "      <td>0.0</td>\n",
       "      <td>1</td>\n",
       "      <td>0</td>\n",
       "    </tr>\n",
       "    <tr>\n",
       "      <th>4</th>\n",
       "      <td>41</td>\n",
       "      <td>2</td>\n",
       "      <td>3</td>\n",
       "      <td>204.0</td>\n",
       "      <td>130.0</td>\n",
       "      <td>172.0</td>\n",
       "      <td>1.4</td>\n",
       "      <td>0.0</td>\n",
       "      <td>1</td>\n",
       "      <td>0</td>\n",
       "    </tr>\n",
       "  </tbody>\n",
       "</table>\n",
       "</div>"
      ],
      "text/plain": [
       "   age sex cp   chol  trestbps  thalch  oldpeak   ca thal  num\n",
       "0   63   1  4  233.0     145.0   150.0      2.3  0.0    3    0\n",
       "1   67   1  1  286.0     160.0   108.0      1.5  3.0    1    2\n",
       "2   67   1  1  229.0     120.0   129.0      2.6  2.0    2    1\n",
       "3   37   1  2  250.0     130.0   187.0      3.5  0.0    1    0\n",
       "4   41   2  3  204.0     130.0   172.0      1.4  0.0    1    0"
      ]
     },
     "execution_count": 34,
     "metadata": {},
     "output_type": "execute_result"
    }
   ],
   "source": [
    "df1_copy.head()"
   ]
  },
  {
   "cell_type": "markdown",
   "id": "4046b98e",
   "metadata": {},
   "source": [
    "### Standardazation"
   ]
  },
  {
   "cell_type": "code",
   "execution_count": 35,
   "id": "ff947c26",
   "metadata": {},
   "outputs": [],
   "source": [
    "### Extracting and standardizing numerical features\n",
    "numerical_features = ['age','chol','cp','trestbps','thalch','oldpeak','ca','thal']"
   ]
  },
  {
   "cell_type": "code",
   "execution_count": 36,
   "id": "3cf5ebf0-3698-412e-a9dd-d76369fbd9bd",
   "metadata": {},
   "outputs": [],
   "source": [
    "scaler = StandardScaler()\n",
    "df1_copy[numerical_features] = scaler.fit_transform(df1_copy[numerical_features])"
   ]
  },
  {
   "cell_type": "code",
   "execution_count": 37,
   "id": "ebf73c1e-05bf-4065-94e5-6f04ddfe42a0",
   "metadata": {},
   "outputs": [
    {
     "data": {
      "text/html": [
       "<div>\n",
       "<style scoped>\n",
       "    .dataframe tbody tr th:only-of-type {\n",
       "        vertical-align: middle;\n",
       "    }\n",
       "\n",
       "    .dataframe tbody tr th {\n",
       "        vertical-align: top;\n",
       "    }\n",
       "\n",
       "    .dataframe thead th {\n",
       "        text-align: right;\n",
       "    }\n",
       "</style>\n",
       "<table border=\"1\" class=\"dataframe\">\n",
       "  <thead>\n",
       "    <tr style=\"text-align: right;\">\n",
       "      <th></th>\n",
       "      <th>age</th>\n",
       "      <th>sex</th>\n",
       "      <th>cp</th>\n",
       "      <th>chol</th>\n",
       "      <th>trestbps</th>\n",
       "      <th>thalch</th>\n",
       "      <th>oldpeak</th>\n",
       "      <th>ca</th>\n",
       "      <th>thal</th>\n",
       "      <th>num</th>\n",
       "    </tr>\n",
       "  </thead>\n",
       "  <tbody>\n",
       "    <tr>\n",
       "      <th>0</th>\n",
       "      <td>0.940446</td>\n",
       "      <td>1</td>\n",
       "      <td>2.248290</td>\n",
       "      <td>-0.262867</td>\n",
       "      <td>0.749760</td>\n",
       "      <td>0.029124</td>\n",
       "      <td>1.069475</td>\n",
       "      <td>-0.718306</td>\n",
       "      <td>2.445867</td>\n",
       "      <td>0</td>\n",
       "    </tr>\n",
       "    <tr>\n",
       "      <th>1</th>\n",
       "      <td>1.384143</td>\n",
       "      <td>1</td>\n",
       "      <td>-0.868737</td>\n",
       "      <td>0.747722</td>\n",
       "      <td>1.596354</td>\n",
       "      <td>-1.790447</td>\n",
       "      <td>0.380309</td>\n",
       "      <td>2.487269</td>\n",
       "      <td>-0.840939</td>\n",
       "      <td>2</td>\n",
       "    </tr>\n",
       "    <tr>\n",
       "      <th>2</th>\n",
       "      <td>1.384143</td>\n",
       "      <td>1</td>\n",
       "      <td>-0.868737</td>\n",
       "      <td>-0.339138</td>\n",
       "      <td>-0.661231</td>\n",
       "      <td>-0.880662</td>\n",
       "      <td>1.327912</td>\n",
       "      <td>1.418744</td>\n",
       "      <td>0.802464</td>\n",
       "      <td>1</td>\n",
       "    </tr>\n",
       "    <tr>\n",
       "      <th>3</th>\n",
       "      <td>-1.943588</td>\n",
       "      <td>1</td>\n",
       "      <td>0.170272</td>\n",
       "      <td>0.061285</td>\n",
       "      <td>-0.096835</td>\n",
       "      <td>1.632079</td>\n",
       "      <td>2.103224</td>\n",
       "      <td>-0.718306</td>\n",
       "      <td>-0.840939</td>\n",
       "      <td>0</td>\n",
       "    </tr>\n",
       "    <tr>\n",
       "      <th>4</th>\n",
       "      <td>-1.499891</td>\n",
       "      <td>2</td>\n",
       "      <td>1.209281</td>\n",
       "      <td>-0.815830</td>\n",
       "      <td>-0.096835</td>\n",
       "      <td>0.982232</td>\n",
       "      <td>0.294163</td>\n",
       "      <td>-0.718306</td>\n",
       "      <td>-0.840939</td>\n",
       "      <td>0</td>\n",
       "    </tr>\n",
       "  </tbody>\n",
       "</table>\n",
       "</div>"
      ],
      "text/plain": [
       "        age sex        cp      chol  trestbps    thalch   oldpeak        ca  \\\n",
       "0  0.940446   1  2.248290 -0.262867  0.749760  0.029124  1.069475 -0.718306   \n",
       "1  1.384143   1 -0.868737  0.747722  1.596354 -1.790447  0.380309  2.487269   \n",
       "2  1.384143   1 -0.868737 -0.339138 -0.661231 -0.880662  1.327912  1.418744   \n",
       "3 -1.943588   1  0.170272  0.061285 -0.096835  1.632079  2.103224 -0.718306   \n",
       "4 -1.499891   2  1.209281 -0.815830 -0.096835  0.982232  0.294163 -0.718306   \n",
       "\n",
       "       thal  num  \n",
       "0  2.445867    0  \n",
       "1 -0.840939    2  \n",
       "2  0.802464    1  \n",
       "3 -0.840939    0  \n",
       "4 -0.840939    0  "
      ]
     },
     "execution_count": 37,
     "metadata": {},
     "output_type": "execute_result"
    }
   ],
   "source": [
    "df1_copy.head()"
   ]
  },
  {
   "cell_type": "markdown",
   "id": "613c40f8-5375-48d5-b787-2a9904887bf2",
   "metadata": {},
   "source": [
    "### Spliting the Data"
   ]
  },
  {
   "cell_type": "code",
   "execution_count": 38,
   "id": "ce969de8-4169-4326-8a34-f9ac8003699d",
   "metadata": {},
   "outputs": [],
   "source": [
    "x = df1_copy.drop('num', axis=1)\n",
    "y = df1_copy['num']"
   ]
  },
  {
   "cell_type": "code",
   "execution_count": 39,
   "id": "091a2b95",
   "metadata": {},
   "outputs": [
    {
     "data": {
      "text/plain": [
       "array([0, 2, 1, 3, 4], dtype=int64)"
      ]
     },
     "execution_count": 39,
     "metadata": {},
     "output_type": "execute_result"
    }
   ],
   "source": [
    "y.unique()"
   ]
  },
  {
   "cell_type": "code",
   "execution_count": 40,
   "id": "702f9ff2",
   "metadata": {},
   "outputs": [
    {
     "name": "stdout",
     "output_type": "stream",
     "text": [
      "<class 'pandas.core.frame.DataFrame'>\n",
      "Int64Index: 299 entries, 0 to 748\n",
      "Data columns (total 9 columns):\n",
      " #   Column    Non-Null Count  Dtype  \n",
      "---  ------    --------------  -----  \n",
      " 0   age       299 non-null    float64\n",
      " 1   sex       299 non-null    object \n",
      " 2   cp        299 non-null    float64\n",
      " 3   chol      299 non-null    float64\n",
      " 4   trestbps  299 non-null    float64\n",
      " 5   thalch    299 non-null    float64\n",
      " 6   oldpeak   299 non-null    float64\n",
      " 7   ca        299 non-null    float64\n",
      " 8   thal      299 non-null    float64\n",
      "dtypes: float64(8), object(1)\n",
      "memory usage: 23.4+ KB\n"
     ]
    }
   ],
   "source": [
    "x.info()"
   ]
  },
  {
   "cell_type": "markdown",
   "id": "ef98a9cd",
   "metadata": {},
   "source": [
    "### Converting Categorical Data to Integer"
   ]
  },
  {
   "cell_type": "code",
   "execution_count": 41,
   "id": "0a9917cd",
   "metadata": {},
   "outputs": [],
   "source": [
    "x['sex']=x['sex'].astype('int')"
   ]
  },
  {
   "cell_type": "code",
   "execution_count": 42,
   "id": "72f39233",
   "metadata": {},
   "outputs": [
    {
     "data": {
      "text/plain": [
       "array([0, 2, 1, 3, 4], dtype=int64)"
      ]
     },
     "execution_count": 42,
     "metadata": {},
     "output_type": "execute_result"
    }
   ],
   "source": [
    "y.unique()"
   ]
  },
  {
   "cell_type": "code",
   "execution_count": 43,
   "id": "90daf6f6-c205-4155-8a7d-4fde8202b136",
   "metadata": {},
   "outputs": [],
   "source": [
    "## Using SMOTE for the class imbalance in the target variable distribution using KNN\n",
    "# RESAMPLED DATA\n",
    "\n",
    "from imblearn.over_sampling import SMOTE\n",
    "seed = 101\n",
    "k = 1 \n",
    "sm = SMOTE(sampling_strategy = 'minority', k_neighbors = k, random_state = seed)\n",
    "res_X, res_y = sm.fit_resample(x, y)\n",
    "X_train,X_test,y_train,y_test = train_test_split(res_X, res_y,test_size=0.3,random_state=0)"
   ]
  },
  {
   "cell_type": "markdown",
   "id": "7af6eabd",
   "metadata": {},
   "source": [
    "### Random Forest"
   ]
  },
  {
   "cell_type": "code",
   "execution_count": 44,
   "id": "8d949273-51a7-4f8e-9795-9cda7fb18c34",
   "metadata": {},
   "outputs": [
    {
     "name": "stdout",
     "output_type": "stream",
     "text": [
      "[2 4 0 1 3]\n",
      "[4 0 2 3 1]\n"
     ]
    }
   ],
   "source": [
    "print(y_train.unique())\n",
    "print(y_test.unique())"
   ]
  },
  {
   "cell_type": "code",
   "execution_count": 45,
   "id": "3b9cfc30",
   "metadata": {},
   "outputs": [
    {
     "data": {
      "text/html": [
       "<div>\n",
       "<style scoped>\n",
       "    .dataframe tbody tr th:only-of-type {\n",
       "        vertical-align: middle;\n",
       "    }\n",
       "\n",
       "    .dataframe tbody tr th {\n",
       "        vertical-align: top;\n",
       "    }\n",
       "\n",
       "    .dataframe thead th {\n",
       "        text-align: right;\n",
       "    }\n",
       "</style>\n",
       "<table border=\"1\" class=\"dataframe\">\n",
       "  <thead>\n",
       "    <tr style=\"text-align: right;\">\n",
       "      <th></th>\n",
       "      <th>age</th>\n",
       "      <th>sex</th>\n",
       "      <th>cp</th>\n",
       "      <th>chol</th>\n",
       "      <th>trestbps</th>\n",
       "      <th>thalch</th>\n",
       "      <th>oldpeak</th>\n",
       "      <th>ca</th>\n",
       "      <th>thal</th>\n",
       "      <th>num</th>\n",
       "    </tr>\n",
       "  </thead>\n",
       "  <tbody>\n",
       "    <tr>\n",
       "      <th>0</th>\n",
       "      <td>0.940446</td>\n",
       "      <td>1</td>\n",
       "      <td>2.248290</td>\n",
       "      <td>-0.262867</td>\n",
       "      <td>0.749760</td>\n",
       "      <td>0.029124</td>\n",
       "      <td>1.069475</td>\n",
       "      <td>-0.718306</td>\n",
       "      <td>2.445867</td>\n",
       "      <td>0</td>\n",
       "    </tr>\n",
       "    <tr>\n",
       "      <th>1</th>\n",
       "      <td>1.384143</td>\n",
       "      <td>1</td>\n",
       "      <td>-0.868737</td>\n",
       "      <td>0.747722</td>\n",
       "      <td>1.596354</td>\n",
       "      <td>-1.790447</td>\n",
       "      <td>0.380309</td>\n",
       "      <td>2.487269</td>\n",
       "      <td>-0.840939</td>\n",
       "      <td>2</td>\n",
       "    </tr>\n",
       "    <tr>\n",
       "      <th>2</th>\n",
       "      <td>1.384143</td>\n",
       "      <td>1</td>\n",
       "      <td>-0.868737</td>\n",
       "      <td>-0.339138</td>\n",
       "      <td>-0.661231</td>\n",
       "      <td>-0.880662</td>\n",
       "      <td>1.327912</td>\n",
       "      <td>1.418744</td>\n",
       "      <td>0.802464</td>\n",
       "      <td>1</td>\n",
       "    </tr>\n",
       "    <tr>\n",
       "      <th>3</th>\n",
       "      <td>-1.943588</td>\n",
       "      <td>1</td>\n",
       "      <td>0.170272</td>\n",
       "      <td>0.061285</td>\n",
       "      <td>-0.096835</td>\n",
       "      <td>1.632079</td>\n",
       "      <td>2.103224</td>\n",
       "      <td>-0.718306</td>\n",
       "      <td>-0.840939</td>\n",
       "      <td>0</td>\n",
       "    </tr>\n",
       "    <tr>\n",
       "      <th>4</th>\n",
       "      <td>-1.499891</td>\n",
       "      <td>2</td>\n",
       "      <td>1.209281</td>\n",
       "      <td>-0.815830</td>\n",
       "      <td>-0.096835</td>\n",
       "      <td>0.982232</td>\n",
       "      <td>0.294163</td>\n",
       "      <td>-0.718306</td>\n",
       "      <td>-0.840939</td>\n",
       "      <td>0</td>\n",
       "    </tr>\n",
       "  </tbody>\n",
       "</table>\n",
       "</div>"
      ],
      "text/plain": [
       "        age sex        cp      chol  trestbps    thalch   oldpeak        ca  \\\n",
       "0  0.940446   1  2.248290 -0.262867  0.749760  0.029124  1.069475 -0.718306   \n",
       "1  1.384143   1 -0.868737  0.747722  1.596354 -1.790447  0.380309  2.487269   \n",
       "2  1.384143   1 -0.868737 -0.339138 -0.661231 -0.880662  1.327912  1.418744   \n",
       "3 -1.943588   1  0.170272  0.061285 -0.096835  1.632079  2.103224 -0.718306   \n",
       "4 -1.499891   2  1.209281 -0.815830 -0.096835  0.982232  0.294163 -0.718306   \n",
       "\n",
       "       thal  num  \n",
       "0  2.445867    0  \n",
       "1 -0.840939    2  \n",
       "2  0.802464    1  \n",
       "3 -0.840939    0  \n",
       "4 -0.840939    0  "
      ]
     },
     "execution_count": 45,
     "metadata": {},
     "output_type": "execute_result"
    }
   ],
   "source": [
    "df1_copy.head()"
   ]
  },
  {
   "cell_type": "code",
   "execution_count": 46,
   "id": "f2597e26-6551-40a4-9201-343ebe164f05",
   "metadata": {},
   "outputs": [],
   "source": [
    "y_train[y_train ==1]= 1\n",
    "y_train[y_train ==2]= 2\n",
    "y_train[y_train ==3]= 3\n",
    "y_train[y_train ==4]= 4\n",
    "y_train[y_train ==5]= 5"
   ]
  },
  {
   "cell_type": "code",
   "execution_count": 47,
   "id": "51557055-73da-47f4-b44f-dc83d47d39d6",
   "metadata": {},
   "outputs": [],
   "source": [
    "y_test[y_test ==1]= 1\n",
    "y_test[y_test ==2]= 2\n",
    "y_test[y_test ==3]= 3\n",
    "y_test[y_test ==4]= 4\n",
    "y_test[y_test ==5]= 5"
   ]
  },
  {
   "cell_type": "code",
   "execution_count": 48,
   "id": "bff50dc7-1748-4a7b-9281-4e64eea3160f",
   "metadata": {},
   "outputs": [],
   "source": [
    "from sklearn.model_selection import RandomizedSearchCV\n",
    "from sklearn.ensemble import RandomForestRegressor"
   ]
  },
  {
   "cell_type": "code",
   "execution_count": 49,
   "id": "e257033f-fed4-4491-a9a1-a330eaac1079",
   "metadata": {},
   "outputs": [],
   "source": [
    "## hyperparameter tunning\n",
    "n_estimators = [25]\n",
    "max_depth = [25]\n",
    "min_samples_leaf = [2]\n",
    "bootstrap = [True, False]\n",
    "\n",
    "param_grid = {\n",
    "    \"n_estimators\": n_estimators,\n",
    "    \"max_depth\": max_depth,\n",
    "    \"min_samples_leaf\": min_samples_leaf,\n",
    "    \"bootstrap\": bootstrap,\n",
    "}"
   ]
  },
  {
   "cell_type": "code",
   "execution_count": 50,
   "id": "5257ad7c-6ad1-439b-8f6f-ac1febc92c28",
   "metadata": {},
   "outputs": [
    {
     "data": {
      "text/html": [
       "<style>#sk-container-id-1 {color: black;}#sk-container-id-1 pre{padding: 0;}#sk-container-id-1 div.sk-toggleable {background-color: white;}#sk-container-id-1 label.sk-toggleable__label {cursor: pointer;display: block;width: 100%;margin-bottom: 0;padding: 0.3em;box-sizing: border-box;text-align: center;}#sk-container-id-1 label.sk-toggleable__label-arrow:before {content: \"▸\";float: left;margin-right: 0.25em;color: #696969;}#sk-container-id-1 label.sk-toggleable__label-arrow:hover:before {color: black;}#sk-container-id-1 div.sk-estimator:hover label.sk-toggleable__label-arrow:before {color: black;}#sk-container-id-1 div.sk-toggleable__content {max-height: 0;max-width: 0;overflow: hidden;text-align: left;background-color: #f0f8ff;}#sk-container-id-1 div.sk-toggleable__content pre {margin: 0.2em;color: black;border-radius: 0.25em;background-color: #f0f8ff;}#sk-container-id-1 input.sk-toggleable__control:checked~div.sk-toggleable__content {max-height: 200px;max-width: 100%;overflow: auto;}#sk-container-id-1 input.sk-toggleable__control:checked~label.sk-toggleable__label-arrow:before {content: \"▾\";}#sk-container-id-1 div.sk-estimator input.sk-toggleable__control:checked~label.sk-toggleable__label {background-color: #d4ebff;}#sk-container-id-1 div.sk-label input.sk-toggleable__control:checked~label.sk-toggleable__label {background-color: #d4ebff;}#sk-container-id-1 input.sk-hidden--visually {border: 0;clip: rect(1px 1px 1px 1px);clip: rect(1px, 1px, 1px, 1px);height: 1px;margin: -1px;overflow: hidden;padding: 0;position: absolute;width: 1px;}#sk-container-id-1 div.sk-estimator {font-family: monospace;background-color: #f0f8ff;border: 1px dotted black;border-radius: 0.25em;box-sizing: border-box;margin-bottom: 0.5em;}#sk-container-id-1 div.sk-estimator:hover {background-color: #d4ebff;}#sk-container-id-1 div.sk-parallel-item::after {content: \"\";width: 100%;border-bottom: 1px solid gray;flex-grow: 1;}#sk-container-id-1 div.sk-label:hover label.sk-toggleable__label {background-color: #d4ebff;}#sk-container-id-1 div.sk-serial::before {content: \"\";position: absolute;border-left: 1px solid gray;box-sizing: border-box;top: 0;bottom: 0;left: 50%;z-index: 0;}#sk-container-id-1 div.sk-serial {display: flex;flex-direction: column;align-items: center;background-color: white;padding-right: 0.2em;padding-left: 0.2em;position: relative;}#sk-container-id-1 div.sk-item {position: relative;z-index: 1;}#sk-container-id-1 div.sk-parallel {display: flex;align-items: stretch;justify-content: center;background-color: white;position: relative;}#sk-container-id-1 div.sk-item::before, #sk-container-id-1 div.sk-parallel-item::before {content: \"\";position: absolute;border-left: 1px solid gray;box-sizing: border-box;top: 0;bottom: 0;left: 50%;z-index: -1;}#sk-container-id-1 div.sk-parallel-item {display: flex;flex-direction: column;z-index: 1;position: relative;background-color: white;}#sk-container-id-1 div.sk-parallel-item:first-child::after {align-self: flex-end;width: 50%;}#sk-container-id-1 div.sk-parallel-item:last-child::after {align-self: flex-start;width: 50%;}#sk-container-id-1 div.sk-parallel-item:only-child::after {width: 0;}#sk-container-id-1 div.sk-dashed-wrapped {border: 1px dashed gray;margin: 0 0.4em 0.5em 0.4em;box-sizing: border-box;padding-bottom: 0.4em;background-color: white;}#sk-container-id-1 div.sk-label label {font-family: monospace;font-weight: bold;display: inline-block;line-height: 1.2em;}#sk-container-id-1 div.sk-label-container {text-align: center;}#sk-container-id-1 div.sk-container {/* jupyter's `normalize.less` sets `[hidden] { display: none; }` but bootstrap.min.css set `[hidden] { display: none !important; }` so we also need the `!important` here to be able to override the default hidden behavior on the sphinx rendered scikit-learn.org. See: https://github.com/scikit-learn/scikit-learn/issues/21755 */display: inline-block !important;position: relative;}#sk-container-id-1 div.sk-text-repr-fallback {display: none;}</style><div id=\"sk-container-id-1\" class=\"sk-top-container\"><div class=\"sk-text-repr-fallback\"><pre>RandomForestRegressor()</pre><b>In a Jupyter environment, please rerun this cell to show the HTML representation or trust the notebook. <br />On GitHub, the HTML representation is unable to render, please try loading this page with nbviewer.org.</b></div><div class=\"sk-container\" hidden><div class=\"sk-item\"><div class=\"sk-estimator sk-toggleable\"><input class=\"sk-toggleable__control sk-hidden--visually\" id=\"sk-estimator-id-1\" type=\"checkbox\" checked><label for=\"sk-estimator-id-1\" class=\"sk-toggleable__label sk-toggleable__label-arrow\">RandomForestRegressor</label><div class=\"sk-toggleable__content\"><pre>RandomForestRegressor()</pre></div></div></div></div></div>"
      ],
      "text/plain": [
       "RandomForestRegressor()"
      ]
     },
     "execution_count": 50,
     "metadata": {},
     "output_type": "execute_result"
    }
   ],
   "source": [
    "###Training the Model\n",
    "rf = RandomForestRegressor()\n",
    "rf_random = RandomizedSearchCV(estimator = rf, param_distributions = param_grid, n_iter=50, cv =2, verbose = 10, random_state=0, n_jobs = 10)\n",
    "rf.fit(X_train, y_train)"
   ]
  },
  {
   "cell_type": "code",
   "execution_count": 51,
   "id": "52eb0e6f-a03e-44d5-91ea-1070f4a17f1b",
   "metadata": {},
   "outputs": [],
   "source": [
    "### Predicting with the trained model\n",
    "y_pred_rf = rf.predict(X_test)\n",
    "y_pred_rf = y_pred_rf.astype(int)"
   ]
  },
  {
   "cell_type": "code",
   "execution_count": 52,
   "id": "82fa6a03-c42e-449a-a151-8fc8457f7c35",
   "metadata": {},
   "outputs": [
    {
     "data": {
      "text/plain": [
       "0      0\n",
       "1      2\n",
       "2      1\n",
       "3      0\n",
       "4      0\n",
       "      ..\n",
       "299    2\n",
       "300    3\n",
       "301    1\n",
       "508    1\n",
       "748    1\n",
       "Name: num, Length: 299, dtype: int64"
      ]
     },
     "execution_count": 52,
     "metadata": {},
     "output_type": "execute_result"
    }
   ],
   "source": [
    "y"
   ]
  },
  {
   "cell_type": "code",
   "execution_count": 53,
   "id": "abb78ecb-870c-4256-8298-d4b556fef837",
   "metadata": {},
   "outputs": [
    {
     "name": "stdout",
     "output_type": "stream",
     "text": [
      "Random Forest Model Classification Report \n",
      " -----------------------------\n",
      "Accuracy: 0.49\n",
      "              precision    recall  f1-score   support\n",
      "\n",
      "          No       0.75      0.91      0.82        44\n",
      "        Mild       0.11      0.06      0.07        18\n",
      "    Moderate       0.24      0.31      0.27        16\n",
      "      Severe       0.03      0.11      0.05         9\n",
      " Very Severe       1.00      0.38      0.55        47\n",
      "\n",
      "    accuracy                           0.49       134\n",
      "   macro avg       0.43      0.35      0.35       134\n",
      "weighted avg       0.64      0.49      0.51       134\n",
      "\n"
     ]
    }
   ],
   "source": [
    "### Classification Report\n",
    "print('Random Forest Model Classification Report \\n -----------------------------')\n",
    "accuracy = accuracy_score(y_test, y_pred_rf)\n",
    "print(\"Accuracy: {:.2f}\".format(accuracy))\n",
    "print(classification_report(y_test, y_pred_rf,\n",
    "                            target_names=['No','Mild','Moderate', 'Severe', 'Very Severe']))"
   ]
  },
  {
   "cell_type": "code",
   "execution_count": 54,
   "id": "c21e6361-9b41-48a2-9928-0f48f4f77a18",
   "metadata": {},
   "outputs": [
    {
     "data": {
      "image/png": "[encoded data removed]",
      "text/plain": [
       "<Figure size 576x432 with 2 Axes>"
      ]
     },
     "metadata": {
      "needs_background": "light"
     },
     "output_type": "display_data"
    }
   ],
   "source": [
    "# Generate the confusion matrix\n",
    "conf_mat = confusion_matrix(y_test, y_pred_rf)\n",
    "\n",
    "# Plot the confusion matrix as a heatmap\n",
    "plt.figure(figsize=(8, 6))\n",
    "sns.heatmap(conf_mat, cmap=\"rocket_r\", annot=True, fmt=\"d\", xticklabels=['No','Mild','Moderate', 'Severe', 'Very Severe'],\n",
    "            yticklabels=['No','Mild','Moderate', 'Severe', 'Very Severe'])\n",
    "plt.title(\"Confusion Matrix for the Random Forest Model\")\n",
    "plt.ylabel(\"True Label\")\n",
    "plt.xlabel(\"Predicted Label\");\n",
    "#plt.savefig('confusion_matrix.png')"
   ]
  },
  {
   "cell_type": "markdown",
   "id": "82a6d4e5",
   "metadata": {},
   "source": [
    "### LightGBM"
   ]
  },
  {
   "cell_type": "code",
   "execution_count": 55,
   "id": "7ec61a8e-a1a6-4ba5-93cc-c5a19b614214",
   "metadata": {},
   "outputs": [],
   "source": [
    "import lightgbm as lgb"
   ]
  },
  {
   "cell_type": "code",
   "execution_count": 56,
   "id": "b31fbe89-5a30-4855-a218-44e5a7faac2e",
   "metadata": {},
   "outputs": [
    {
     "data": {
      "text/html": [
       "<div>\n",
       "<style scoped>\n",
       "    .dataframe tbody tr th:only-of-type {\n",
       "        vertical-align: middle;\n",
       "    }\n",
       "\n",
       "    .dataframe tbody tr th {\n",
       "        vertical-align: top;\n",
       "    }\n",
       "\n",
       "    .dataframe thead th {\n",
       "        text-align: right;\n",
       "    }\n",
       "</style>\n",
       "<table border=\"1\" class=\"dataframe\">\n",
       "  <thead>\n",
       "    <tr style=\"text-align: right;\">\n",
       "      <th></th>\n",
       "      <th>age</th>\n",
       "      <th>sex</th>\n",
       "      <th>cp</th>\n",
       "      <th>chol</th>\n",
       "      <th>trestbps</th>\n",
       "      <th>thalch</th>\n",
       "      <th>oldpeak</th>\n",
       "      <th>ca</th>\n",
       "      <th>thal</th>\n",
       "      <th>num</th>\n",
       "    </tr>\n",
       "  </thead>\n",
       "  <tbody>\n",
       "    <tr>\n",
       "      <th>0</th>\n",
       "      <td>0.940446</td>\n",
       "      <td>1</td>\n",
       "      <td>2.248290</td>\n",
       "      <td>-0.262867</td>\n",
       "      <td>0.749760</td>\n",
       "      <td>0.029124</td>\n",
       "      <td>1.069475</td>\n",
       "      <td>-0.718306</td>\n",
       "      <td>2.445867</td>\n",
       "      <td>0</td>\n",
       "    </tr>\n",
       "    <tr>\n",
       "      <th>1</th>\n",
       "      <td>1.384143</td>\n",
       "      <td>1</td>\n",
       "      <td>-0.868737</td>\n",
       "      <td>0.747722</td>\n",
       "      <td>1.596354</td>\n",
       "      <td>-1.790447</td>\n",
       "      <td>0.380309</td>\n",
       "      <td>2.487269</td>\n",
       "      <td>-0.840939</td>\n",
       "      <td>2</td>\n",
       "    </tr>\n",
       "    <tr>\n",
       "      <th>2</th>\n",
       "      <td>1.384143</td>\n",
       "      <td>1</td>\n",
       "      <td>-0.868737</td>\n",
       "      <td>-0.339138</td>\n",
       "      <td>-0.661231</td>\n",
       "      <td>-0.880662</td>\n",
       "      <td>1.327912</td>\n",
       "      <td>1.418744</td>\n",
       "      <td>0.802464</td>\n",
       "      <td>1</td>\n",
       "    </tr>\n",
       "    <tr>\n",
       "      <th>3</th>\n",
       "      <td>-1.943588</td>\n",
       "      <td>1</td>\n",
       "      <td>0.170272</td>\n",
       "      <td>0.061285</td>\n",
       "      <td>-0.096835</td>\n",
       "      <td>1.632079</td>\n",
       "      <td>2.103224</td>\n",
       "      <td>-0.718306</td>\n",
       "      <td>-0.840939</td>\n",
       "      <td>0</td>\n",
       "    </tr>\n",
       "    <tr>\n",
       "      <th>4</th>\n",
       "      <td>-1.499891</td>\n",
       "      <td>2</td>\n",
       "      <td>1.209281</td>\n",
       "      <td>-0.815830</td>\n",
       "      <td>-0.096835</td>\n",
       "      <td>0.982232</td>\n",
       "      <td>0.294163</td>\n",
       "      <td>-0.718306</td>\n",
       "      <td>-0.840939</td>\n",
       "      <td>0</td>\n",
       "    </tr>\n",
       "  </tbody>\n",
       "</table>\n",
       "</div>"
      ],
      "text/plain": [
       "        age sex        cp      chol  trestbps    thalch   oldpeak        ca  \\\n",
       "0  0.940446   1  2.248290 -0.262867  0.749760  0.029124  1.069475 -0.718306   \n",
       "1  1.384143   1 -0.868737  0.747722  1.596354 -1.790447  0.380309  2.487269   \n",
       "2  1.384143   1 -0.868737 -0.339138 -0.661231 -0.880662  1.327912  1.418744   \n",
       "3 -1.943588   1  0.170272  0.061285 -0.096835  1.632079  2.103224 -0.718306   \n",
       "4 -1.499891   2  1.209281 -0.815830 -0.096835  0.982232  0.294163 -0.718306   \n",
       "\n",
       "       thal  num  \n",
       "0  2.445867    0  \n",
       "1 -0.840939    2  \n",
       "2  0.802464    1  \n",
       "3 -0.840939    0  \n",
       "4 -0.840939    0  "
      ]
     },
     "execution_count": 56,
     "metadata": {},
     "output_type": "execute_result"
    }
   ],
   "source": [
    "df1_copy.head()"
   ]
  },
  {
   "cell_type": "code",
   "execution_count": 57,
   "id": "b727763b-e859-464d-ab66-f517d5b95465",
   "metadata": {},
   "outputs": [],
   "source": [
    "## Using SMOTE for the class imbalance in the target variable distribution using KNN\n",
    "# RESAMPLED DATA\n",
    "from imblearn.over_sampling import SMOTE\n",
    "seed = 101\n",
    "k = 1 \n",
    "sm = SMOTE(sampling_strategy = 'minority', k_neighbors = k, random_state = seed)\n",
    "res_X, res_y = sm.fit_resample(x, y)\n",
    "X_train,X_test,y_train,y_test = train_test_split(res_X, res_y,test_size=0.3,random_state=0)"
   ]
  },
  {
   "cell_type": "code",
   "execution_count": 58,
   "id": "fbe1a3db",
   "metadata": {},
   "outputs": [
    {
     "data": {
      "text/plain": [
       "((312, 9), (134, 9))"
      ]
     },
     "execution_count": 58,
     "metadata": {},
     "output_type": "execute_result"
    }
   ],
   "source": [
    "X_train, X_val,y_train, y_val = train_test_split(res_X, res_y,\n",
    "                                      random_state=0,\n",
    "                                      test_size=0.30)\n",
    "# Check the shape of both sets\n",
    "X_train.shape, X_val.shape"
   ]
  },
  {
   "cell_type": "code",
   "execution_count": 59,
   "id": "497e8359-8ddd-4c8e-88a1-f62950de8ca2",
   "metadata": {},
   "outputs": [
    {
     "data": {
      "text/plain": [
       "array([2, 4, 0, 1, 3], dtype=int64)"
      ]
     },
     "execution_count": 59,
     "metadata": {},
     "output_type": "execute_result"
    }
   ],
   "source": [
    "y_train.unique()"
   ]
  },
  {
   "cell_type": "code",
   "execution_count": 60,
   "id": "083444c2-2f5b-40f2-afc1-2b51e872df5b",
   "metadata": {},
   "outputs": [],
   "source": [
    "params = {\n",
    "    'objective': 'multiclass',\n",
    "    'num_class': 5,\n",
    "    'metric': 'multi_logloss',\n",
    "    'verbose': 0\n",
    "}\n",
    "\n",
    "#Create a LightGBM Dataset\n",
    "train_data = lgb.Dataset(X_train, label=y_train)\n",
    "valid_data = lgb.Dataset(X_val, label=y_val, reference=train_data)"
   ]
  },
  {
   "cell_type": "code",
   "execution_count": 61,
   "id": "d006ab99",
   "metadata": {},
   "outputs": [
    {
     "data": {
      "text/plain": [
       "0      1\n",
       "1      1\n",
       "2      1\n",
       "3      1\n",
       "4      2\n",
       "      ..\n",
       "299    1\n",
       "300    1\n",
       "301    2\n",
       "508    1\n",
       "748    1\n",
       "Name: sex, Length: 299, dtype: int32"
      ]
     },
     "execution_count": 61,
     "metadata": {},
     "output_type": "execute_result"
    }
   ],
   "source": [
    "x['sex']"
   ]
  },
  {
   "cell_type": "code",
   "execution_count": 62,
   "id": "d752eed6-5c4d-4097-a0d3-754a54f3b56f",
   "metadata": {},
   "outputs": [
    {
     "name": "stdout",
     "output_type": "stream",
     "text": [
      "[LightGBM] [Warning] No further splits with positive gain, best gain: -inf\n",
      "[LightGBM] [Warning] No further splits with positive gain, best gain: -inf\n",
      "[LightGBM] [Warning] No further splits with positive gain, best gain: -inf\n",
      "[LightGBM] [Warning] No further splits with positive gain, best gain: -inf\n",
      "[LightGBM] [Warning] No further splits with positive gain, best gain: -inf\n",
      "[LightGBM] [Warning] No further splits with positive gain, best gain: -inf\n",
      "[LightGBM] [Warning] No further splits with positive gain, best gain: -inf\n",
      "[LightGBM] [Warning] No further splits with positive gain, best gain: -inf\n",
      "[LightGBM] [Warning] No further splits with positive gain, best gain: -inf\n",
      "[LightGBM] [Warning] No further splits with positive gain, best gain: -inf\n",
      "[LightGBM] [Warning] No further splits with positive gain, best gain: -inf\n",
      "[LightGBM] [Warning] No further splits with positive gain, best gain: -inf\n",
      "[LightGBM] [Warning] No further splits with positive gain, best gain: -inf\n",
      "[LightGBM] [Warning] No further splits with positive gain, best gain: -inf\n",
      "[LightGBM] [Warning] No further splits with positive gain, best gain: -inf\n",
      "[LightGBM] [Warning] No further splits with positive gain, best gain: -inf\n",
      "[LightGBM] [Warning] No further splits with positive gain, best gain: -inf\n",
      "[LightGBM] [Warning] No further splits with positive gain, best gain: -inf\n",
      "[LightGBM] [Warning] No further splits with positive gain, best gain: -inf\n",
      "[LightGBM] [Warning] No further splits with positive gain, best gain: -inf\n",
      "[LightGBM] [Warning] No further splits with positive gain, best gain: -inf\n",
      "[LightGBM] [Warning] No further splits with positive gain, best gain: -inf\n",
      "[LightGBM] [Warning] No further splits with positive gain, best gain: -inf\n",
      "[LightGBM] [Warning] No further splits with positive gain, best gain: -inf\n",
      "[LightGBM] [Warning] No further splits with positive gain, best gain: -inf\n",
      "[LightGBM] [Warning] No further splits with positive gain, best gain: -inf\n",
      "[LightGBM] [Warning] No further splits with positive gain, best gain: -inf\n",
      "[LightGBM] [Warning] No further splits with positive gain, best gain: -inf\n",
      "[LightGBM] [Warning] No further splits with positive gain, best gain: -inf\n",
      "[LightGBM] [Warning] No further splits with positive gain, best gain: -inf\n",
      "[LightGBM] [Warning] No further splits with positive gain, best gain: -inf\n",
      "[LightGBM] [Warning] No further splits with positive gain, best gain: -inf\n",
      "[LightGBM] [Warning] No further splits with positive gain, best gain: -inf\n",
      "[LightGBM] [Warning] No further splits with positive gain, best gain: -inf\n",
      "[LightGBM] [Warning] No further splits with positive gain, best gain: -inf\n",
      "[LightGBM] [Warning] No further splits with positive gain, best gain: -inf\n",
      "[LightGBM] [Warning] No further splits with positive gain, best gain: -inf\n",
      "[LightGBM] [Warning] No further splits with positive gain, best gain: -inf\n",
      "[LightGBM] [Warning] No further splits with positive gain, best gain: -inf\n",
      "[LightGBM] [Warning] No further splits with positive gain, best gain: -inf\n",
      "[LightGBM] [Warning] No further splits with positive gain, best gain: -inf\n",
      "[LightGBM] [Warning] No further splits with positive gain, best gain: -inf\n",
      "[LightGBM] [Warning] No further splits with positive gain, best gain: -inf\n",
      "[LightGBM] [Warning] No further splits with positive gain, best gain: -inf\n",
      "[LightGBM] [Warning] No further splits with positive gain, best gain: -inf\n",
      "[LightGBM] [Warning] No further splits with positive gain, best gain: -inf\n",
      "[LightGBM] [Warning] No further splits with positive gain, best gain: -inf\n",
      "[LightGBM] [Warning] No further splits with positive gain, best gain: -inf\n",
      "[LightGBM] [Warning] No further splits with positive gain, best gain: -inf\n",
      "[LightGBM] [Warning] No further splits with positive gain, best gain: -inf\n",
      "[LightGBM] [Warning] No further splits with positive gain, best gain: -inf\n",
      "[LightGBM] [Warning] No further splits with positive gain, best gain: -inf\n",
      "[LightGBM] [Warning] No further splits with positive gain, best gain: -inf\n",
      "[LightGBM] [Warning] No further splits with positive gain, best gain: -inf\n",
      "[LightGBM] [Warning] No further splits with positive gain, best gain: -inf\n",
      "[LightGBM] [Warning] No further splits with positive gain, best gain: -inf\n",
      "[LightGBM] [Warning] No further splits with positive gain, best gain: -inf\n",
      "[LightGBM] [Warning] No further splits with positive gain, best gain: -inf\n",
      "[LightGBM] [Warning] No further splits with positive gain, best gain: -inf\n",
      "[LightGBM] [Warning] No further splits with positive gain, best gain: -inf\n",
      "[LightGBM] [Warning] No further splits with positive gain, best gain: -inf\n",
      "[LightGBM] [Warning] No further splits with positive gain, best gain: -inf\n",
      "[LightGBM] [Warning] No further splits with positive gain, best gain: -inf\n",
      "[LightGBM] [Warning] No further splits with positive gain, best gain: -inf\n",
      "[LightGBM] [Warning] No further splits with positive gain, best gain: -inf\n",
      "[LightGBM] [Warning] No further splits with positive gain, best gain: -inf\n",
      "[LightGBM] [Warning] No further splits with positive gain, best gain: -inf\n",
      "[LightGBM] [Warning] No further splits with positive gain, best gain: -inf\n",
      "[LightGBM] [Warning] No further splits with positive gain, best gain: -inf\n",
      "[LightGBM] [Warning] No further splits with positive gain, best gain: -inf\n",
      "[LightGBM] [Warning] No further splits with positive gain, best gain: -inf\n",
      "[LightGBM] [Warning] No further splits with positive gain, best gain: -inf\n",
      "[LightGBM] [Warning] No further splits with positive gain, best gain: -inf\n",
      "[LightGBM] [Warning] No further splits with positive gain, best gain: -inf\n",
      "[LightGBM] [Warning] No further splits with positive gain, best gain: -inf\n",
      "[LightGBM] [Warning] No further splits with positive gain, best gain: -inf\n",
      "[LightGBM] [Warning] No further splits with positive gain, best gain: -inf\n",
      "[LightGBM] [Warning] No further splits with positive gain, best gain: -inf\n",
      "[LightGBM] [Warning] No further splits with positive gain, best gain: -inf\n",
      "[LightGBM] [Warning] No further splits with positive gain, best gain: -inf\n",
      "[LightGBM] [Warning] No further splits with positive gain, best gain: -inf\n",
      "[LightGBM] [Warning] No further splits with positive gain, best gain: -inf\n",
      "[LightGBM] [Warning] No further splits with positive gain, best gain: -inf\n",
      "[LightGBM] [Warning] No further splits with positive gain, best gain: -inf\n",
      "[LightGBM] [Warning] No further splits with positive gain, best gain: -inf\n",
      "[LightGBM] [Warning] No further splits with positive gain, best gain: -inf\n",
      "[LightGBM] [Warning] No further splits with positive gain, best gain: -inf\n",
      "[LightGBM] [Warning] No further splits with positive gain, best gain: -inf\n",
      "[LightGBM] [Warning] No further splits with positive gain, best gain: -inf\n",
      "[LightGBM] [Warning] No further splits with positive gain, best gain: -inf\n",
      "[LightGBM] [Warning] No further splits with positive gain, best gain: -inf\n",
      "[LightGBM] [Warning] No further splits with positive gain, best gain: -inf\n",
      "[LightGBM] [Warning] No further splits with positive gain, best gain: -inf\n",
      "[LightGBM] [Warning] No further splits with positive gain, best gain: -inf\n",
      "[LightGBM] [Warning] No further splits with positive gain, best gain: -inf\n",
      "[LightGBM] [Warning] No further splits with positive gain, best gain: -inf\n",
      "[LightGBM] [Warning] No further splits with positive gain, best gain: -inf\n",
      "[LightGBM] [Warning] No further splits with positive gain, best gain: -inf\n",
      "[LightGBM] [Warning] No further splits with positive gain, best gain: -inf\n",
      "[LightGBM] [Warning] No further splits with positive gain, best gain: -inf\n",
      "[LightGBM] [Warning] No further splits with positive gain, best gain: -inf\n",
      "[LightGBM] [Warning] No further splits with positive gain, best gain: -inf\n",
      "[LightGBM] [Warning] No further splits with positive gain, best gain: -inf\n",
      "[LightGBM] [Warning] No further splits with positive gain, best gain: -inf\n",
      "[LightGBM] [Warning] No further splits with positive gain, best gain: -inf\n",
      "[LightGBM] [Warning] No further splits with positive gain, best gain: -inf\n",
      "[LightGBM] [Warning] No further splits with positive gain, best gain: -inf\n",
      "[LightGBM] [Warning] No further splits with positive gain, best gain: -inf\n",
      "[LightGBM] [Warning] No further splits with positive gain, best gain: -inf\n",
      "[LightGBM] [Warning] No further splits with positive gain, best gain: -inf\n",
      "[LightGBM] [Warning] No further splits with positive gain, best gain: -inf\n",
      "[LightGBM] [Warning] No further splits with positive gain, best gain: -inf\n",
      "[LightGBM] [Warning] No further splits with positive gain, best gain: -inf\n",
      "[LightGBM] [Warning] No further splits with positive gain, best gain: -inf\n",
      "[LightGBM] [Warning] No further splits with positive gain, best gain: -inf\n",
      "[LightGBM] [Warning] No further splits with positive gain, best gain: -inf\n",
      "[LightGBM] [Warning] No further splits with positive gain, best gain: -inf\n",
      "[LightGBM] [Warning] No further splits with positive gain, best gain: -inf\n",
      "[LightGBM] [Warning] No further splits with positive gain, best gain: -inf\n",
      "[LightGBM] [Warning] No further splits with positive gain, best gain: -inf\n",
      "[LightGBM] [Warning] No further splits with positive gain, best gain: -inf\n",
      "[LightGBM] [Warning] No further splits with positive gain, best gain: -inf\n",
      "[LightGBM] [Warning] No further splits with positive gain, best gain: -inf\n",
      "[LightGBM] [Warning] No further splits with positive gain, best gain: -inf\n",
      "[LightGBM] [Warning] No further splits with positive gain, best gain: -inf\n",
      "[LightGBM] [Warning] No further splits with positive gain, best gain: -inf\n",
      "[LightGBM] [Warning] No further splits with positive gain, best gain: -inf\n",
      "[LightGBM] [Warning] No further splits with positive gain, best gain: -inf\n",
      "[LightGBM] [Warning] No further splits with positive gain, best gain: -inf\n",
      "[LightGBM] [Warning] No further splits with positive gain, best gain: -inf\n",
      "[LightGBM] [Warning] No further splits with positive gain, best gain: -inf\n",
      "[LightGBM] [Warning] No further splits with positive gain, best gain: -inf\n",
      "[LightGBM] [Warning] No further splits with positive gain, best gain: -inf\n",
      "[LightGBM] [Warning] No further splits with positive gain, best gain: -inf\n",
      "[LightGBM] [Warning] No further splits with positive gain, best gain: -inf\n",
      "[LightGBM] [Warning] No further splits with positive gain, best gain: -inf\n",
      "[LightGBM] [Warning] No further splits with positive gain, best gain: -inf\n",
      "[LightGBM] [Warning] No further splits with positive gain, best gain: -inf\n",
      "[LightGBM] [Warning] No further splits with positive gain, best gain: -inf\n",
      "[LightGBM] [Warning] No further splits with positive gain, best gain: -inf\n",
      "[LightGBM] [Warning] No further splits with positive gain, best gain: -inf\n",
      "[LightGBM] [Warning] No further splits with positive gain, best gain: -inf\n",
      "[LightGBM] [Warning] No further splits with positive gain, best gain: -inf\n",
      "[LightGBM] [Warning] No further splits with positive gain, best gain: -inf\n",
      "[LightGBM] [Warning] No further splits with positive gain, best gain: -inf\n",
      "[LightGBM] [Warning] No further splits with positive gain, best gain: -inf\n",
      "[LightGBM] [Warning] No further splits with positive gain, best gain: -inf\n",
      "[LightGBM] [Warning] No further splits with positive gain, best gain: -inf\n",
      "[LightGBM] [Warning] No further splits with positive gain, best gain: -inf\n",
      "[LightGBM] [Warning] No further splits with positive gain, best gain: -inf\n",
      "[LightGBM] [Warning] No further splits with positive gain, best gain: -inf\n",
      "[LightGBM] [Warning] No further splits with positive gain, best gain: -inf\n",
      "[LightGBM] [Warning] No further splits with positive gain, best gain: -inf\n",
      "[LightGBM] [Warning] No further splits with positive gain, best gain: -inf\n",
      "[LightGBM] [Warning] No further splits with positive gain, best gain: -inf\n",
      "[LightGBM] [Warning] No further splits with positive gain, best gain: -inf\n",
      "[LightGBM] [Warning] No further splits with positive gain, best gain: -inf\n",
      "[LightGBM] [Warning] No further splits with positive gain, best gain: -inf\n",
      "[LightGBM] [Warning] No further splits with positive gain, best gain: -inf\n",
      "[LightGBM] [Warning] No further splits with positive gain, best gain: -inf\n",
      "[LightGBM] [Warning] No further splits with positive gain, best gain: -inf\n",
      "[LightGBM] [Warning] No further splits with positive gain, best gain: -inf\n",
      "[LightGBM] [Warning] No further splits with positive gain, best gain: -inf\n",
      "[LightGBM] [Warning] No further splits with positive gain, best gain: -inf\n",
      "[LightGBM] [Warning] No further splits with positive gain, best gain: -inf\n",
      "[LightGBM] [Warning] No further splits with positive gain, best gain: -inf\n",
      "[LightGBM] [Warning] No further splits with positive gain, best gain: -inf\n",
      "[LightGBM] [Warning] No further splits with positive gain, best gain: -inf\n",
      "[LightGBM] [Warning] No further splits with positive gain, best gain: -inf\n",
      "[LightGBM] [Warning] No further splits with positive gain, best gain: -inf\n",
      "[LightGBM] [Warning] No further splits with positive gain, best gain: -inf\n",
      "[LightGBM] [Warning] No further splits with positive gain, best gain: -inf\n",
      "[LightGBM] [Warning] No further splits with positive gain, best gain: -inf\n",
      "[LightGBM] [Warning] No further splits with positive gain, best gain: -inf\n",
      "[LightGBM] [Warning] No further splits with positive gain, best gain: -inf\n",
      "[LightGBM] [Warning] No further splits with positive gain, best gain: -inf\n",
      "[LightGBM] [Warning] No further splits with positive gain, best gain: -inf\n",
      "[LightGBM] [Warning] No further splits with positive gain, best gain: -inf\n",
      "[LightGBM] [Warning] No further splits with positive gain, best gain: -inf\n",
      "[LightGBM] [Warning] No further splits with positive gain, best gain: -inf\n",
      "[LightGBM] [Warning] No further splits with positive gain, best gain: -inf\n",
      "[LightGBM] [Warning] No further splits with positive gain, best gain: -inf\n",
      "[LightGBM] [Warning] No further splits with positive gain, best gain: -inf\n",
      "[LightGBM] [Warning] No further splits with positive gain, best gain: -inf\n",
      "[LightGBM] [Warning] No further splits with positive gain, best gain: -inf\n",
      "[LightGBM] [Warning] No further splits with positive gain, best gain: -inf\n",
      "[LightGBM] [Warning] No further splits with positive gain, best gain: -inf\n",
      "[LightGBM] [Warning] No further splits with positive gain, best gain: -inf\n",
      "[LightGBM] [Warning] No further splits with positive gain, best gain: -inf\n",
      "[LightGBM] [Warning] No further splits with positive gain, best gain: -inf\n",
      "[LightGBM] [Warning] No further splits with positive gain, best gain: -inf\n",
      "[LightGBM] [Warning] No further splits with positive gain, best gain: -inf\n",
      "[LightGBM] [Warning] No further splits with positive gain, best gain: -inf\n",
      "[LightGBM] [Warning] No further splits with positive gain, best gain: -inf\n",
      "[LightGBM] [Warning] No further splits with positive gain, best gain: -inf\n",
      "[LightGBM] [Warning] No further splits with positive gain, best gain: -inf\n",
      "[LightGBM] [Warning] No further splits with positive gain, best gain: -inf\n",
      "[LightGBM] [Warning] No further splits with positive gain, best gain: -inf\n",
      "[LightGBM] [Warning] No further splits with positive gain, best gain: -inf\n",
      "[LightGBM] [Warning] No further splits with positive gain, best gain: -inf\n",
      "[LightGBM] [Warning] No further splits with positive gain, best gain: -inf\n",
      "[LightGBM] [Warning] No further splits with positive gain, best gain: -inf\n",
      "[LightGBM] [Warning] No further splits with positive gain, best gain: -inf\n",
      "[LightGBM] [Warning] No further splits with positive gain, best gain: -inf\n",
      "[LightGBM] [Warning] No further splits with positive gain, best gain: -inf\n",
      "[LightGBM] [Warning] No further splits with positive gain, best gain: -inf\n",
      "[LightGBM] [Warning] No further splits with positive gain, best gain: -inf\n",
      "[LightGBM] [Warning] No further splits with positive gain, best gain: -inf\n",
      "[LightGBM] [Warning] No further splits with positive gain, best gain: -inf\n",
      "[LightGBM] [Warning] No further splits with positive gain, best gain: -inf\n",
      "[LightGBM] [Warning] No further splits with positive gain, best gain: -inf\n",
      "[LightGBM] [Warning] No further splits with positive gain, best gain: -inf\n",
      "[LightGBM] [Warning] No further splits with positive gain, best gain: -inf\n",
      "[LightGBM] [Warning] No further splits with positive gain, best gain: -inf\n",
      "[LightGBM] [Warning] No further splits with positive gain, best gain: -inf\n",
      "[LightGBM] [Warning] No further splits with positive gain, best gain: -inf\n",
      "[LightGBM] [Warning] No further splits with positive gain, best gain: -inf\n",
      "[LightGBM] [Warning] No further splits with positive gain, best gain: -inf\n",
      "[LightGBM] [Warning] No further splits with positive gain, best gain: -inf\n",
      "[LightGBM] [Warning] No further splits with positive gain, best gain: -inf\n",
      "[LightGBM] [Warning] No further splits with positive gain, best gain: -inf\n",
      "[LightGBM] [Warning] No further splits with positive gain, best gain: -inf\n",
      "[LightGBM] [Warning] No further splits with positive gain, best gain: -inf\n",
      "[LightGBM] [Warning] No further splits with positive gain, best gain: -inf\n",
      "[LightGBM] [Warning] No further splits with positive gain, best gain: -inf\n",
      "[LightGBM] [Warning] No further splits with positive gain, best gain: -inf\n",
      "[LightGBM] [Warning] No further splits with positive gain, best gain: -inf\n",
      "[LightGBM] [Warning] No further splits with positive gain, best gain: -inf\n",
      "[LightGBM] [Warning] No further splits with positive gain, best gain: -inf\n",
      "[LightGBM] [Warning] No further splits with positive gain, best gain: -inf\n",
      "[LightGBM] [Warning] No further splits with positive gain, best gain: -inf\n",
      "[LightGBM] [Warning] No further splits with positive gain, best gain: -inf\n",
      "[LightGBM] [Warning] No further splits with positive gain, best gain: -inf\n",
      "[LightGBM] [Warning] No further splits with positive gain, best gain: -inf\n",
      "[LightGBM] [Warning] No further splits with positive gain, best gain: -inf\n",
      "[LightGBM] [Warning] No further splits with positive gain, best gain: -inf\n",
      "[LightGBM] [Warning] No further splits with positive gain, best gain: -inf\n",
      "[LightGBM] [Warning] No further splits with positive gain, best gain: -inf\n",
      "[LightGBM] [Warning] No further splits with positive gain, best gain: -inf\n",
      "[LightGBM] [Warning] No further splits with positive gain, best gain: -inf\n",
      "[LightGBM] [Warning] No further splits with positive gain, best gain: -inf\n",
      "[LightGBM] [Warning] No further splits with positive gain, best gain: -inf\n",
      "[LightGBM] [Warning] No further splits with positive gain, best gain: -inf\n",
      "[LightGBM] [Warning] No further splits with positive gain, best gain: -inf\n",
      "[LightGBM] [Warning] No further splits with positive gain, best gain: -inf\n",
      "[LightGBM] [Warning] No further splits with positive gain, best gain: -inf\n",
      "[LightGBM] [Warning] No further splits with positive gain, best gain: -inf\n",
      "[LightGBM] [Warning] No further splits with positive gain, best gain: -inf\n",
      "[LightGBM] [Warning] No further splits with positive gain, best gain: -inf\n",
      "[LightGBM] [Warning] No further splits with positive gain, best gain: -inf\n",
      "[LightGBM] [Warning] No further splits with positive gain, best gain: -inf\n",
      "[LightGBM] [Warning] No further splits with positive gain, best gain: -inf\n",
      "[LightGBM] [Warning] No further splits with positive gain, best gain: -inf\n",
      "[LightGBM] [Warning] No further splits with positive gain, best gain: -inf\n",
      "[LightGBM] [Warning] No further splits with positive gain, best gain: -inf\n",
      "[LightGBM] [Warning] No further splits with positive gain, best gain: -inf\n",
      "[LightGBM] [Warning] No further splits with positive gain, best gain: -inf\n",
      "[LightGBM] [Warning] No further splits with positive gain, best gain: -inf\n",
      "[LightGBM] [Warning] No further splits with positive gain, best gain: -inf\n",
      "[LightGBM] [Warning] No further splits with positive gain, best gain: -inf\n",
      "[LightGBM] [Warning] No further splits with positive gain, best gain: -inf\n",
      "[LightGBM] [Warning] No further splits with positive gain, best gain: -inf\n",
      "[LightGBM] [Warning] No further splits with positive gain, best gain: -inf\n",
      "[LightGBM] [Warning] No further splits with positive gain, best gain: -inf\n",
      "[LightGBM] [Warning] No further splits with positive gain, best gain: -inf\n",
      "[LightGBM] [Warning] No further splits with positive gain, best gain: -inf\n",
      "[LightGBM] [Warning] No further splits with positive gain, best gain: -inf\n",
      "[LightGBM] [Warning] No further splits with positive gain, best gain: -inf\n",
      "[LightGBM] [Warning] No further splits with positive gain, best gain: -inf\n",
      "[LightGBM] [Warning] No further splits with positive gain, best gain: -inf\n",
      "[LightGBM] [Warning] No further splits with positive gain, best gain: -inf\n",
      "[LightGBM] [Warning] No further splits with positive gain, best gain: -inf\n",
      "[LightGBM] [Warning] No further splits with positive gain, best gain: -inf\n",
      "[LightGBM] [Warning] No further splits with positive gain, best gain: -inf\n",
      "[LightGBM] [Warning] No further splits with positive gain, best gain: -inf\n",
      "[LightGBM] [Warning] No further splits with positive gain, best gain: -inf\n",
      "[LightGBM] [Warning] No further splits with positive gain, best gain: -inf\n",
      "[LightGBM] [Warning] No further splits with positive gain, best gain: -inf\n",
      "[LightGBM] [Warning] No further splits with positive gain, best gain: -inf\n",
      "[LightGBM] [Warning] No further splits with positive gain, best gain: -inf\n",
      "[LightGBM] [Warning] No further splits with positive gain, best gain: -inf\n",
      "[LightGBM] [Warning] No further splits with positive gain, best gain: -inf\n",
      "[LightGBM] [Warning] No further splits with positive gain, best gain: -inf\n",
      "[LightGBM] [Warning] No further splits with positive gain, best gain: -inf\n",
      "[LightGBM] [Warning] No further splits with positive gain, best gain: -inf\n",
      "[LightGBM] [Warning] No further splits with positive gain, best gain: -inf\n",
      "[LightGBM] [Warning] No further splits with positive gain, best gain: -inf\n",
      "[LightGBM] [Warning] No further splits with positive gain, best gain: -inf\n",
      "[LightGBM] [Warning] No further splits with positive gain, best gain: -inf\n",
      "[LightGBM] [Warning] No further splits with positive gain, best gain: -inf\n",
      "[LightGBM] [Warning] No further splits with positive gain, best gain: -inf\n",
      "[LightGBM] [Warning] No further splits with positive gain, best gain: -inf\n",
      "[LightGBM] [Warning] No further splits with positive gain, best gain: -inf\n",
      "[LightGBM] [Warning] No further splits with positive gain, best gain: -inf\n",
      "[LightGBM] [Warning] No further splits with positive gain, best gain: -inf\n",
      "[LightGBM] [Warning] No further splits with positive gain, best gain: -inf\n",
      "[LightGBM] [Warning] No further splits with positive gain, best gain: -inf\n",
      "[LightGBM] [Warning] No further splits with positive gain, best gain: -inf\n",
      "[LightGBM] [Warning] No further splits with positive gain, best gain: -inf\n",
      "[LightGBM] [Warning] No further splits with positive gain, best gain: -inf\n",
      "[LightGBM] [Warning] No further splits with positive gain, best gain: -inf\n",
      "[LightGBM] [Warning] No further splits with positive gain, best gain: -inf\n",
      "[LightGBM] [Warning] No further splits with positive gain, best gain: -inf\n",
      "[LightGBM] [Warning] No further splits with positive gain, best gain: -inf\n",
      "[LightGBM] [Warning] No further splits with positive gain, best gain: -inf\n",
      "[LightGBM] [Warning] No further splits with positive gain, best gain: -inf\n",
      "[LightGBM] [Warning] No further splits with positive gain, best gain: -inf\n",
      "[LightGBM] [Warning] No further splits with positive gain, best gain: -inf\n",
      "[LightGBM] [Warning] No further splits with positive gain, best gain: -inf\n",
      "[LightGBM] [Warning] No further splits with positive gain, best gain: -inf\n",
      "[LightGBM] [Warning] No further splits with positive gain, best gain: -inf\n",
      "[LightGBM] [Warning] No further splits with positive gain, best gain: -inf\n",
      "[LightGBM] [Warning] No further splits with positive gain, best gain: -inf\n",
      "[LightGBM] [Warning] No further splits with positive gain, best gain: -inf\n",
      "[LightGBM] [Warning] No further splits with positive gain, best gain: -inf\n",
      "[LightGBM] [Warning] No further splits with positive gain, best gain: -inf\n",
      "[LightGBM] [Warning] No further splits with positive gain, best gain: -inf\n",
      "[LightGBM] [Warning] No further splits with positive gain, best gain: -inf\n",
      "[LightGBM] [Warning] No further splits with positive gain, best gain: -inf\n",
      "[LightGBM] [Warning] No further splits with positive gain, best gain: -inf\n",
      "[LightGBM] [Warning] No further splits with positive gain, best gain: -inf\n",
      "[LightGBM] [Warning] No further splits with positive gain, best gain: -inf\n",
      "[LightGBM] [Warning] No further splits with positive gain, best gain: -inf\n",
      "[LightGBM] [Warning] No further splits with positive gain, best gain: -inf\n",
      "[LightGBM] [Warning] No further splits with positive gain, best gain: -inf\n",
      "[LightGBM] [Warning] No further splits with positive gain, best gain: -inf\n",
      "[LightGBM] [Warning] No further splits with positive gain, best gain: -inf\n",
      "[LightGBM] [Warning] No further splits with positive gain, best gain: -inf\n",
      "[LightGBM] [Warning] No further splits with positive gain, best gain: -inf\n",
      "[LightGBM] [Warning] No further splits with positive gain, best gain: -inf\n",
      "[LightGBM] [Warning] No further splits with positive gain, best gain: -inf\n",
      "[LightGBM] [Warning] No further splits with positive gain, best gain: -inf\n",
      "[LightGBM] [Warning] No further splits with positive gain, best gain: -inf\n",
      "[LightGBM] [Warning] No further splits with positive gain, best gain: -inf\n",
      "[LightGBM] [Warning] No further splits with positive gain, best gain: -inf\n",
      "[LightGBM] [Warning] No further splits with positive gain, best gain: -inf\n",
      "[LightGBM] [Warning] No further splits with positive gain, best gain: -inf\n",
      "[LightGBM] [Warning] No further splits with positive gain, best gain: -inf\n",
      "[LightGBM] [Warning] No further splits with positive gain, best gain: -inf\n",
      "[LightGBM] [Warning] No further splits with positive gain, best gain: -inf\n",
      "[LightGBM] [Warning] No further splits with positive gain, best gain: -inf\n",
      "[LightGBM] [Warning] No further splits with positive gain, best gain: -inf\n",
      "[LightGBM] [Warning] No further splits with positive gain, best gain: -inf\n",
      "[LightGBM] [Warning] No further splits with positive gain, best gain: -inf\n",
      "[LightGBM] [Warning] No further splits with positive gain, best gain: -inf\n",
      "[LightGBM] [Warning] No further splits with positive gain, best gain: -inf\n",
      "[LightGBM] [Warning] No further splits with positive gain, best gain: -inf\n",
      "[LightGBM] [Warning] No further splits with positive gain, best gain: -inf\n",
      "[LightGBM] [Warning] No further splits with positive gain, best gain: -inf\n",
      "[LightGBM] [Warning] No further splits with positive gain, best gain: -inf\n",
      "[LightGBM] [Warning] No further splits with positive gain, best gain: -inf\n",
      "[LightGBM] [Warning] No further splits with positive gain, best gain: -inf\n",
      "[LightGBM] [Warning] No further splits with positive gain, best gain: -inf\n",
      "[LightGBM] [Warning] No further splits with positive gain, best gain: -inf\n",
      "[LightGBM] [Warning] No further splits with positive gain, best gain: -inf\n",
      "[LightGBM] [Warning] No further splits with positive gain, best gain: -inf\n",
      "[LightGBM] [Warning] No further splits with positive gain, best gain: -inf\n",
      "[LightGBM] [Warning] No further splits with positive gain, best gain: -inf\n",
      "[LightGBM] [Warning] No further splits with positive gain, best gain: -inf\n",
      "[LightGBM] [Warning] No further splits with positive gain, best gain: -inf\n",
      "[LightGBM] [Warning] No further splits with positive gain, best gain: -inf\n",
      "[LightGBM] [Warning] No further splits with positive gain, best gain: -inf\n",
      "[LightGBM] [Warning] No further splits with positive gain, best gain: -inf\n",
      "[LightGBM] [Warning] No further splits with positive gain, best gain: -inf\n",
      "[LightGBM] [Warning] No further splits with positive gain, best gain: -inf\n",
      "[LightGBM] [Warning] No further splits with positive gain, best gain: -inf\n",
      "[LightGBM] [Warning] No further splits with positive gain, best gain: -inf\n",
      "[LightGBM] [Warning] No further splits with positive gain, best gain: -inf\n",
      "[LightGBM] [Warning] No further splits with positive gain, best gain: -inf\n",
      "[LightGBM] [Warning] No further splits with positive gain, best gain: -inf\n",
      "[LightGBM] [Warning] No further splits with positive gain, best gain: -inf\n",
      "[LightGBM] [Warning] No further splits with positive gain, best gain: -inf\n",
      "[LightGBM] [Warning] No further splits with positive gain, best gain: -inf\n",
      "[LightGBM] [Warning] No further splits with positive gain, best gain: -inf\n",
      "[LightGBM] [Warning] No further splits with positive gain, best gain: -inf\n",
      "[LightGBM] [Warning] No further splits with positive gain, best gain: -inf\n",
      "[LightGBM] [Warning] No further splits with positive gain, best gain: -inf\n",
      "[LightGBM] [Warning] No further splits with positive gain, best gain: -inf\n",
      "[LightGBM] [Warning] No further splits with positive gain, best gain: -inf\n",
      "[LightGBM] [Warning] No further splits with positive gain, best gain: -inf\n",
      "[LightGBM] [Warning] No further splits with positive gain, best gain: -inf\n",
      "[LightGBM] [Warning] No further splits with positive gain, best gain: -inf\n",
      "[LightGBM] [Warning] No further splits with positive gain, best gain: -inf\n",
      "[LightGBM] [Warning] No further splits with positive gain, best gain: -inf\n",
      "[LightGBM] [Warning] No further splits with positive gain, best gain: -inf\n",
      "[LightGBM] [Warning] No further splits with positive gain, best gain: -inf\n",
      "[LightGBM] [Warning] No further splits with positive gain, best gain: -inf\n",
      "[LightGBM] [Warning] No further splits with positive gain, best gain: -inf\n",
      "[LightGBM] [Warning] No further splits with positive gain, best gain: -inf\n",
      "[LightGBM] [Warning] No further splits with positive gain, best gain: -inf\n",
      "[LightGBM] [Warning] No further splits with positive gain, best gain: -inf\n",
      "[LightGBM] [Warning] No further splits with positive gain, best gain: -inf\n",
      "[LightGBM] [Warning] No further splits with positive gain, best gain: -inf\n",
      "[LightGBM] [Warning] No further splits with positive gain, best gain: -inf\n",
      "[LightGBM] [Warning] No further splits with positive gain, best gain: -inf\n",
      "[LightGBM] [Warning] No further splits with positive gain, best gain: -inf\n",
      "[LightGBM] [Warning] No further splits with positive gain, best gain: -inf\n",
      "[LightGBM] [Warning] No further splits with positive gain, best gain: -inf\n",
      "[LightGBM] [Warning] No further splits with positive gain, best gain: -inf\n",
      "[LightGBM] [Warning] No further splits with positive gain, best gain: -inf\n",
      "[LightGBM] [Warning] No further splits with positive gain, best gain: -inf\n",
      "[LightGBM] [Warning] No further splits with positive gain, best gain: -inf\n",
      "[LightGBM] [Warning] No further splits with positive gain, best gain: -inf\n",
      "[LightGBM] [Warning] No further splits with positive gain, best gain: -inf\n",
      "[LightGBM] [Warning] No further splits with positive gain, best gain: -inf\n",
      "[LightGBM] [Warning] No further splits with positive gain, best gain: -inf\n",
      "[LightGBM] [Warning] No further splits with positive gain, best gain: -inf\n",
      "[LightGBM] [Warning] No further splits with positive gain, best gain: -inf\n",
      "[LightGBM] [Warning] No further splits with positive gain, best gain: -inf\n",
      "[LightGBM] [Warning] No further splits with positive gain, best gain: -inf\n",
      "[LightGBM] [Warning] No further splits with positive gain, best gain: -inf\n",
      "[LightGBM] [Warning] No further splits with positive gain, best gain: -inf\n",
      "[LightGBM] [Warning] No further splits with positive gain, best gain: -inf\n",
      "[LightGBM] [Warning] No further splits with positive gain, best gain: -inf\n",
      "[LightGBM] [Warning] No further splits with positive gain, best gain: -inf\n",
      "[LightGBM] [Warning] No further splits with positive gain, best gain: -inf\n",
      "[LightGBM] [Warning] No further splits with positive gain, best gain: -inf\n",
      "[LightGBM] [Warning] No further splits with positive gain, best gain: -inf\n",
      "[LightGBM] [Warning] No further splits with positive gain, best gain: -inf\n",
      "[LightGBM] [Warning] No further splits with positive gain, best gain: -inf\n",
      "[LightGBM] [Warning] No further splits with positive gain, best gain: -inf\n",
      "[LightGBM] [Warning] No further splits with positive gain, best gain: -inf\n",
      "[LightGBM] [Warning] No further splits with positive gain, best gain: -inf\n",
      "[LightGBM] [Warning] No further splits with positive gain, best gain: -inf\n",
      "[LightGBM] [Warning] No further splits with positive gain, best gain: -inf\n",
      "[LightGBM] [Warning] No further splits with positive gain, best gain: -inf\n",
      "[LightGBM] [Warning] No further splits with positive gain, best gain: -inf\n",
      "[LightGBM] [Warning] No further splits with positive gain, best gain: -inf\n",
      "[LightGBM] [Warning] No further splits with positive gain, best gain: -inf\n",
      "[LightGBM] [Warning] No further splits with positive gain, best gain: -inf\n",
      "[LightGBM] [Warning] No further splits with positive gain, best gain: -inf\n",
      "[LightGBM] [Warning] No further splits with positive gain, best gain: -inf\n",
      "[LightGBM] [Warning] No further splits with positive gain, best gain: -inf\n",
      "[LightGBM] [Warning] No further splits with positive gain, best gain: -inf\n",
      "[LightGBM] [Warning] No further splits with positive gain, best gain: -inf\n",
      "[LightGBM] [Warning] No further splits with positive gain, best gain: -inf\n",
      "[LightGBM] [Warning] No further splits with positive gain, best gain: -inf\n",
      "[LightGBM] [Warning] No further splits with positive gain, best gain: -inf\n",
      "[LightGBM] [Warning] No further splits with positive gain, best gain: -inf\n",
      "[LightGBM] [Warning] No further splits with positive gain, best gain: -inf\n",
      "[LightGBM] [Warning] No further splits with positive gain, best gain: -inf\n",
      "[LightGBM] [Warning] No further splits with positive gain, best gain: -inf\n",
      "[LightGBM] [Warning] No further splits with positive gain, best gain: -inf\n",
      "[LightGBM] [Warning] No further splits with positive gain, best gain: -inf\n",
      "[LightGBM] [Warning] No further splits with positive gain, best gain: -inf\n",
      "[LightGBM] [Warning] No further splits with positive gain, best gain: -inf\n",
      "[LightGBM] [Warning] No further splits with positive gain, best gain: -inf\n",
      "[LightGBM] [Warning] No further splits with positive gain, best gain: -inf\n",
      "[LightGBM] [Warning] No further splits with positive gain, best gain: -inf\n",
      "[LightGBM] [Warning] No further splits with positive gain, best gain: -inf\n",
      "[LightGBM] [Warning] No further splits with positive gain, best gain: -inf\n",
      "[LightGBM] [Warning] No further splits with positive gain, best gain: -inf\n",
      "[LightGBM] [Warning] No further splits with positive gain, best gain: -inf\n",
      "[LightGBM] [Warning] No further splits with positive gain, best gain: -inf\n",
      "[LightGBM] [Warning] No further splits with positive gain, best gain: -inf\n",
      "[LightGBM] [Warning] No further splits with positive gain, best gain: -inf\n",
      "[LightGBM] [Warning] No further splits with positive gain, best gain: -inf\n",
      "[LightGBM] [Warning] No further splits with positive gain, best gain: -inf\n",
      "[LightGBM] [Warning] No further splits with positive gain, best gain: -inf\n",
      "[LightGBM] [Warning] No further splits with positive gain, best gain: -inf\n",
      "[LightGBM] [Warning] No further splits with positive gain, best gain: -inf\n",
      "[LightGBM] [Warning] No further splits with positive gain, best gain: -inf\n",
      "[LightGBM] [Warning] No further splits with positive gain, best gain: -inf\n",
      "[LightGBM] [Warning] No further splits with positive gain, best gain: -inf\n",
      "[LightGBM] [Warning] No further splits with positive gain, best gain: -inf\n",
      "[LightGBM] [Warning] No further splits with positive gain, best gain: -inf\n",
      "[LightGBM] [Warning] No further splits with positive gain, best gain: -inf\n",
      "[LightGBM] [Warning] No further splits with positive gain, best gain: -inf\n",
      "[LightGBM] [Warning] No further splits with positive gain, best gain: -inf\n",
      "[LightGBM] [Warning] No further splits with positive gain, best gain: -inf\n",
      "[LightGBM] [Warning] No further splits with positive gain, best gain: -inf\n",
      "[LightGBM] [Warning] No further splits with positive gain, best gain: -inf\n",
      "[LightGBM] [Warning] No further splits with positive gain, best gain: -inf\n",
      "[LightGBM] [Warning] No further splits with positive gain, best gain: -inf\n",
      "[LightGBM] [Warning] No further splits with positive gain, best gain: -inf\n",
      "[LightGBM] [Warning] No further splits with positive gain, best gain: -inf\n",
      "[LightGBM] [Warning] No further splits with positive gain, best gain: -inf\n",
      "[LightGBM] [Warning] No further splits with positive gain, best gain: -inf\n",
      "[LightGBM] [Warning] No further splits with positive gain, best gain: -inf\n",
      "[LightGBM] [Warning] No further splits with positive gain, best gain: -inf\n",
      "[LightGBM] [Warning] No further splits with positive gain, best gain: -inf\n",
      "[LightGBM] [Warning] No further splits with positive gain, best gain: -inf\n",
      "[LightGBM] [Warning] No further splits with positive gain, best gain: -inf\n",
      "[LightGBM] [Warning] No further splits with positive gain, best gain: -inf\n",
      "[LightGBM] [Warning] No further splits with positive gain, best gain: -inf\n",
      "[LightGBM] [Warning] No further splits with positive gain, best gain: -inf\n",
      "[LightGBM] [Warning] No further splits with positive gain, best gain: -inf\n",
      "[LightGBM] [Warning] No further splits with positive gain, best gain: -inf\n",
      "[LightGBM] [Warning] No further splits with positive gain, best gain: -inf\n",
      "[LightGBM] [Warning] No further splits with positive gain, best gain: -inf\n",
      "[LightGBM] [Warning] No further splits with positive gain, best gain: -inf\n",
      "[LightGBM] [Warning] No further splits with positive gain, best gain: -inf\n",
      "[LightGBM] [Warning] No further splits with positive gain, best gain: -inf\n",
      "[LightGBM] [Warning] No further splits with positive gain, best gain: -inf\n",
      "[LightGBM] [Warning] No further splits with positive gain, best gain: -inf\n",
      "[LightGBM] [Warning] No further splits with positive gain, best gain: -inf\n",
      "[LightGBM] [Warning] No further splits with positive gain, best gain: -inf\n",
      "[LightGBM] [Warning] No further splits with positive gain, best gain: -inf\n",
      "[LightGBM] [Warning] No further splits with positive gain, best gain: -inf\n",
      "[LightGBM] [Warning] No further splits with positive gain, best gain: -inf\n",
      "[LightGBM] [Warning] No further splits with positive gain, best gain: -inf\n",
      "[LightGBM] [Warning] No further splits with positive gain, best gain: -inf\n",
      "[LightGBM] [Warning] No further splits with positive gain, best gain: -inf\n",
      "[LightGBM] [Warning] No further splits with positive gain, best gain: -inf\n",
      "[LightGBM] [Warning] No further splits with positive gain, best gain: -inf\n",
      "[LightGBM] [Warning] No further splits with positive gain, best gain: -inf\n",
      "[LightGBM] [Warning] No further splits with positive gain, best gain: -inf\n",
      "[LightGBM] [Warning] No further splits with positive gain, best gain: -inf\n",
      "[LightGBM] [Warning] No further splits with positive gain, best gain: -inf\n",
      "[LightGBM] [Warning] No further splits with positive gain, best gain: -inf\n",
      "[LightGBM] [Warning] No further splits with positive gain, best gain: -inf\n",
      "[LightGBM] [Warning] No further splits with positive gain, best gain: -inf\n",
      "[LightGBM] [Warning] No further splits with positive gain, best gain: -inf\n",
      "[LightGBM] [Warning] No further splits with positive gain, best gain: -inf\n",
      "[LightGBM] [Warning] No further splits with positive gain, best gain: -inf\n",
      "[LightGBM] [Warning] No further splits with positive gain, best gain: -inf\n",
      "[LightGBM] [Warning] No further splits with positive gain, best gain: -inf\n",
      "[LightGBM] [Warning] No further splits with positive gain, best gain: -inf\n",
      "[LightGBM] [Warning] No further splits with positive gain, best gain: -inf\n",
      "[LightGBM] [Warning] No further splits with positive gain, best gain: -inf\n",
      "[LightGBM] [Warning] No further splits with positive gain, best gain: -inf\n",
      "[LightGBM] [Warning] No further splits with positive gain, best gain: -inf\n",
      "[LightGBM] [Warning] No further splits with positive gain, best gain: -inf\n",
      "[LightGBM] [Warning] No further splits with positive gain, best gain: -inf\n",
      "[LightGBM] [Warning] No further splits with positive gain, best gain: -inf\n",
      "[LightGBM] [Warning] No further splits with positive gain, best gain: -inf\n",
      "[LightGBM] [Warning] No further splits with positive gain, best gain: -inf\n",
      "[LightGBM] [Warning] No further splits with positive gain, best gain: -inf\n",
      "[LightGBM] [Warning] No further splits with positive gain, best gain: -inf\n",
      "[LightGBM] [Warning] No further splits with positive gain, best gain: -inf\n",
      "[LightGBM] [Warning] No further splits with positive gain, best gain: -inf\n",
      "[LightGBM] [Warning] No further splits with positive gain, best gain: -inf\n",
      "[LightGBM] [Warning] No further splits with positive gain, best gain: -inf\n",
      "[LightGBM] [Warning] No further splits with positive gain, best gain: -inf\n",
      "[LightGBM] [Warning] No further splits with positive gain, best gain: -inf\n",
      "[LightGBM] [Warning] No further splits with positive gain, best gain: -inf\n",
      "[LightGBM] [Warning] No further splits with positive gain, best gain: -inf\n",
      "[LightGBM] [Warning] No further splits with positive gain, best gain: -inf\n",
      "[LightGBM] [Warning] No further splits with positive gain, best gain: -inf\n",
      "[LightGBM] [Warning] No further splits with positive gain, best gain: -inf\n",
      "[LightGBM] [Warning] No further splits with positive gain, best gain: -inf\n",
      "[LightGBM] [Warning] No further splits with positive gain, best gain: -inf\n",
      "[LightGBM] [Warning] No further splits with positive gain, best gain: -inf\n",
      "[LightGBM] [Warning] No further splits with positive gain, best gain: -inf\n",
      "[LightGBM] [Warning] No further splits with positive gain, best gain: -inf\n",
      "[LightGBM] [Warning] No further splits with positive gain, best gain: -inf\n",
      "[LightGBM] [Warning] No further splits with positive gain, best gain: -inf\n",
      "[LightGBM] [Warning] No further splits with positive gain, best gain: -inf\n",
      "[LightGBM] [Warning] No further splits with positive gain, best gain: -inf\n",
      "[LightGBM] [Warning] No further splits with positive gain, best gain: -inf\n",
      "[LightGBM] [Warning] No further splits with positive gain, best gain: -inf\n",
      "[LightGBM] [Warning] No further splits with positive gain, best gain: -inf\n",
      "[LightGBM] [Warning] No further splits with positive gain, best gain: -inf\n",
      "[LightGBM] [Warning] No further splits with positive gain, best gain: -inf\n",
      "[LightGBM] [Warning] No further splits with positive gain, best gain: -inf\n",
      "[LightGBM] [Warning] No further splits with positive gain, best gain: -inf\n",
      "[LightGBM] [Warning] No further splits with positive gain, best gain: -inf\n",
      "[LightGBM] [Warning] No further splits with positive gain, best gain: -inf\n",
      "[LightGBM] [Warning] No further splits with positive gain, best gain: -inf\n",
      "[LightGBM] [Warning] No further splits with positive gain, best gain: -inf\n",
      "[LightGBM] [Warning] No further splits with positive gain, best gain: -inf\n",
      "[LightGBM] [Warning] No further splits with positive gain, best gain: -inf\n",
      "[LightGBM] [Warning] No further splits with positive gain, best gain: -inf\n",
      "[LightGBM] [Warning] No further splits with positive gain, best gain: -inf\n",
      "[LightGBM] [Warning] No further splits with positive gain, best gain: -inf\n",
      "[LightGBM] [Warning] No further splits with positive gain, best gain: -inf\n",
      "[LightGBM] [Warning] No further splits with positive gain, best gain: -inf\n",
      "[LightGBM] [Warning] No further splits with positive gain, best gain: -inf\n",
      "[LightGBM] [Warning] No further splits with positive gain, best gain: -inf\n",
      "[LightGBM] [Warning] No further splits with positive gain, best gain: -inf\n",
      "[LightGBM] [Warning] No further splits with positive gain, best gain: -inf\n",
      "[LightGBM] [Warning] No further splits with positive gain, best gain: -inf\n",
      "[LightGBM] [Warning] No further splits with positive gain, best gain: -inf\n",
      "[LightGBM] [Warning] No further splits with positive gain, best gain: -inf\n",
      "[LightGBM] [Warning] No further splits with positive gain, best gain: -inf\n",
      "[LightGBM] [Warning] No further splits with positive gain, best gain: -inf\n",
      "[LightGBM] [Warning] No further splits with positive gain, best gain: -inf\n",
      "[LightGBM] [Warning] No further splits with positive gain, best gain: -inf\n",
      "[LightGBM] [Warning] No further splits with positive gain, best gain: -inf\n",
      "[LightGBM] [Warning] No further splits with positive gain, best gain: -inf\n",
      "[LightGBM] [Warning] No further splits with positive gain, best gain: -inf\n",
      "[LightGBM] [Warning] No further splits with positive gain, best gain: -inf\n",
      "[LightGBM] [Warning] No further splits with positive gain, best gain: -inf\n",
      "[LightGBM] [Warning] No further splits with positive gain, best gain: -inf\n",
      "[LightGBM] [Warning] No further splits with positive gain, best gain: -inf\n",
      "[LightGBM] [Warning] No further splits with positive gain, best gain: -inf\n",
      "[LightGBM] [Warning] No further splits with positive gain, best gain: -inf\n",
      "[LightGBM] [Warning] No further splits with positive gain, best gain: -inf\n",
      "[LightGBM] [Warning] No further splits with positive gain, best gain: -inf\n",
      "[LightGBM] [Warning] No further splits with positive gain, best gain: -inf\n",
      "[LightGBM] [Warning] No further splits with positive gain, best gain: -inf\n",
      "[LightGBM] [Warning] No further splits with positive gain, best gain: -inf\n",
      "[LightGBM] [Warning] No further splits with positive gain, best gain: -inf\n",
      "[LightGBM] [Warning] No further splits with positive gain, best gain: -inf\n",
      "[LightGBM] [Warning] No further splits with positive gain, best gain: -inf\n",
      "[LightGBM] [Warning] No further splits with positive gain, best gain: -inf\n",
      "[LightGBM] [Warning] No further splits with positive gain, best gain: -inf\n",
      "[LightGBM] [Warning] No further splits with positive gain, best gain: -inf\n",
      "[LightGBM] [Warning] No further splits with positive gain, best gain: -inf\n",
      "[LightGBM] [Warning] No further splits with positive gain, best gain: -inf\n",
      "[LightGBM] [Warning] No further splits with positive gain, best gain: -inf\n",
      "[LightGBM] [Warning] No further splits with positive gain, best gain: -inf\n",
      "[LightGBM] [Warning] No further splits with positive gain, best gain: -inf\n",
      "[LightGBM] [Warning] No further splits with positive gain, best gain: -inf\n",
      "[LightGBM] [Warning] No further splits with positive gain, best gain: -inf\n",
      "[LightGBM] [Warning] No further splits with positive gain, best gain: -inf\n",
      "[LightGBM] [Warning] No further splits with positive gain, best gain: -inf\n",
      "[LightGBM] [Warning] No further splits with positive gain, best gain: -inf\n",
      "[LightGBM] [Warning] No further splits with positive gain, best gain: -inf\n",
      "[LightGBM] [Warning] No further splits with positive gain, best gain: -inf\n",
      "[LightGBM] [Warning] No further splits with positive gain, best gain: -inf\n",
      "[LightGBM] [Warning] No further splits with positive gain, best gain: -inf\n",
      "[LightGBM] [Warning] No further splits with positive gain, best gain: -inf\n",
      "[LightGBM] [Warning] No further splits with positive gain, best gain: -inf\n",
      "[LightGBM] [Warning] No further splits with positive gain, best gain: -inf\n",
      "[LightGBM] [Warning] No further splits with positive gain, best gain: -inf\n",
      "[LightGBM] [Warning] No further splits with positive gain, best gain: -inf\n",
      "[LightGBM] [Warning] No further splits with positive gain, best gain: -inf\n",
      "[LightGBM] [Warning] No further splits with positive gain, best gain: -inf\n",
      "[LightGBM] [Warning] No further splits with positive gain, best gain: -inf\n",
      "[LightGBM] [Warning] No further splits with positive gain, best gain: -inf\n",
      "[LightGBM] [Warning] No further splits with positive gain, best gain: -inf\n",
      "[LightGBM] [Warning] No further splits with positive gain, best gain: -inf\n",
      "[LightGBM] [Warning] No further splits with positive gain, best gain: -inf\n",
      "[LightGBM] [Warning] No further splits with positive gain, best gain: -inf\n",
      "[LightGBM] [Warning] No further splits with positive gain, best gain: -inf\n",
      "[LightGBM] [Warning] No further splits with positive gain, best gain: -inf\n",
      "[LightGBM] [Warning] No further splits with positive gain, best gain: -inf\n",
      "[LightGBM] [Warning] No further splits with positive gain, best gain: -inf\n",
      "[LightGBM] [Warning] No further splits with positive gain, best gain: -inf\n",
      "[LightGBM] [Warning] No further splits with positive gain, best gain: -inf\n",
      "[LightGBM] [Warning] No further splits with positive gain, best gain: -inf\n",
      "[LightGBM] [Warning] No further splits with positive gain, best gain: -inf\n",
      "[LightGBM] [Warning] No further splits with positive gain, best gain: -inf\n",
      "[LightGBM] [Warning] No further splits with positive gain, best gain: -inf\n",
      "[LightGBM] [Warning] No further splits with positive gain, best gain: -inf\n",
      "[LightGBM] [Warning] No further splits with positive gain, best gain: -inf\n",
      "[LightGBM] [Warning] No further splits with positive gain, best gain: -inf\n",
      "[LightGBM] [Warning] No further splits with positive gain, best gain: -inf\n",
      "[LightGBM] [Warning] No further splits with positive gain, best gain: -inf\n",
      "[LightGBM] [Warning] No further splits with positive gain, best gain: -inf\n",
      "[LightGBM] [Warning] No further splits with positive gain, best gain: -inf\n",
      "[LightGBM] [Warning] No further splits with positive gain, best gain: -inf\n",
      "[LightGBM] [Warning] No further splits with positive gain, best gain: -inf\n",
      "[LightGBM] [Warning] No further splits with positive gain, best gain: -inf\n",
      "[LightGBM] [Warning] No further splits with positive gain, best gain: -inf\n",
      "[LightGBM] [Warning] No further splits with positive gain, best gain: -inf\n",
      "[LightGBM] [Warning] No further splits with positive gain, best gain: -inf\n",
      "[LightGBM] [Warning] No further splits with positive gain, best gain: -inf\n",
      "[LightGBM] [Warning] No further splits with positive gain, best gain: -inf\n",
      "[LightGBM] [Warning] No further splits with positive gain, best gain: -inf\n",
      "[LightGBM] [Warning] No further splits with positive gain, best gain: -inf\n",
      "[LightGBM] [Warning] No further splits with positive gain, best gain: -inf\n",
      "[LightGBM] [Warning] No further splits with positive gain, best gain: -inf\n",
      "[LightGBM] [Warning] No further splits with positive gain, best gain: -inf\n",
      "[LightGBM] [Warning] No further splits with positive gain, best gain: -inf\n",
      "[LightGBM] [Warning] No further splits with positive gain, best gain: -inf\n",
      "[LightGBM] [Warning] No further splits with positive gain, best gain: -inf\n",
      "[LightGBM] [Warning] No further splits with positive gain, best gain: -inf\n",
      "[LightGBM] [Warning] No further splits with positive gain, best gain: -inf\n",
      "[LightGBM] [Warning] No further splits with positive gain, best gain: -inf\n",
      "[LightGBM] [Warning] No further splits with positive gain, best gain: -inf\n",
      "[LightGBM] [Warning] No further splits with positive gain, best gain: -inf\n",
      "[LightGBM] [Warning] No further splits with positive gain, best gain: -inf\n",
      "[LightGBM] [Warning] No further splits with positive gain, best gain: -inf\n",
      "[LightGBM] [Warning] No further splits with positive gain, best gain: -inf\n",
      "[LightGBM] [Warning] No further splits with positive gain, best gain: -inf\n",
      "[LightGBM] [Warning] No further splits with positive gain, best gain: -inf\n",
      "[LightGBM] [Warning] No further splits with positive gain, best gain: -inf\n",
      "[LightGBM] [Warning] No further splits with positive gain, best gain: -inf\n",
      "[LightGBM] [Warning] No further splits with positive gain, best gain: -inf\n",
      "[LightGBM] [Warning] No further splits with positive gain, best gain: -inf\n",
      "[LightGBM] [Warning] No further splits with positive gain, best gain: -inf\n",
      "[LightGBM] [Warning] No further splits with positive gain, best gain: -inf\n",
      "[LightGBM] [Warning] No further splits with positive gain, best gain: -inf\n",
      "[LightGBM] [Warning] No further splits with positive gain, best gain: -inf\n",
      "[LightGBM] [Warning] No further splits with positive gain, best gain: -inf\n",
      "[LightGBM] [Warning] No further splits with positive gain, best gain: -inf\n",
      "[LightGBM] [Warning] No further splits with positive gain, best gain: -inf\n",
      "[LightGBM] [Warning] No further splits with positive gain, best gain: -inf\n",
      "[LightGBM] [Warning] No further splits with positive gain, best gain: -inf\n",
      "[LightGBM] [Warning] No further splits with positive gain, best gain: -inf\n",
      "[LightGBM] [Warning] No further splits with positive gain, best gain: -inf\n",
      "[LightGBM] [Warning] No further splits with positive gain, best gain: -inf\n",
      "[LightGBM] [Warning] No further splits with positive gain, best gain: -inf\n",
      "[LightGBM] [Warning] No further splits with positive gain, best gain: -inf\n",
      "[LightGBM] [Warning] No further splits with positive gain, best gain: -inf\n",
      "[LightGBM] [Warning] No further splits with positive gain, best gain: -inf\n",
      "[LightGBM] [Warning] No further splits with positive gain, best gain: -inf\n",
      "[LightGBM] [Warning] No further splits with positive gain, best gain: -inf\n",
      "[LightGBM] [Warning] No further splits with positive gain, best gain: -inf\n",
      "[LightGBM] [Warning] No further splits with positive gain, best gain: -inf\n",
      "[LightGBM] [Warning] No further splits with positive gain, best gain: -inf\n",
      "[LightGBM] [Warning] No further splits with positive gain, best gain: -inf\n",
      "[LightGBM] [Warning] No further splits with positive gain, best gain: -inf\n",
      "[LightGBM] [Warning] No further splits with positive gain, best gain: -inf\n",
      "[LightGBM] [Warning] No further splits with positive gain, best gain: -inf\n",
      "[LightGBM] [Warning] No further splits with positive gain, best gain: -inf\n",
      "[LightGBM] [Warning] No further splits with positive gain, best gain: -inf\n",
      "[LightGBM] [Warning] No further splits with positive gain, best gain: -inf\n",
      "[LightGBM] [Warning] No further splits with positive gain, best gain: -inf\n",
      "[LightGBM] [Warning] No further splits with positive gain, best gain: -inf\n",
      "[LightGBM] [Warning] No further splits with positive gain, best gain: -inf\n",
      "[LightGBM] [Warning] No further splits with positive gain, best gain: -inf\n",
      "[LightGBM] [Warning] No further splits with positive gain, best gain: -inf\n",
      "[LightGBM] [Warning] No further splits with positive gain, best gain: -inf\n",
      "[LightGBM] [Warning] No further splits with positive gain, best gain: -inf\n",
      "[LightGBM] [Warning] No further splits with positive gain, best gain: -inf\n",
      "[LightGBM] [Warning] No further splits with positive gain, best gain: -inf\n",
      "[LightGBM] [Warning] No further splits with positive gain, best gain: -inf\n",
      "[LightGBM] [Warning] No further splits with positive gain, best gain: -inf\n",
      "[LightGBM] [Warning] No further splits with positive gain, best gain: -inf\n",
      "[LightGBM] [Warning] No further splits with positive gain, best gain: -inf\n",
      "[LightGBM] [Warning] No further splits with positive gain, best gain: -inf\n",
      "[LightGBM] [Warning] No further splits with positive gain, best gain: -inf\n",
      "[LightGBM] [Warning] No further splits with positive gain, best gain: -inf\n",
      "[LightGBM] [Warning] No further splits with positive gain, best gain: -inf\n",
      "[LightGBM] [Warning] No further splits with positive gain, best gain: -inf\n",
      "[LightGBM] [Warning] No further splits with positive gain, best gain: -inf\n",
      "[LightGBM] [Warning] No further splits with positive gain, best gain: -inf\n",
      "[LightGBM] [Warning] No further splits with positive gain, best gain: -inf\n",
      "[LightGBM] [Warning] No further splits with positive gain, best gain: -inf\n",
      "[LightGBM] [Warning] No further splits with positive gain, best gain: -inf\n",
      "[LightGBM] [Warning] No further splits with positive gain, best gain: -inf\n",
      "[LightGBM] [Warning] No further splits with positive gain, best gain: -inf\n",
      "[LightGBM] [Warning] No further splits with positive gain, best gain: -inf\n",
      "[LightGBM] [Warning] No further splits with positive gain, best gain: -inf\n",
      "[LightGBM] [Warning] No further splits with positive gain, best gain: -inf\n",
      "[LightGBM] [Warning] No further splits with positive gain, best gain: -inf\n",
      "[LightGBM] [Warning] No further splits with positive gain, best gain: -inf\n",
      "[LightGBM] [Warning] No further splits with positive gain, best gain: -inf\n",
      "[LightGBM] [Warning] No further splits with positive gain, best gain: -inf\n",
      "[LightGBM] [Warning] No further splits with positive gain, best gain: -inf\n",
      "[LightGBM] [Warning] No further splits with positive gain, best gain: -inf\n",
      "[LightGBM] [Warning] No further splits with positive gain, best gain: -inf\n",
      "[LightGBM] [Warning] No further splits with positive gain, best gain: -inf\n",
      "[LightGBM] [Warning] No further splits with positive gain, best gain: -inf\n",
      "[LightGBM] [Warning] No further splits with positive gain, best gain: -inf\n",
      "[LightGBM] [Warning] No further splits with positive gain, best gain: -inf\n",
      "[LightGBM] [Warning] No further splits with positive gain, best gain: -inf\n",
      "[LightGBM] [Warning] No further splits with positive gain, best gain: -inf\n",
      "[LightGBM] [Warning] No further splits with positive gain, best gain: -inf\n",
      "[LightGBM] [Warning] No further splits with positive gain, best gain: -inf\n",
      "[LightGBM] [Warning] No further splits with positive gain, best gain: -inf\n",
      "[LightGBM] [Warning] No further splits with positive gain, best gain: -inf\n",
      "[LightGBM] [Warning] No further splits with positive gain, best gain: -inf\n",
      "[LightGBM] [Warning] No further splits with positive gain, best gain: -inf\n",
      "[LightGBM] [Warning] No further splits with positive gain, best gain: -inf\n",
      "[LightGBM] [Warning] No further splits with positive gain, best gain: -inf\n",
      "[LightGBM] [Warning] No further splits with positive gain, best gain: -inf\n"
     ]
    }
   ],
   "source": [
    "# Training the Model\n",
    "num_round = 150\n",
    "evals={}\n",
    "model = lgb.train(params,\n",
    "                  train_data,\n",
    "                  num_round,\n",
    "                  #early_stopping_rounds=10,\n",
    "                  valid_sets=[valid_data],\n",
    "                 callbacks = [lgb.record_evaluation(evals)])"
   ]
  },
  {
   "cell_type": "code",
   "execution_count": 63,
   "id": "fdb3eacb-1a74-4d42-972a-46d495dd1d63",
   "metadata": {},
   "outputs": [
    {
     "data": {
      "text/plain": [
       "array([[7.75140487e-05, 2.52123070e-04, 1.28958674e-05, 4.82704819e-06,\n",
       "        9.99652640e-01],\n",
       "       [2.36569864e-06, 1.62992693e-04, 5.23930907e-07, 2.63358904e-06,\n",
       "        9.99831484e-01],\n",
       "       [5.86030120e-08, 6.30581935e-05, 2.28809839e-06, 2.73965264e-07,\n",
       "        9.99934321e-01],\n",
       "       [9.83015080e-07, 1.50487323e-05, 4.52907210e-08, 8.41664330e-07,\n",
       "        9.99983081e-01],\n",
       "       [9.99987146e-01, 1.28236349e-05, 7.03055716e-10, 2.62141085e-08,\n",
       "        3.23236144e-09]])"
      ]
     },
     "execution_count": 63,
     "metadata": {},
     "output_type": "execute_result"
    }
   ],
   "source": [
    "# Getting the model predictions\n",
    "y_pred = model.predict(X_val,num_iteration=model.best_iteration)\n",
    "y_pred.shape\n",
    "y_pred[:5]"
   ]
  },
  {
   "cell_type": "code",
   "execution_count": 64,
   "id": "07b44634-5def-4ec4-a4ca-b97ee39ba3bc",
   "metadata": {},
   "outputs": [
    {
     "data": {
      "text/plain": [
       "array([4, 4, 4, 4, 0, 4, 1, 4, 4, 4], dtype=int64)"
      ]
     },
     "execution_count": 64,
     "metadata": {},
     "output_type": "execute_result"
    }
   ],
   "source": [
    "# Mapping probabilities to find the class\n",
    "y_pred = np.argmax(y_pred, axis=1)\n",
    "y_pred[:10]"
   ]
  },
  {
   "cell_type": "code",
   "execution_count": 65,
   "id": "2f08b626",
   "metadata": {},
   "outputs": [
    {
     "data": {
      "text/plain": [
       "array([0, 2, 1, 3, 4], dtype=int64)"
      ]
     },
     "execution_count": 65,
     "metadata": {},
     "output_type": "execute_result"
    }
   ],
   "source": [
    "y.unique()"
   ]
  },
  {
   "cell_type": "code",
   "execution_count": 66,
   "id": "208b7a37-11d2-4b81-9c91-3ea8b243b954",
   "metadata": {},
   "outputs": [
    {
     "name": "stdout",
     "output_type": "stream",
     "text": [
      "Accuracy: 0.6417910447761194\n"
     ]
    }
   ],
   "source": [
    "# Get the accuracy score for the prediction values\n",
    "accuracy = accuracy_score(y_val, y_pred)\n",
    "print(f'Accuracy: {accuracy}')"
   ]
  },
  {
   "cell_type": "code",
   "execution_count": 67,
   "id": "d8d3fa41-b717-4bec-8364-948bc9403df4",
   "metadata": {},
   "outputs": [
    {
     "name": "stdout",
     "output_type": "stream",
     "text": [
      "Light XGBoost Model Classification Report \n",
      " -----------------------------\n",
      "Accuracy: 0.64\n",
      "              precision    recall  f1-score   support\n",
      "\n",
      "          No       0.71      0.82      0.76        44\n",
      "        Mild       0.07      0.06      0.06        18\n",
      "   Modereate       0.43      0.19      0.26        16\n",
      "      Severe       0.09      0.11      0.10         9\n",
      " Very severe       0.90      0.96      0.93        47\n",
      "\n",
      "    accuracy                           0.64       134\n",
      "   macro avg       0.44      0.43      0.42       134\n",
      "weighted avg       0.61      0.64      0.62       134\n",
      "\n"
     ]
    }
   ],
   "source": [
    "### Classification Report\n",
    "print('Light XGBoost Model Classification Report \\n -----------------------------')\n",
    "accuracy = accuracy_score(y_val, y_pred)\n",
    "print(\"Accuracy: {:.2f}\".format(accuracy))\n",
    "print(classification_report(y_val, y_pred,\n",
    "                            target_names=['No','Mild','Modereate', 'Severe', 'Very severe']))"
   ]
  },
  {
   "cell_type": "code",
   "execution_count": 68,
   "id": "d97adf06-73f6-44a2-97fd-30c6a8230d0c",
   "metadata": {},
   "outputs": [
    {
     "data": {
      "image/png": "[encoded data removed]",
      "text/plain": [
       "<Figure size 576x432 with 2 Axes>"
      ]
     },
     "metadata": {
      "needs_background": "light"
     },
     "output_type": "display_data"
    }
   ],
   "source": [
    "# Generate the confusion matrix\n",
    "conf_mat = confusion_matrix(y_test, y_pred_rf)\n",
    "\n",
    "# Plot the confusion matrix as a heatmap\n",
    "plt.figure(figsize=(8, 6))\n",
    "sns.heatmap(conf_mat, cmap=\"rocket_r\", annot=True, fmt=\"d\", xticklabels=['No','Mild','Modereate', 'Severe', 'Very severe'],\n",
    "            yticklabels=['No','Mild','Modereate', 'Severe', 'Very severe'])\n",
    "plt.title(\"Confusion Matrix for the LightGBM Model\")\n",
    "plt.ylabel(\"True Label\")\n",
    "plt.xlabel(\"Predicted Label\");\n",
    "#plt.savefig('confusion_matrix.png')"
   ]
  },
  {
   "cell_type": "markdown",
   "id": "fb813b78-3ef5-4884-bdcf-c78c214c92dd",
   "metadata": {},
   "source": [
    "### LSTM Model"
   ]
  },
  {
   "cell_type": "code",
   "execution_count": null,
   "id": "33397ff7-b7b9-4d1b-ae20-4d3b92b958e6",
   "metadata": {},
   "outputs": [],
   "source": [
    "df1_copy.head()"
   ]
  },
  {
   "cell_type": "code",
   "execution_count": null,
   "id": "e5fdbfbb-ae58-462f-b441-49e97eafb389",
   "metadata": {},
   "outputs": [],
   "source": [
    "x = df1_copy.drop('num', axis=1)\n",
    "y = df1_copy['num']"
   ]
  },
  {
   "cell_type": "code",
   "execution_count": 44,
   "id": "0064da1b-c987-412e-8ddb-f2b866b26894",
   "metadata": {},
   "outputs": [
    {
     "data": {
      "text/plain": [
       "array([0, 2, 1, 3, 4], dtype=int64)"
      ]
     },
     "execution_count": 44,
     "metadata": {},
     "output_type": "execute_result"
    }
   ],
   "source": [
    "y.unique()"
   ]
  },
  {
   "cell_type": "code",
   "execution_count": 45,
   "id": "fe3fe881",
   "metadata": {},
   "outputs": [],
   "source": [
    "## resetting index\n",
    "x = x.reset_index(drop=True)\n",
    "y = y.reset_index(drop=True)"
   ]
  },
  {
   "cell_type": "code",
   "execution_count": 46,
   "id": "76583332-962e-4a42-8035-2d2f0abe0893",
   "metadata": {},
   "outputs": [
    {
     "data": {
      "text/plain": [
       "13"
      ]
     },
     "execution_count": 46,
     "metadata": {},
     "output_type": "execute_result"
    }
   ],
   "source": [
    "y[y==4].count()"
   ]
  },
  {
   "cell_type": "code",
   "execution_count": 47,
   "id": "f96687ac-10c8-4f6a-bd6a-419fb742b996",
   "metadata": {},
   "outputs": [],
   "source": [
    "label_class1 = np.where(y == 0)[0][:160]\n",
    "label_class2 = np.where(y == 1)[0][:56]\n",
    "label_class3 = np.where(y == 2)[0][:35]\n",
    "label_class4 = np.where(y == 3)[0][:35]\n",
    "label_class5 = np.where(y == 4)[0][:13]"
   ]
  },
  {
   "cell_type": "code",
   "execution_count": 48,
   "id": "93b8e4af-1836-4943-a982-a68331ad4309",
   "metadata": {},
   "outputs": [],
   "source": [
    "##Combining the selected samples\n",
    "selected_labels = np.concatenate([label_class1, label_class2, label_class3, label_class4, label_class5])"
   ]
  },
  {
   "cell_type": "code",
   "execution_count": 49,
   "id": "717ec598-b697-4579-b70d-1b0bc40a8103",
   "metadata": {},
   "outputs": [],
   "source": [
    "# Creating training set\n",
    "x_data = x.iloc[selected_labels,:]\n",
    "y_data = y[selected_labels]"
   ]
  },
  {
   "cell_type": "code",
   "execution_count": 50,
   "id": "68e1f4f4-434b-49b8-ba3a-ee87928842bc",
   "metadata": {},
   "outputs": [
    {
     "data": {
      "text/plain": [
       "0      0\n",
       "1      2\n",
       "2      1\n",
       "3      0\n",
       "4      0\n",
       "      ..\n",
       "294    2\n",
       "295    3\n",
       "296    1\n",
       "297    1\n",
       "298    1\n",
       "Name: num, Length: 299, dtype: int64"
      ]
     },
     "execution_count": 50,
     "metadata": {},
     "output_type": "execute_result"
    }
   ],
   "source": [
    "y"
   ]
  },
  {
   "cell_type": "code",
   "execution_count": 51,
   "id": "e47fb87d-4269-4525-822c-955ec01b25a2",
   "metadata": {},
   "outputs": [
    {
     "data": {
      "text/plain": [
       "num\n",
       "0    160\n",
       "1     56\n",
       "2     35\n",
       "3     35\n",
       "4     13\n",
       "Name: count, dtype: int64"
      ]
     },
     "execution_count": 51,
     "metadata": {},
     "output_type": "execute_result"
    }
   ],
   "source": [
    "y_data.value_counts()"
   ]
  },
  {
   "cell_type": "code",
   "execution_count": 52,
   "id": "373703fd-8d33-4f81-8f1b-cad3ebaca2aa",
   "metadata": {},
   "outputs": [
    {
     "name": "stdout",
     "output_type": "stream",
     "text": [
      "299\n",
      "299\n"
     ]
    }
   ],
   "source": [
    "print(len(x.iloc[selected_labels,:]))\n",
    "print(len(y[selected_labels]))"
   ]
  },
  {
   "cell_type": "code",
   "execution_count": 53,
   "id": "d11a02f2",
   "metadata": {},
   "outputs": [
    {
     "data": {
      "text/html": [
       "<div>\n",
       "<style scoped>\n",
       "    .dataframe tbody tr th:only-of-type {\n",
       "        vertical-align: middle;\n",
       "    }\n",
       "\n",
       "    .dataframe tbody tr th {\n",
       "        vertical-align: top;\n",
       "    }\n",
       "\n",
       "    .dataframe thead th {\n",
       "        text-align: right;\n",
       "    }\n",
       "</style>\n",
       "<table border=\"1\" class=\"dataframe\">\n",
       "  <thead>\n",
       "    <tr style=\"text-align: right;\">\n",
       "      <th></th>\n",
       "      <th>age</th>\n",
       "      <th>sex</th>\n",
       "      <th>cp</th>\n",
       "      <th>chol</th>\n",
       "      <th>trestbps</th>\n",
       "      <th>thalch</th>\n",
       "      <th>oldpeak</th>\n",
       "      <th>ca</th>\n",
       "      <th>thal</th>\n",
       "    </tr>\n",
       "  </thead>\n",
       "  <tbody>\n",
       "    <tr>\n",
       "      <th>0</th>\n",
       "      <td>0.940446</td>\n",
       "      <td>1</td>\n",
       "      <td>2.248290</td>\n",
       "      <td>-0.262867</td>\n",
       "      <td>0.749760</td>\n",
       "      <td>0.029124</td>\n",
       "      <td>1.069475</td>\n",
       "      <td>-0.718306</td>\n",
       "      <td>2.445867</td>\n",
       "    </tr>\n",
       "    <tr>\n",
       "      <th>1</th>\n",
       "      <td>1.384143</td>\n",
       "      <td>1</td>\n",
       "      <td>-0.868737</td>\n",
       "      <td>0.747722</td>\n",
       "      <td>1.596354</td>\n",
       "      <td>-1.790447</td>\n",
       "      <td>0.380309</td>\n",
       "      <td>2.487269</td>\n",
       "      <td>-0.840939</td>\n",
       "    </tr>\n",
       "    <tr>\n",
       "      <th>2</th>\n",
       "      <td>1.384143</td>\n",
       "      <td>1</td>\n",
       "      <td>-0.868737</td>\n",
       "      <td>-0.339138</td>\n",
       "      <td>-0.661231</td>\n",
       "      <td>-0.880662</td>\n",
       "      <td>1.327912</td>\n",
       "      <td>1.418744</td>\n",
       "      <td>0.802464</td>\n",
       "    </tr>\n",
       "    <tr>\n",
       "      <th>3</th>\n",
       "      <td>-1.943588</td>\n",
       "      <td>1</td>\n",
       "      <td>0.170272</td>\n",
       "      <td>0.061285</td>\n",
       "      <td>-0.096835</td>\n",
       "      <td>1.632079</td>\n",
       "      <td>2.103224</td>\n",
       "      <td>-0.718306</td>\n",
       "      <td>-0.840939</td>\n",
       "    </tr>\n",
       "    <tr>\n",
       "      <th>4</th>\n",
       "      <td>-1.499891</td>\n",
       "      <td>2</td>\n",
       "      <td>1.209281</td>\n",
       "      <td>-0.815830</td>\n",
       "      <td>-0.096835</td>\n",
       "      <td>0.982232</td>\n",
       "      <td>0.294163</td>\n",
       "      <td>-0.718306</td>\n",
       "      <td>-0.840939</td>\n",
       "    </tr>\n",
       "    <tr>\n",
       "      <th>...</th>\n",
       "      <td>...</td>\n",
       "      <td>...</td>\n",
       "      <td>...</td>\n",
       "      <td>...</td>\n",
       "      <td>...</td>\n",
       "      <td>...</td>\n",
       "      <td>...</td>\n",
       "      <td>...</td>\n",
       "      <td>...</td>\n",
       "    </tr>\n",
       "    <tr>\n",
       "      <th>294</th>\n",
       "      <td>1.495068</td>\n",
       "      <td>1</td>\n",
       "      <td>-0.868737</td>\n",
       "      <td>-1.025575</td>\n",
       "      <td>0.693320</td>\n",
       "      <td>-0.360784</td>\n",
       "      <td>2.017078</td>\n",
       "      <td>1.418744</td>\n",
       "      <td>0.802464</td>\n",
       "    </tr>\n",
       "    <tr>\n",
       "      <th>295</th>\n",
       "      <td>0.274900</td>\n",
       "      <td>1</td>\n",
       "      <td>-0.868737</td>\n",
       "      <td>-2.207774</td>\n",
       "      <td>-0.096835</td>\n",
       "      <td>-1.487186</td>\n",
       "      <td>0.121872</td>\n",
       "      <td>0.350219</td>\n",
       "      <td>0.802464</td>\n",
       "    </tr>\n",
       "    <tr>\n",
       "      <th>296</th>\n",
       "      <td>0.274900</td>\n",
       "      <td>2</td>\n",
       "      <td>1.209281</td>\n",
       "      <td>-0.205664</td>\n",
       "      <td>-0.096835</td>\n",
       "      <td>1.068878</td>\n",
       "      <td>-0.911877</td>\n",
       "      <td>0.350219</td>\n",
       "      <td>-0.840939</td>\n",
       "    </tr>\n",
       "    <tr>\n",
       "      <th>297</th>\n",
       "      <td>-0.834344</td>\n",
       "      <td>1</td>\n",
       "      <td>-0.868737</td>\n",
       "      <td>-0.396341</td>\n",
       "      <td>1.031958</td>\n",
       "      <td>-2.223678</td>\n",
       "      <td>0.380309</td>\n",
       "      <td>-0.718306</td>\n",
       "      <td>0.802464</td>\n",
       "    </tr>\n",
       "    <tr>\n",
       "      <th>298</th>\n",
       "      <td>0.163975</td>\n",
       "      <td>1</td>\n",
       "      <td>-0.868737</td>\n",
       "      <td>-2.798873</td>\n",
       "      <td>-0.661231</td>\n",
       "      <td>-1.270570</td>\n",
       "      <td>0.380309</td>\n",
       "      <td>-0.718306</td>\n",
       "      <td>0.802464</td>\n",
       "    </tr>\n",
       "  </tbody>\n",
       "</table>\n",
       "<p>299 rows × 9 columns</p>\n",
       "</div>"
      ],
      "text/plain": [
       "          age sex        cp      chol  trestbps    thalch   oldpeak        ca  \\\n",
       "0    0.940446   1  2.248290 -0.262867  0.749760  0.029124  1.069475 -0.718306   \n",
       "1    1.384143   1 -0.868737  0.747722  1.596354 -1.790447  0.380309  2.487269   \n",
       "2    1.384143   1 -0.868737 -0.339138 -0.661231 -0.880662  1.327912  1.418744   \n",
       "3   -1.943588   1  0.170272  0.061285 -0.096835  1.632079  2.103224 -0.718306   \n",
       "4   -1.499891   2  1.209281 -0.815830 -0.096835  0.982232  0.294163 -0.718306   \n",
       "..        ...  ..       ...       ...       ...       ...       ...       ...   \n",
       "294  1.495068   1 -0.868737 -1.025575  0.693320 -0.360784  2.017078  1.418744   \n",
       "295  0.274900   1 -0.868737 -2.207774 -0.096835 -1.487186  0.121872  0.350219   \n",
       "296  0.274900   2  1.209281 -0.205664 -0.096835  1.068878 -0.911877  0.350219   \n",
       "297 -0.834344   1 -0.868737 -0.396341  1.031958 -2.223678  0.380309 -0.718306   \n",
       "298  0.163975   1 -0.868737 -2.798873 -0.661231 -1.270570  0.380309 -0.718306   \n",
       "\n",
       "         thal  \n",
       "0    2.445867  \n",
       "1   -0.840939  \n",
       "2    0.802464  \n",
       "3   -0.840939  \n",
       "4   -0.840939  \n",
       "..        ...  \n",
       "294  0.802464  \n",
       "295  0.802464  \n",
       "296 -0.840939  \n",
       "297  0.802464  \n",
       "298  0.802464  \n",
       "\n",
       "[299 rows x 9 columns]"
      ]
     },
     "execution_count": 53,
     "metadata": {},
     "output_type": "execute_result"
    }
   ],
   "source": [
    "x"
   ]
  },
  {
   "cell_type": "code",
   "execution_count": 54,
   "id": "38ce7dcf-0d2c-444c-8c55-bdfbe0e46e04",
   "metadata": {},
   "outputs": [
    {
     "data": {
      "text/plain": [
       "0      0\n",
       "1      2\n",
       "2      1\n",
       "3      0\n",
       "4      0\n",
       "      ..\n",
       "294    2\n",
       "295    3\n",
       "296    1\n",
       "297    1\n",
       "298    1\n",
       "Name: num, Length: 299, dtype: int64"
      ]
     },
     "execution_count": 54,
     "metadata": {},
     "output_type": "execute_result"
    }
   ],
   "source": [
    "y"
   ]
  },
  {
   "cell_type": "markdown",
   "id": "75c990f5",
   "metadata": {},
   "source": [
    "### Applying SMOTE to Resample the Minority Class and Split into Train/Test"
   ]
  },
  {
   "cell_type": "code",
   "execution_count": 55,
   "id": "1ae4d3de-bad5-48c5-9bd0-ed30e396b00f",
   "metadata": {},
   "outputs": [
    {
     "data": {
      "text/html": [
       "<div>\n",
       "<style scoped>\n",
       "    .dataframe tbody tr th:only-of-type {\n",
       "        vertical-align: middle;\n",
       "    }\n",
       "\n",
       "    .dataframe tbody tr th {\n",
       "        vertical-align: top;\n",
       "    }\n",
       "\n",
       "    .dataframe thead th {\n",
       "        text-align: right;\n",
       "    }\n",
       "</style>\n",
       "<table border=\"1\" class=\"dataframe\">\n",
       "  <thead>\n",
       "    <tr style=\"text-align: right;\">\n",
       "      <th></th>\n",
       "      <th>age</th>\n",
       "      <th>sex</th>\n",
       "      <th>cp</th>\n",
       "      <th>chol</th>\n",
       "      <th>trestbps</th>\n",
       "      <th>thalch</th>\n",
       "      <th>oldpeak</th>\n",
       "      <th>ca</th>\n",
       "      <th>thal</th>\n",
       "      <th>num</th>\n",
       "    </tr>\n",
       "  </thead>\n",
       "  <tbody>\n",
       "    <tr>\n",
       "      <th>0</th>\n",
       "      <td>0.940446</td>\n",
       "      <td>1</td>\n",
       "      <td>2.248290</td>\n",
       "      <td>-0.262867</td>\n",
       "      <td>0.749760</td>\n",
       "      <td>0.029124</td>\n",
       "      <td>1.069475</td>\n",
       "      <td>-0.718306</td>\n",
       "      <td>2.445867</td>\n",
       "      <td>0</td>\n",
       "    </tr>\n",
       "    <tr>\n",
       "      <th>1</th>\n",
       "      <td>1.384143</td>\n",
       "      <td>1</td>\n",
       "      <td>-0.868737</td>\n",
       "      <td>0.747722</td>\n",
       "      <td>1.596354</td>\n",
       "      <td>-1.790447</td>\n",
       "      <td>0.380309</td>\n",
       "      <td>2.487269</td>\n",
       "      <td>-0.840939</td>\n",
       "      <td>2</td>\n",
       "    </tr>\n",
       "    <tr>\n",
       "      <th>2</th>\n",
       "      <td>1.384143</td>\n",
       "      <td>1</td>\n",
       "      <td>-0.868737</td>\n",
       "      <td>-0.339138</td>\n",
       "      <td>-0.661231</td>\n",
       "      <td>-0.880662</td>\n",
       "      <td>1.327912</td>\n",
       "      <td>1.418744</td>\n",
       "      <td>0.802464</td>\n",
       "      <td>1</td>\n",
       "    </tr>\n",
       "    <tr>\n",
       "      <th>3</th>\n",
       "      <td>-1.943588</td>\n",
       "      <td>1</td>\n",
       "      <td>0.170272</td>\n",
       "      <td>0.061285</td>\n",
       "      <td>-0.096835</td>\n",
       "      <td>1.632079</td>\n",
       "      <td>2.103224</td>\n",
       "      <td>-0.718306</td>\n",
       "      <td>-0.840939</td>\n",
       "      <td>0</td>\n",
       "    </tr>\n",
       "    <tr>\n",
       "      <th>4</th>\n",
       "      <td>-1.499891</td>\n",
       "      <td>2</td>\n",
       "      <td>1.209281</td>\n",
       "      <td>-0.815830</td>\n",
       "      <td>-0.096835</td>\n",
       "      <td>0.982232</td>\n",
       "      <td>0.294163</td>\n",
       "      <td>-0.718306</td>\n",
       "      <td>-0.840939</td>\n",
       "      <td>0</td>\n",
       "    </tr>\n",
       "  </tbody>\n",
       "</table>\n",
       "</div>"
      ],
      "text/plain": [
       "        age sex        cp      chol  trestbps    thalch   oldpeak        ca  \\\n",
       "0  0.940446   1  2.248290 -0.262867  0.749760  0.029124  1.069475 -0.718306   \n",
       "1  1.384143   1 -0.868737  0.747722  1.596354 -1.790447  0.380309  2.487269   \n",
       "2  1.384143   1 -0.868737 -0.339138 -0.661231 -0.880662  1.327912  1.418744   \n",
       "3 -1.943588   1  0.170272  0.061285 -0.096835  1.632079  2.103224 -0.718306   \n",
       "4 -1.499891   2  1.209281 -0.815830 -0.096835  0.982232  0.294163 -0.718306   \n",
       "\n",
       "       thal  num  \n",
       "0  2.445867    0  \n",
       "1 -0.840939    2  \n",
       "2  0.802464    1  \n",
       "3 -0.840939    0  \n",
       "4 -0.840939    0  "
      ]
     },
     "execution_count": 55,
     "metadata": {},
     "output_type": "execute_result"
    }
   ],
   "source": [
    "df1_copy.head()"
   ]
  },
  {
   "cell_type": "code",
   "execution_count": 56,
   "id": "22c918b8",
   "metadata": {},
   "outputs": [],
   "source": [
    "from imblearn.over_sampling import SMOTE\n",
    "seed = 101\n",
    "k = 1 \n",
    "sm = SMOTE(sampling_strategy = 'minority', k_neighbors = k, random_state = seed)\n",
    "res_X, res_y = sm.fit_resample(x_data, y_data)\n",
    "X_train,X_test,y_train,y_test = train_test_split(res_X, res_y,test_size=0.3,random_state=0)\n"
   ]
  },
  {
   "cell_type": "code",
   "execution_count": 57,
   "id": "af7c0026-0170-4388-83d5-dfd37310e776",
   "metadata": {},
   "outputs": [],
   "source": [
    "x_train = np.asarray(X_train).astype('float32')\n",
    "x_test = np.asarray(X_test).astype('float32')"
   ]
  },
  {
   "cell_type": "code",
   "execution_count": 58,
   "id": "5cc97a53-d805-4d3d-b8a5-173f4764db0c",
   "metadata": {},
   "outputs": [],
   "source": [
    "x_train = np.asarray(X_train).astype('float32')\n",
    "x_test = np.asarray(X_test).astype('float32')"
   ]
  },
  {
   "cell_type": "code",
   "execution_count": 59,
   "id": "b8a9242b-b31a-4774-b38b-076930451577",
   "metadata": {},
   "outputs": [],
   "source": [
    "x_train = x_train.reshape(X_train.shape[0],X_train.shape[1],1)\n",
    "x_test = x_test.reshape(X_test.shape[0],X_test.shape[1],1)"
   ]
  },
  {
   "cell_type": "code",
   "execution_count": 60,
   "id": "2fed6875-0c6d-48d5-b365-1961171d7b05",
   "metadata": {},
   "outputs": [],
   "source": [
    "y_train = np.asarray(y_train).astype('float32')\n",
    "y_test = np.asarray(y_test).astype('float32')"
   ]
  },
  {
   "cell_type": "code",
   "execution_count": 61,
   "id": "0b254cc9-4797-4ae1-8065-911040635a4a",
   "metadata": {},
   "outputs": [],
   "source": [
    "###Reshaping the input\n",
    "y_train = y_train.reshape(-1,1)\n",
    "y_test = y_test.reshape(-1,1)"
   ]
  },
  {
   "cell_type": "code",
   "execution_count": 62,
   "id": "85d4d8ae-e006-4610-abe4-234d83b3f6fc",
   "metadata": {},
   "outputs": [],
   "source": [
    "### encding y label\n",
    "from sklearn.preprocessing import OneHotEncoder\n",
    "\n",
    "encoder = OneHotEncoder(sparse=False)\n",
    "y_train = encoder.fit_transform(y_train)"
   ]
  },
  {
   "cell_type": "code",
   "execution_count": 63,
   "id": "7ba0fe45-9aa6-45e5-803e-1d6d4c8156e8",
   "metadata": {},
   "outputs": [],
   "source": [
    "y_test = encoder.transform(y_test)"
   ]
  },
  {
   "cell_type": "code",
   "execution_count": 64,
   "id": "e2d308dc-4521-4bc9-a811-ddaeec67559e",
   "metadata": {},
   "outputs": [
    {
     "data": {
      "text/plain": [
       "(134, 5)"
      ]
     },
     "execution_count": 64,
     "metadata": {},
     "output_type": "execute_result"
    }
   ],
   "source": [
    "y_test.shape"
   ]
  },
  {
   "cell_type": "code",
   "execution_count": 65,
   "id": "548d283a-f345-4999-88cd-fda93a971ec3",
   "metadata": {},
   "outputs": [],
   "source": [
    "n_timesteps, n_features, n_outputs = x_train.shape[1],x_train.shape[2],5"
   ]
  },
  {
   "cell_type": "code",
   "execution_count": 66,
   "id": "09d7b884-ed59-4658-9843-56a06243075e",
   "metadata": {},
   "outputs": [
    {
     "name": "stdout",
     "output_type": "stream",
     "text": [
      "9\n",
      "1\n",
      "5\n"
     ]
    }
   ],
   "source": [
    "print(n_timesteps)\n",
    "print(n_features)\n",
    "print(n_outputs)"
   ]
  },
  {
   "cell_type": "code",
   "execution_count": 67,
   "id": "c9793c92",
   "metadata": {},
   "outputs": [
    {
     "name": "stdout",
     "output_type": "stream",
     "text": [
      "First conv1 layer :  (None, 8, 128)\n",
      "Second conv2 layer :  (None, 7, 64)\n",
      "pool1 :  (None, 3, 64)\n",
      "First LSTM layer :  (None, 3, 32)\n",
      "Second LSTM layer :  (None, 3, 32)\n"
     ]
    }
   ],
   "source": [
    "from tensorflow.keras.layers import Input, Conv1D, MaxPooling1D, LSTM, Dense, Flatten, Add, BatchNormalization\n",
    "import tensorflow as tf\n",
    "\n",
    "# Assuming n_timesteps and n_features are defined\n",
    "n_outputs = 5  # Number of output classes\n",
    "\n",
    "# Define the input layer\n",
    "input_layer = Input(shape=(n_timesteps, 1))\n",
    "\n",
    "# First convolutional block with batch normalization\n",
    "conv1 = Conv1D(filters=128, kernel_size=2, activation='relu')(input_layer)\n",
    "# conv1 = BatchNormalization()(conv1)\n",
    "print('First conv1 layer : ', conv1.shape)\n",
    "\n",
    "# Second convolutional block with batch normalization\n",
    "conv2 = Conv1D(filters=64, kernel_size=2, activation='relu')(conv1)\n",
    "# conv2 = BatchNormalization()(conv2)\n",
    "print('Second conv2 layer : ', conv2.shape)\n",
    "\n",
    "pool1 = MaxPooling1D(pool_size=2)(conv2)\n",
    "print('pool1 : ', pool1.shape)\n",
    "\n",
    "# First LSTM block\n",
    "lstm1 = LSTM(32, return_sequences=True)(pool1)\n",
    "print('First LSTM layer : ', lstm1.shape)\n",
    "\n",
    "# Second LSTM block with a skip connection\n",
    "lstm2 = LSTM(32, return_sequences=True)(pool1)  # Skip connection to the first LSTM block\n",
    "print('Second LSTM layer : ', lstm2.shape)\n",
    "\n",
    "combined_lstm = Add()([lstm1, lstm2])\n",
    "combined_lstm = BatchNormalization()(combined_lstm)\n",
    "\n",
    "\n",
    "# Dense layers\n",
    "dense1 = Dense(100, activation='relu')(combined_lstm)\n",
    "flatten1 = Flatten()(dense1)\n",
    "output_layer = Dense(n_outputs, activation='softmax')(flatten1)\n",
    "\n",
    "# Create the model\n",
    "model = tf.keras.Model(inputs=input_layer, outputs=output_layer)"
   ]
  },
  {
   "cell_type": "code",
   "execution_count": 68,
   "id": "1cfbccb4",
   "metadata": {},
   "outputs": [
    {
     "name": "stdout",
     "output_type": "stream",
     "text": [
      "Model: \"model\"\n",
      "__________________________________________________________________________________________________\n",
      " Layer (type)                   Output Shape         Param #     Connected to                     \n",
      "==================================================================================================\n",
      " input_1 (InputLayer)           [(None, 9, 1)]       0           []                               \n",
      "                                                                                                  \n",
      " conv1d (Conv1D)                (None, 8, 128)       384         ['input_1[0][0]']                \n",
      "                                                                                                  \n",
      " conv1d_1 (Conv1D)              (None, 7, 64)        16448       ['conv1d[0][0]']                 \n",
      "                                                                                                  \n",
      " max_pooling1d (MaxPooling1D)   (None, 3, 64)        0           ['conv1d_1[0][0]']               \n",
      "                                                                                                  \n",
      " lstm (LSTM)                    (None, 3, 32)        12416       ['max_pooling1d[0][0]']          \n",
      "                                                                                                  \n",
      " lstm_1 (LSTM)                  (None, 3, 32)        12416       ['max_pooling1d[0][0]']          \n",
      "                                                                                                  \n",
      " add (Add)                      (None, 3, 32)        0           ['lstm[0][0]',                   \n",
      "                                                                  'lstm_1[0][0]']                 \n",
      "                                                                                                  \n",
      " batch_normalization (BatchNorm  (None, 3, 32)       128         ['add[0][0]']                    \n",
      " alization)                                                                                       \n",
      "                                                                                                  \n",
      " dense (Dense)                  (None, 3, 100)       3300        ['batch_normalization[0][0]']    \n",
      "                                                                                                  \n",
      " flatten (Flatten)              (None, 300)          0           ['dense[0][0]']                  \n",
      "                                                                                                  \n",
      " dense_1 (Dense)                (None, 5)            1505        ['flatten[0][0]']                \n",
      "                                                                                                  \n",
      "==================================================================================================\n",
      "Total params: 46,597\n",
      "Trainable params: 46,533\n",
      "Non-trainable params: 64\n",
      "__________________________________________________________________________________________________\n"
     ]
    }
   ],
   "source": [
    "model.summary()"
   ]
  },
  {
   "cell_type": "code",
   "execution_count": 69,
   "id": "ad6a212a",
   "metadata": {},
   "outputs": [],
   "source": [
    "## Compiling the model train\n",
    "model.compile(loss='categorical_crossentropy', optimizer = tf.keras.optimizers.SGD(learning_rate=0.01, momentum=0.9), metrics=['accuracy'])"
   ]
  },
  {
   "cell_type": "code",
   "execution_count": 70,
   "id": "45438121-6fb1-4563-acaa-50936b2d8706",
   "metadata": {},
   "outputs": [
    {
     "data": {
      "text/plain": [
       "array([0., 1.])"
      ]
     },
     "execution_count": 70,
     "metadata": {},
     "output_type": "execute_result"
    }
   ],
   "source": [
    "np.unique(y_train)"
   ]
  },
  {
   "cell_type": "code",
   "execution_count": 71,
   "id": "a58f9eac",
   "metadata": {},
   "outputs": [],
   "source": [
    "# Define the ModelCheckpoint callback\n",
    "checkpoint_filepath ='C:\\\\Users\\\\Ojumu PC'\n",
    "model_checkpoint_callback = tf.keras.callbacks.ModelCheckpoint(\n",
    "    filepath=checkpoint_filepath,\n",
    "    save_best_only=True,\n",
    "    monitor='val_accuracy',  \n",
    "    mode='max',  \n",
    ")"
   ]
  },
  {
   "cell_type": "code",
   "execution_count": 72,
   "id": "a10f8a9b-820b-4383-980c-333cd566b498",
   "metadata": {},
   "outputs": [
    {
     "data": {
      "text/plain": [
       "array([0., 1.])"
      ]
     },
     "execution_count": 72,
     "metadata": {},
     "output_type": "execute_result"
    }
   ],
   "source": [
    "np.unique(y_train)"
   ]
  },
  {
   "cell_type": "code",
   "execution_count": 73,
   "id": "491fda23-3b36-49b2-829a-f453e0527259",
   "metadata": {},
   "outputs": [
    {
     "data": {
      "text/plain": [
       "(134, 5)"
      ]
     },
     "execution_count": 73,
     "metadata": {},
     "output_type": "execute_result"
    }
   ],
   "source": [
    "y_test.shape"
   ]
  },
  {
   "cell_type": "code",
   "execution_count": 74,
   "id": "0b4d9965-9325-4724-b387-3fd07648aae4",
   "metadata": {},
   "outputs": [
    {
     "data": {
      "text/plain": [
       "(134, 9, 1)"
      ]
     },
     "execution_count": 74,
     "metadata": {},
     "output_type": "execute_result"
    }
   ],
   "source": [
    "x_test.shape"
   ]
  },
  {
   "cell_type": "code",
   "execution_count": 75,
   "id": "471228e6",
   "metadata": {},
   "outputs": [
    {
     "name": "stdout",
     "output_type": "stream",
     "text": [
      "Epoch 1/100\n",
      "1/3 [=========>....................] - ETA: 16s - loss: 1.8489 - accuracy: 0.0625"
     ]
    },
    {
     "name": "stderr",
     "output_type": "stream",
     "text": [
      "WARNING:absl:Found untraced functions such as _jit_compiled_convolution_op, _jit_compiled_convolution_op, lstm_cell_layer_call_fn, lstm_cell_layer_call_and_return_conditional_losses, lstm_cell_1_layer_call_fn while saving (showing 5 of 6). These functions will not be directly callable after loading.\n"
     ]
    },
    {
     "name": "stdout",
     "output_type": "stream",
     "text": [
      "INFO:tensorflow:Assets written to: C:\\Users\\Ojumu PC\\assets\n"
     ]
    },
    {
     "name": "stderr",
     "output_type": "stream",
     "text": [
      "INFO:tensorflow:Assets written to: C:\\Users\\Ojumu PC\\assets\n"
     ]
    },
    {
     "name": "stdout",
     "output_type": "stream",
     "text": [
      "3/3 [==============================] - 46s 19s/step - loss: 1.7467 - accuracy: 0.1346 - val_loss: 1.5994 - val_accuracy: 0.3358\n",
      "Epoch 2/100\n",
      "3/3 [==============================] - 0s 65ms/step - loss: 1.4481 - accuracy: 0.4103 - val_loss: 1.5674 - val_accuracy: 0.3358\n",
      "Epoch 3/100\n",
      "1/3 [=========>....................] - ETA: 0s - loss: 1.2775 - accuracy: 0.5625"
     ]
    },
    {
     "name": "stderr",
     "output_type": "stream",
     "text": [
      "WARNING:absl:Found untraced functions such as _jit_compiled_convolution_op, _jit_compiled_convolution_op, lstm_cell_layer_call_fn, lstm_cell_layer_call_and_return_conditional_losses, lstm_cell_1_layer_call_fn while saving (showing 5 of 6). These functions will not be directly callable after loading.\n"
     ]
    },
    {
     "name": "stdout",
     "output_type": "stream",
     "text": [
      "INFO:tensorflow:Assets written to: C:\\Users\\Ojumu PC\\assets\n"
     ]
    },
    {
     "name": "stderr",
     "output_type": "stream",
     "text": [
      "INFO:tensorflow:Assets written to: C:\\Users\\Ojumu PC\\assets\n"
     ]
    },
    {
     "name": "stdout",
     "output_type": "stream",
     "text": [
      "3/3 [==============================] - 36s 18s/step - loss: 1.2230 - accuracy: 0.6154 - val_loss: 1.5328 - val_accuracy: 0.6567\n",
      "Epoch 4/100\n",
      "3/3 [==============================] - 0s 92ms/step - loss: 1.1028 - accuracy: 0.6731 - val_loss: 1.5003 - val_accuracy: 0.5000\n",
      "Epoch 5/100\n",
      "3/3 [==============================] - 0s 54ms/step - loss: 1.0495 - accuracy: 0.6795 - val_loss: 1.4791 - val_accuracy: 0.3955\n",
      "Epoch 6/100\n",
      "3/3 [==============================] - 0s 61ms/step - loss: 1.0015 - accuracy: 0.6859 - val_loss: 1.4738 - val_accuracy: 0.4030\n",
      "Epoch 7/100\n",
      "3/3 [==============================] - 0s 59ms/step - loss: 0.9403 - accuracy: 0.6891 - val_loss: 1.4785 - val_accuracy: 0.4104\n",
      "Epoch 8/100\n",
      "3/3 [==============================] - 0s 60ms/step - loss: 0.8876 - accuracy: 0.6955 - val_loss: 1.4827 - val_accuracy: 0.4104\n",
      "Epoch 9/100\n",
      "3/3 [==============================] - 0s 59ms/step - loss: 0.8487 - accuracy: 0.7179 - val_loss: 1.4776 - val_accuracy: 0.4328\n",
      "Epoch 10/100\n",
      "3/3 [==============================] - 0s 59ms/step - loss: 0.8096 - accuracy: 0.7372 - val_loss: 1.4672 - val_accuracy: 0.4478\n",
      "Epoch 11/100\n",
      "3/3 [==============================] - 0s 75ms/step - loss: 0.7718 - accuracy: 0.7372 - val_loss: 1.4590 - val_accuracy: 0.4701\n",
      "Epoch 12/100\n",
      "3/3 [==============================] - 0s 74ms/step - loss: 0.7486 - accuracy: 0.7404 - val_loss: 1.4493 - val_accuracy: 0.4851\n",
      "Epoch 13/100\n",
      "3/3 [==============================] - 0s 74ms/step - loss: 0.7293 - accuracy: 0.7436 - val_loss: 1.4411 - val_accuracy: 0.5224\n",
      "Epoch 14/100\n",
      "3/3 [==============================] - 0s 73ms/step - loss: 0.7040 - accuracy: 0.7500 - val_loss: 1.4437 - val_accuracy: 0.5000\n",
      "Epoch 15/100\n",
      "3/3 [==============================] - 0s 54ms/step - loss: 0.6824 - accuracy: 0.7660 - val_loss: 1.4474 - val_accuracy: 0.4552\n",
      "Epoch 16/100\n",
      "3/3 [==============================] - 0s 59ms/step - loss: 0.6663 - accuracy: 0.7756 - val_loss: 1.4383 - val_accuracy: 0.5224\n",
      "Epoch 17/100\n",
      "3/3 [==============================] - 0s 58ms/step - loss: 0.6541 - accuracy: 0.7756 - val_loss: 1.4280 - val_accuracy: 0.5149\n",
      "Epoch 18/100\n",
      "3/3 [==============================] - 0s 59ms/step - loss: 0.6224 - accuracy: 0.7724 - val_loss: 1.4197 - val_accuracy: 0.4925\n",
      "Epoch 19/100\n",
      "3/3 [==============================] - 0s 59ms/step - loss: 0.6117 - accuracy: 0.7853 - val_loss: 1.4095 - val_accuracy: 0.5373\n",
      "Epoch 20/100\n",
      "3/3 [==============================] - 0s 55ms/step - loss: 0.5897 - accuracy: 0.7821 - val_loss: 1.4085 - val_accuracy: 0.5448\n",
      "Epoch 21/100\n",
      "3/3 [==============================] - 0s 60ms/step - loss: 0.5813 - accuracy: 0.7821 - val_loss: 1.4140 - val_accuracy: 0.5299\n",
      "Epoch 22/100\n",
      "3/3 [==============================] - 0s 58ms/step - loss: 0.5682 - accuracy: 0.7981 - val_loss: 1.4142 - val_accuracy: 0.4478\n",
      "Epoch 23/100\n",
      "3/3 [==============================] - 0s 59ms/step - loss: 0.5520 - accuracy: 0.8077 - val_loss: 1.4009 - val_accuracy: 0.5000\n",
      "Epoch 24/100\n",
      "3/3 [==============================] - 0s 55ms/step - loss: 0.5438 - accuracy: 0.7981 - val_loss: 1.3946 - val_accuracy: 0.5224\n",
      "Epoch 25/100\n",
      "3/3 [==============================] - 0s 59ms/step - loss: 0.5375 - accuracy: 0.7949 - val_loss: 1.3952 - val_accuracy: 0.4701\n",
      "Epoch 26/100\n",
      "3/3 [==============================] - 0s 57ms/step - loss: 0.5168 - accuracy: 0.8109 - val_loss: 1.3913 - val_accuracy: 0.4851\n",
      "Epoch 27/100\n",
      "3/3 [==============================] - 0s 59ms/step - loss: 0.4996 - accuracy: 0.8173 - val_loss: 1.3939 - val_accuracy: 0.4701\n",
      "Epoch 28/100\n",
      "3/3 [==============================] - 0s 64ms/step - loss: 0.4999 - accuracy: 0.8205 - val_loss: 1.3891 - val_accuracy: 0.4925\n",
      "Epoch 29/100\n",
      "3/3 [==============================] - 0s 59ms/step - loss: 0.4781 - accuracy: 0.8301 - val_loss: 1.3855 - val_accuracy: 0.4851\n",
      "Epoch 30/100\n",
      "3/3 [==============================] - 0s 55ms/step - loss: 0.4719 - accuracy: 0.8269 - val_loss: 1.3943 - val_accuracy: 0.4478\n",
      "Epoch 31/100\n",
      "3/3 [==============================] - 0s 60ms/step - loss: 0.4583 - accuracy: 0.8429 - val_loss: 1.4013 - val_accuracy: 0.4179\n",
      "Epoch 32/100\n",
      "3/3 [==============================] - 0s 58ms/step - loss: 0.4477 - accuracy: 0.8526 - val_loss: 1.3652 - val_accuracy: 0.5448\n",
      "Epoch 33/100\n",
      "3/3 [==============================] - 0s 58ms/step - loss: 0.4479 - accuracy: 0.8365 - val_loss: 1.3543 - val_accuracy: 0.5448\n",
      "Epoch 34/100\n",
      "3/3 [==============================] - 0s 56ms/step - loss: 0.4281 - accuracy: 0.8429 - val_loss: 1.3758 - val_accuracy: 0.4403\n",
      "Epoch 35/100\n",
      "3/3 [==============================] - 0s 59ms/step - loss: 0.4216 - accuracy: 0.8590 - val_loss: 1.3596 - val_accuracy: 0.5000\n",
      "Epoch 36/100\n",
      "3/3 [==============================] - 0s 58ms/step - loss: 0.4129 - accuracy: 0.8558 - val_loss: 1.3557 - val_accuracy: 0.5075\n",
      "Epoch 37/100\n",
      "3/3 [==============================] - 0s 59ms/step - loss: 0.4059 - accuracy: 0.8558 - val_loss: 1.3818 - val_accuracy: 0.4104\n",
      "Epoch 38/100\n",
      "3/3 [==============================] - 0s 59ms/step - loss: 0.3974 - accuracy: 0.8590 - val_loss: 1.3300 - val_accuracy: 0.5299\n",
      "Epoch 39/100\n",
      "3/3 [==============================] - 0s 58ms/step - loss: 0.3857 - accuracy: 0.8718 - val_loss: 1.3111 - val_accuracy: 0.6418\n",
      "Epoch 40/100\n",
      "3/3 [==============================] - 0s 98ms/step - loss: 0.3808 - accuracy: 0.8686 - val_loss: 1.3495 - val_accuracy: 0.4925\n",
      "Epoch 41/100\n",
      "3/3 [==============================] - 0s 55ms/step - loss: 0.3709 - accuracy: 0.8750 - val_loss: 1.3456 - val_accuracy: 0.4627\n",
      "Epoch 42/100\n",
      "3/3 [==============================] - 0s 59ms/step - loss: 0.3629 - accuracy: 0.8718 - val_loss: 1.3054 - val_accuracy: 0.5373\n",
      "Epoch 43/100\n",
      "3/3 [==============================] - 0s 58ms/step - loss: 0.3543 - accuracy: 0.8846 - val_loss: 1.2990 - val_accuracy: 0.5448\n",
      "Epoch 44/100\n",
      "3/3 [==============================] - 0s 60ms/step - loss: 0.3506 - accuracy: 0.8910 - val_loss: 1.3228 - val_accuracy: 0.5224\n",
      "Epoch 45/100\n",
      "3/3 [==============================] - 0s 58ms/step - loss: 0.3389 - accuracy: 0.8750 - val_loss: 1.3134 - val_accuracy: 0.5597\n",
      "Epoch 46/100\n",
      "3/3 [==============================] - 0s 59ms/step - loss: 0.3342 - accuracy: 0.8782 - val_loss: 1.2815 - val_accuracy: 0.6045\n",
      "Epoch 47/100\n",
      "3/3 [==============================] - 0s 66ms/step - loss: 0.3298 - accuracy: 0.8878 - val_loss: 1.3104 - val_accuracy: 0.5299\n",
      "Epoch 48/100\n",
      "3/3 [==============================] - 0s 65ms/step - loss: 0.3197 - accuracy: 0.8910 - val_loss: 1.2732 - val_accuracy: 0.6045\n",
      "Epoch 49/100\n",
      "3/3 [==============================] - 0s 68ms/step - loss: 0.3112 - accuracy: 0.9006 - val_loss: 1.2487 - val_accuracy: 0.6418\n",
      "Epoch 50/100\n",
      "3/3 [==============================] - 0s 61ms/step - loss: 0.3099 - accuracy: 0.8910 - val_loss: 1.2707 - val_accuracy: 0.5672\n",
      "Epoch 51/100\n",
      "3/3 [==============================] - 0s 65ms/step - loss: 0.3039 - accuracy: 0.9071 - val_loss: 1.2402 - val_accuracy: 0.6194\n",
      "Epoch 52/100\n",
      "3/3 [==============================] - 0s 62ms/step - loss: 0.2992 - accuracy: 0.8942 - val_loss: 1.2429 - val_accuracy: 0.5896\n",
      "Epoch 53/100\n",
      "3/3 [==============================] - 0s 69ms/step - loss: 0.2915 - accuracy: 0.8942 - val_loss: 1.2742 - val_accuracy: 0.5448\n",
      "Epoch 54/100\n",
      "3/3 [==============================] - 0s 64ms/step - loss: 0.2904 - accuracy: 0.9071 - val_loss: 1.2685 - val_accuracy: 0.5597\n",
      "Epoch 55/100\n",
      "3/3 [==============================] - 0s 60ms/step - loss: 0.2882 - accuracy: 0.9167 - val_loss: 1.2438 - val_accuracy: 0.6119\n",
      "Epoch 56/100\n",
      "3/3 [==============================] - ETA: 0s - loss: 0.2727 - accuracy: 0.9167"
     ]
    },
    {
     "name": "stderr",
     "output_type": "stream",
     "text": [
      "WARNING:absl:Found untraced functions such as _jit_compiled_convolution_op, _jit_compiled_convolution_op, lstm_cell_layer_call_fn, lstm_cell_layer_call_and_return_conditional_losses, lstm_cell_1_layer_call_fn while saving (showing 5 of 6). These functions will not be directly callable after loading.\n"
     ]
    },
    {
     "name": "stdout",
     "output_type": "stream",
     "text": [
      "INFO:tensorflow:Assets written to: C:\\Users\\Ojumu PC\\assets\n"
     ]
    },
    {
     "name": "stderr",
     "output_type": "stream",
     "text": [
      "INFO:tensorflow:Assets written to: C:\\Users\\Ojumu PC\\assets\n"
     ]
    },
    {
     "name": "stdout",
     "output_type": "stream",
     "text": [
      "3/3 [==============================] - 35s 17s/step - loss: 0.2727 - accuracy: 0.9167 - val_loss: 1.2246 - val_accuracy: 0.6642\n",
      "Epoch 57/100\n",
      "1/3 [=========>....................] - ETA: 0s - loss: 0.2277 - accuracy: 0.9375"
     ]
    },
    {
     "name": "stderr",
     "output_type": "stream",
     "text": [
      "WARNING:absl:Found untraced functions such as _jit_compiled_convolution_op, _jit_compiled_convolution_op, lstm_cell_layer_call_fn, lstm_cell_layer_call_and_return_conditional_losses, lstm_cell_1_layer_call_fn while saving (showing 5 of 6). These functions will not be directly callable after loading.\n"
     ]
    },
    {
     "name": "stdout",
     "output_type": "stream",
     "text": [
      "INFO:tensorflow:Assets written to: C:\\Users\\Ojumu PC\\assets\n"
     ]
    },
    {
     "name": "stderr",
     "output_type": "stream",
     "text": [
      "INFO:tensorflow:Assets written to: C:\\Users\\Ojumu PC\\assets\n"
     ]
    },
    {
     "name": "stdout",
     "output_type": "stream",
     "text": [
      "3/3 [==============================] - 35s 18s/step - loss: 0.2669 - accuracy: 0.9135 - val_loss: 1.1846 - val_accuracy: 0.6791\n",
      "Epoch 58/100\n",
      "3/3 [==============================] - 0s 57ms/step - loss: 0.2636 - accuracy: 0.9295 - val_loss: 1.2087 - val_accuracy: 0.6045\n",
      "Epoch 59/100\n",
      "3/3 [==============================] - 0s 53ms/step - loss: 0.2596 - accuracy: 0.9423 - val_loss: 1.2180 - val_accuracy: 0.5821\n",
      "Epoch 60/100\n",
      "3/3 [==============================] - 0s 54ms/step - loss: 0.2496 - accuracy: 0.9135 - val_loss: 1.1961 - val_accuracy: 0.6493\n",
      "Epoch 61/100\n",
      "3/3 [==============================] - 0s 53ms/step - loss: 0.2489 - accuracy: 0.9071 - val_loss: 1.1752 - val_accuracy: 0.6791\n",
      "Epoch 62/100\n",
      "3/3 [==============================] - 0s 54ms/step - loss: 0.2434 - accuracy: 0.9327 - val_loss: 1.2097 - val_accuracy: 0.5821\n",
      "Epoch 63/100\n",
      "3/3 [==============================] - 0s 53ms/step - loss: 0.2507 - accuracy: 0.9263 - val_loss: 1.1915 - val_accuracy: 0.6045\n",
      "Epoch 64/100\n",
      "3/3 [==============================] - 0s 54ms/step - loss: 0.2319 - accuracy: 0.9359 - val_loss: 1.1539 - val_accuracy: 0.6642\n",
      "Epoch 65/100\n",
      "1/3 [=========>....................] - ETA: 0s - loss: 0.1928 - accuracy: 0.9609"
     ]
    },
    {
     "name": "stderr",
     "output_type": "stream",
     "text": [
      "WARNING:absl:Found untraced functions such as _jit_compiled_convolution_op, _jit_compiled_convolution_op, lstm_cell_layer_call_fn, lstm_cell_layer_call_and_return_conditional_losses, lstm_cell_1_layer_call_fn while saving (showing 5 of 6). These functions will not be directly callable after loading.\n"
     ]
    },
    {
     "name": "stdout",
     "output_type": "stream",
     "text": [
      "INFO:tensorflow:Assets written to: C:\\Users\\Ojumu PC\\assets\n"
     ]
    },
    {
     "name": "stderr",
     "output_type": "stream",
     "text": [
      "INFO:tensorflow:Assets written to: C:\\Users\\Ojumu PC\\assets\n"
     ]
    },
    {
     "name": "stdout",
     "output_type": "stream",
     "text": [
      "3/3 [==============================] - 35s 17s/step - loss: 0.2298 - accuracy: 0.9231 - val_loss: 1.1145 - val_accuracy: 0.7015\n",
      "Epoch 66/100\n",
      "3/3 [==============================] - 0s 57ms/step - loss: 0.2280 - accuracy: 0.9231 - val_loss: 1.1508 - val_accuracy: 0.6716\n",
      "Epoch 67/100\n",
      "3/3 [==============================] - 0s 55ms/step - loss: 0.2324 - accuracy: 0.9359 - val_loss: 1.1779 - val_accuracy: 0.6045\n",
      "Epoch 68/100\n",
      "1/3 [=========>....................] - ETA: 0s - loss: 0.1737 - accuracy: 0.9688"
     ]
    },
    {
     "name": "stderr",
     "output_type": "stream",
     "text": [
      "WARNING:absl:Found untraced functions such as _jit_compiled_convolution_op, _jit_compiled_convolution_op, lstm_cell_layer_call_fn, lstm_cell_layer_call_and_return_conditional_losses, lstm_cell_1_layer_call_fn while saving (showing 5 of 6). These functions will not be directly callable after loading.\n"
     ]
    },
    {
     "name": "stdout",
     "output_type": "stream",
     "text": [
      "INFO:tensorflow:Assets written to: C:\\Users\\Ojumu PC\\assets\n"
     ]
    },
    {
     "name": "stderr",
     "output_type": "stream",
     "text": [
      "INFO:tensorflow:Assets written to: C:\\Users\\Ojumu PC\\assets\n"
     ]
    },
    {
     "name": "stdout",
     "output_type": "stream",
     "text": [
      "3/3 [==============================] - 35s 17s/step - loss: 0.2166 - accuracy: 0.9551 - val_loss: 1.0980 - val_accuracy: 0.7090\n",
      "Epoch 69/100\n",
      "3/3 [==============================] - 0s 58ms/step - loss: 0.2181 - accuracy: 0.9391 - val_loss: 1.1345 - val_accuracy: 0.6269\n",
      "Epoch 70/100\n",
      "3/3 [==============================] - 0s 55ms/step - loss: 0.2010 - accuracy: 0.9519 - val_loss: 1.1023 - val_accuracy: 0.7015\n",
      "Epoch 71/100\n",
      "3/3 [==============================] - 0s 53ms/step - loss: 0.2052 - accuracy: 0.9519 - val_loss: 1.0792 - val_accuracy: 0.7090\n",
      "Epoch 72/100\n",
      "3/3 [==============================] - 0s 53ms/step - loss: 0.1919 - accuracy: 0.9551 - val_loss: 1.1427 - val_accuracy: 0.6343\n",
      "Epoch 73/100\n",
      "3/3 [==============================] - 0s 55ms/step - loss: 0.1925 - accuracy: 0.9455 - val_loss: 1.1464 - val_accuracy: 0.6045\n",
      "Epoch 74/100\n",
      "1/3 [=========>....................] - ETA: 0s - loss: 0.2134 - accuracy: 0.9297"
     ]
    },
    {
     "name": "stderr",
     "output_type": "stream",
     "text": [
      "WARNING:absl:Found untraced functions such as _jit_compiled_convolution_op, _jit_compiled_convolution_op, lstm_cell_layer_call_fn, lstm_cell_layer_call_and_return_conditional_losses, lstm_cell_1_layer_call_fn while saving (showing 5 of 6). These functions will not be directly callable after loading.\n"
     ]
    },
    {
     "name": "stdout",
     "output_type": "stream",
     "text": [
      "INFO:tensorflow:Assets written to: C:\\Users\\Ojumu PC\\assets\n"
     ]
    },
    {
     "name": "stderr",
     "output_type": "stream",
     "text": [
      "INFO:tensorflow:Assets written to: C:\\Users\\Ojumu PC\\assets\n"
     ]
    },
    {
     "name": "stdout",
     "output_type": "stream",
     "text": [
      "3/3 [==============================] - 35s 18s/step - loss: 0.1859 - accuracy: 0.9487 - val_loss: 1.0031 - val_accuracy: 0.7164\n",
      "Epoch 75/100\n",
      "1/3 [=========>....................] - ETA: 0s - loss: 0.2030 - accuracy: 0.9453"
     ]
    },
    {
     "name": "stderr",
     "output_type": "stream",
     "text": [
      "WARNING:absl:Found untraced functions such as _jit_compiled_convolution_op, _jit_compiled_convolution_op, lstm_cell_layer_call_fn, lstm_cell_layer_call_and_return_conditional_losses, lstm_cell_1_layer_call_fn while saving (showing 5 of 6). These functions will not be directly callable after loading.\n"
     ]
    },
    {
     "name": "stdout",
     "output_type": "stream",
     "text": [
      "INFO:tensorflow:Assets written to: C:\\Users\\Ojumu PC\\assets\n"
     ]
    },
    {
     "name": "stderr",
     "output_type": "stream",
     "text": [
      "INFO:tensorflow:Assets written to: C:\\Users\\Ojumu PC\\assets\n"
     ]
    },
    {
     "name": "stdout",
     "output_type": "stream",
     "text": [
      "3/3 [==============================] - 35s 17s/step - loss: 0.2032 - accuracy: 0.9359 - val_loss: 1.0170 - val_accuracy: 0.7239\n",
      "Epoch 76/100\n",
      "3/3 [==============================] - 0s 56ms/step - loss: 0.1738 - accuracy: 0.9679 - val_loss: 1.1431 - val_accuracy: 0.6045\n",
      "Epoch 77/100\n",
      "3/3 [==============================] - 0s 55ms/step - loss: 0.1802 - accuracy: 0.9551 - val_loss: 1.0951 - val_accuracy: 0.6791\n",
      "Epoch 78/100\n",
      "3/3 [==============================] - 0s 54ms/step - loss: 0.1661 - accuracy: 0.9615 - val_loss: 0.9821 - val_accuracy: 0.7090\n",
      "Epoch 79/100\n",
      "3/3 [==============================] - 0s 53ms/step - loss: 0.1675 - accuracy: 0.9615 - val_loss: 0.9928 - val_accuracy: 0.7090\n",
      "Epoch 80/100\n",
      "3/3 [==============================] - 0s 63ms/step - loss: 0.1598 - accuracy: 0.9615 - val_loss: 1.0518 - val_accuracy: 0.7090\n",
      "Epoch 81/100\n",
      "3/3 [==============================] - 0s 55ms/step - loss: 0.1644 - accuracy: 0.9647 - val_loss: 1.0138 - val_accuracy: 0.7090\n",
      "Epoch 82/100\n",
      "3/3 [==============================] - 0s 55ms/step - loss: 0.1639 - accuracy: 0.9744 - val_loss: 1.0215 - val_accuracy: 0.7090\n",
      "Epoch 83/100\n",
      "3/3 [==============================] - 0s 53ms/step - loss: 0.1515 - accuracy: 0.9744 - val_loss: 1.0056 - val_accuracy: 0.7090\n",
      "Epoch 84/100\n",
      "3/3 [==============================] - 0s 69ms/step - loss: 0.1495 - accuracy: 0.9679 - val_loss: 0.9420 - val_accuracy: 0.7164\n",
      "Epoch 85/100\n",
      "3/3 [==============================] - 0s 68ms/step - loss: 0.1464 - accuracy: 0.9647 - val_loss: 0.9609 - val_accuracy: 0.7015\n",
      "Epoch 86/100\n",
      "3/3 [==============================] - 0s 70ms/step - loss: 0.1472 - accuracy: 0.9712 - val_loss: 1.0376 - val_accuracy: 0.6791\n",
      "Epoch 87/100\n",
      "3/3 [==============================] - 0s 68ms/step - loss: 0.1360 - accuracy: 0.9840 - val_loss: 1.0153 - val_accuracy: 0.7015\n",
      "Epoch 88/100\n",
      "3/3 [==============================] - 0s 57ms/step - loss: 0.1386 - accuracy: 0.9776 - val_loss: 0.9383 - val_accuracy: 0.7239\n",
      "Epoch 89/100\n",
      "3/3 [==============================] - 0s 53ms/step - loss: 0.1378 - accuracy: 0.9679 - val_loss: 0.9460 - val_accuracy: 0.7164\n",
      "Epoch 90/100\n",
      "3/3 [==============================] - 0s 55ms/step - loss: 0.1251 - accuracy: 0.9840 - val_loss: 1.0052 - val_accuracy: 0.7015\n",
      "Epoch 91/100\n",
      "3/3 [==============================] - 0s 53ms/step - loss: 0.1227 - accuracy: 0.9744 - val_loss: 1.0098 - val_accuracy: 0.6940\n",
      "Epoch 92/100\n",
      "3/3 [==============================] - 0s 55ms/step - loss: 0.1166 - accuracy: 0.9808 - val_loss: 0.9690 - val_accuracy: 0.7090\n",
      "Epoch 93/100\n",
      "3/3 [==============================] - 0s 53ms/step - loss: 0.1138 - accuracy: 0.9872 - val_loss: 0.8923 - val_accuracy: 0.7164\n",
      "Epoch 94/100\n",
      "3/3 [==============================] - 0s 55ms/step - loss: 0.1140 - accuracy: 0.9808 - val_loss: 0.9095 - val_accuracy: 0.7164\n",
      "Epoch 95/100\n",
      "3/3 [==============================] - 0s 53ms/step - loss: 0.1072 - accuracy: 0.9872 - val_loss: 0.9199 - val_accuracy: 0.7239\n",
      "Epoch 96/100\n",
      "3/3 [==============================] - 0s 56ms/step - loss: 0.1133 - accuracy: 0.9776 - val_loss: 0.8955 - val_accuracy: 0.7239\n",
      "Epoch 97/100\n",
      "3/3 [==============================] - 0s 52ms/step - loss: 0.1293 - accuracy: 0.9744 - val_loss: 0.9116 - val_accuracy: 0.7090\n",
      "Epoch 98/100\n",
      "3/3 [==============================] - 0s 55ms/step - loss: 0.1389 - accuracy: 0.9744 - val_loss: 0.9126 - val_accuracy: 0.7090\n",
      "Epoch 99/100\n",
      "1/3 [=========>....................] - ETA: 0s - loss: 0.1038 - accuracy: 0.9844"
     ]
    },
    {
     "name": "stderr",
     "output_type": "stream",
     "text": [
      "WARNING:absl:Found untraced functions such as _jit_compiled_convolution_op, _jit_compiled_convolution_op, lstm_cell_layer_call_fn, lstm_cell_layer_call_and_return_conditional_losses, lstm_cell_1_layer_call_fn while saving (showing 5 of 6). These functions will not be directly callable after loading.\n"
     ]
    },
    {
     "name": "stdout",
     "output_type": "stream",
     "text": [
      "INFO:tensorflow:Assets written to: C:\\Users\\Ojumu PC\\assets\n"
     ]
    },
    {
     "name": "stderr",
     "output_type": "stream",
     "text": [
      "INFO:tensorflow:Assets written to: C:\\Users\\Ojumu PC\\assets\n"
     ]
    },
    {
     "name": "stdout",
     "output_type": "stream",
     "text": [
      "3/3 [==============================] - 36s 18s/step - loss: 0.1256 - accuracy: 0.9679 - val_loss: 0.8838 - val_accuracy: 0.7313\n",
      "Epoch 100/100\n",
      "3/3 [==============================] - 0s 55ms/step - loss: 0.1217 - accuracy: 0.9808 - val_loss: 0.9402 - val_accuracy: 0.7164\n"
     ]
    }
   ],
   "source": [
    "# Train your model with the ModelCheckpoint callback\n",
    "history = model.fit(\n",
    "    x_train,\n",
    "    y_train,\n",
    "    batch_size=128,\n",
    "    epochs=100, \n",
    "    validation_data=(x_test, y_test),  \n",
    "    callbacks=[model_checkpoint_callback]  \n",
    ")"
   ]
  },
  {
   "cell_type": "code",
   "execution_count": 76,
   "id": "d4174fda-28a3-4378-8958-fa70afb183eb",
   "metadata": {},
   "outputs": [
    {
     "data": {
      "text/plain": [
       "array([0., 1.])"
      ]
     },
     "execution_count": 76,
     "metadata": {},
     "output_type": "execute_result"
    }
   ],
   "source": [
    "np.unique(y_train)"
   ]
  },
  {
   "cell_type": "code",
   "execution_count": 77,
   "id": "b8540bc8",
   "metadata": {},
   "outputs": [
    {
     "name": "stdout",
     "output_type": "stream",
     "text": [
      "5/5 [==============================] - 0s 7ms/step - loss: 0.9402 - accuracy: 0.7164\n"
     ]
    },
    {
     "data": {
      "text/plain": [
       "[0.9401970505714417, 0.7164179086685181]"
      ]
     },
     "execution_count": 77,
     "metadata": {},
     "output_type": "execute_result"
    }
   ],
   "source": [
    "model.evaluate(x_test,y_test)"
   ]
  },
  {
   "cell_type": "code",
   "execution_count": 78,
   "id": "de429b11",
   "metadata": {},
   "outputs": [
    {
     "name": "stdout",
     "output_type": "stream",
     "text": [
      "10/10 [==============================] - 0s 8ms/step - loss: 0.6049 - accuracy: 0.9327\n"
     ]
    },
    {
     "data": {
      "text/plain": [
       "[0.6048668026924133, 0.932692289352417]"
      ]
     },
     "execution_count": 78,
     "metadata": {},
     "output_type": "execute_result"
    }
   ],
   "source": [
    "model.evaluate(x_train,y_train)"
   ]
  },
  {
   "cell_type": "code",
   "execution_count": 79,
   "id": "838b59df",
   "metadata": {},
   "outputs": [
    {
     "name": "stdout",
     "output_type": "stream",
     "text": [
      "5/5 [==============================] - 2s 6ms/step\n"
     ]
    }
   ],
   "source": [
    "### using the model to predict\n",
    "y_pred_labels = model.predict(x_test)\n",
    "lstm_y_pred  = np.argmax(y_pred_labels,axis=1)"
   ]
  },
  {
   "cell_type": "code",
   "execution_count": 80,
   "id": "2389ec4e",
   "metadata": {},
   "outputs": [],
   "source": [
    "y_true = np.argmax(y_test,axis=1)"
   ]
  },
  {
   "cell_type": "code",
   "execution_count": 81,
   "id": "63471e19",
   "metadata": {},
   "outputs": [],
   "source": [
    "# calculate the F1-score, precision, and recall\n",
    "f1score = f1_score(y_true, lstm_y_pred,average='weighted')\n",
    "precision = precision_score(y_true, lstm_y_pred,average='weighted')\n",
    "recall = recall_score(y_true, lstm_y_pred,average='weighted')\n",
    "accuracy = accuracy_score(y_true,lstm_y_pred)"
   ]
  },
  {
   "cell_type": "code",
   "execution_count": 82,
   "id": "14d3ac42",
   "metadata": {},
   "outputs": [
    {
     "name": "stdout",
     "output_type": "stream",
     "text": [
      "F1-score: 0.65\n",
      "Precision: 0.63\n",
      "Recall: 0.72\n",
      "Accuracy: 0.72\n"
     ]
    }
   ],
   "source": [
    "print('F1-score: {:.2f}'.format(f1score))\n",
    "print('Precision: {:.2f}'.format(precision))\n",
    "print('Recall: {:.2f}'.format(recall))\n",
    "print('Accuracy: {:.2f}'.format(accuracy))"
   ]
  },
  {
   "cell_type": "code",
   "execution_count": 83,
   "id": "c06486ee",
   "metadata": {},
   "outputs": [
    {
     "name": "stdout",
     "output_type": "stream",
     "text": [
      "LSTM Model Classification Report \n",
      " -----------------------------\n",
      "Accuracy: 0.72\n",
      "              precision    recall  f1-score   support\n",
      "\n",
      "          No       0.75      0.94      0.84        52\n",
      "        Mild       0.08      0.07      0.08        14\n",
      "    Moderate       0.00      0.00      0.00        12\n",
      "      Severe       0.50      0.09      0.15        11\n",
      " Very Severe       0.85      1.00      0.92        45\n",
      "\n",
      "    accuracy                           0.72       134\n",
      "   macro avg       0.44      0.42      0.40       134\n",
      "weighted avg       0.63      0.72      0.65       134\n",
      "\n"
     ]
    }
   ],
   "source": [
    "print('LSTM Model Classification Report \\n -----------------------------')\n",
    "accuracy = accuracy_score(y_true,lstm_y_pred)\n",
    "print(\"Accuracy: {:.2f}\".format(accuracy))\n",
    "print(classification_report(y_true, lstm_y_pred,\n",
    "                            target_names=['No','Mild','Moderate', 'Severe', 'Very Severe']))"
   ]
  },
  {
   "cell_type": "code",
   "execution_count": 86,
   "id": "f21a1281",
   "metadata": {},
   "outputs": [
    {
     "data": {
      "image/png": "[encoded data removed]",
      "text/plain": [
       "<Figure size 800x600 with 2 Axes>"
      ]
     },
     "metadata": {},
     "output_type": "display_data"
    }
   ],
   "source": [
    "# Generate the confusion matrix\n",
    "conf_mat = confusion_matrix(y_true, lstm_y_pred)\n",
    "\n",
    "# Plot the confusion matrix as a heatmap\n",
    "plt.figure(figsize=(8, 6))\n",
    "sns.heatmap(conf_mat, cmap=\"GnBu\", annot=True, fmt=\"d\", xticklabels=['No','Mild','Moderate', 'Severe', 'Very Severe'],\n",
    "            yticklabels=['No','Mild','Moderate', 'Severe', 'Very Severe'])\n",
    "plt.title(\"Confusion Matrix for the LSTM Model\")\n",
    "plt.ylabel(\"True Label\")\n",
    "plt.xlabel(\"Predicted Label\");\n",
    "#plt.savefig('confusion_matrix.png')"
   ]
  },
  {
   "cell_type": "code",
   "execution_count": null,
   "id": "583f6dbf",
   "metadata": {},
   "outputs": [],
   "source": []
  }
 ],
 "metadata": {
  "kernelspec": {
   "display_name": "Python 3 (ipykernel)",
   "language": "python",
   "name": "python3"
  },
  "language_info": {
   "codemirror_mode": {
    "name": "ipython",
    "version": 3
   },
   "file_extension": ".py",
   "mimetype": "text/x-python",
   "name": "python",
   "nbconvert_exporter": "python",
   "pygments_lexer": "ipython3",
   "version": "3.9.7"
  }
 },
 "nbformat": 4,
 "nbformat_minor": 5
}
